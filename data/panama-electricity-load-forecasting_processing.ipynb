{
 "cells": [
  {
   "cell_type": "code",
   "execution_count": 5,
   "metadata": {},
   "outputs": [],
   "source": [
    "import pandas as pd\n",
    "import os\n",
    "\n",
    "data_dir = 'panama-electricity-load-forecasting/orig/'\n",
    "save_dir = 'panama-electricity-load-forecasting/processed/'\n",
    "\n",
    "train_df = pd.read_csv(os.path.join(data_dir, 'train.csv'))\n",
    "\n",
    "test_df = pd.read_csv(os.path.join(data_dir, 'Test_Jan.csv'))\n",
    "test_labels = pd.read_csv(os.path.join(data_dir, 'Predict_Jan.csv'))\n",
    "test_df = pd.merge(left=test_df.drop(columns=['nat_demand']), right=test_labels, on='datetime')"
   ]
  },
  {
   "cell_type": "code",
   "execution_count": 6,
   "metadata": {},
   "outputs": [],
   "source": [
    "train_df['datetime'] = pd.to_datetime(train_df['datetime'], format=\"%d-%m-%Y %H:%M\")\n",
    "test_df['datetime'] = pd.to_datetime(test_df['datetime'], format=\"%d-%m-%Y %H:%M\")"
   ]
  },
  {
   "cell_type": "code",
   "execution_count": 7,
   "metadata": {},
   "outputs": [],
   "source": [
    "train_df.to_parquet(os.path.join(save_dir, 'train.parquet'), index=False)\n",
    "test_df.to_parquet(os.path.join(save_dir, 'test.parquet'), index=False)"
   ]
  }
 ],
 "metadata": {
  "kernelspec": {
   "display_name": "base",
   "language": "python",
   "name": "python3"
  },
  "language_info": {
   "codemirror_mode": {
    "name": "ipython",
    "version": 3
   },
   "file_extension": ".py",
   "mimetype": "text/x-python",
   "name": "python",
   "nbconvert_exporter": "python",
   "pygments_lexer": "ipython3",
   "version": "3.12.7"
  }
 },
 "nbformat": 4,
 "nbformat_minor": 2
}
