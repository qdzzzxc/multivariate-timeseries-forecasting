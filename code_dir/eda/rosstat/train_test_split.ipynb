{
 "cells": [
  {
   "cell_type": "code",
   "execution_count": 1,
   "metadata": {},
   "outputs": [],
   "source": [
    "import os\n",
    "import pandas as pd\n",
    "\n",
    "from tqdm.notebook import tqdm\n",
    "\n",
    "DATA_DIR = '../../../data/rosstat/processed'"
   ]
  },
  {
   "cell_type": "code",
   "execution_count": 2,
   "metadata": {},
   "outputs": [],
   "source": [
    "economics_df = pd.read_csv(os.path.join(DATA_DIR, 'result_economics_df_v1_0.csv'))"
   ]
  },
  {
   "cell_type": "code",
   "execution_count": 3,
   "metadata": {},
   "outputs": [
    {
     "data": {
      "text/plain": [
       "count\n",
       "84    69\n",
       "60     1\n",
       "Name: count, dtype: int64"
      ]
     },
     "execution_count": 3,
     "metadata": {},
     "output_type": "execute_result"
    }
   ],
   "source": [
    "vc = economics_df['code'].value_counts()\n",
    "vc.value_counts()"
   ]
  },
  {
   "cell_type": "code",
   "execution_count": 4,
   "metadata": {},
   "outputs": [],
   "source": [
    "save_codes = list(vc[vc == 84].index)\n",
    "economics_df = economics_df[economics_df['code'].isin(save_codes)]"
   ]
  },
  {
   "cell_type": "code",
   "execution_count": 5,
   "metadata": {},
   "outputs": [],
   "source": [
    "assert economics_df.groupby(['code'])['date'].min().nunique() == 1\n",
    "assert economics_df.groupby(['code'])['date'].max().nunique() == 1"
   ]
  },
  {
   "cell_type": "code",
   "execution_count": 6,
   "metadata": {},
   "outputs": [
    {
     "data": {
      "application/vnd.jupyter.widget-view+json": {
       "model_id": "8b37c8288ced4bb590f63536287b2ec8",
       "version_major": 2,
       "version_minor": 0
      },
      "text/plain": [
       "  0%|          | 0/69 [00:00<?, ?it/s]"
      ]
     },
     "metadata": {},
     "output_type": "display_data"
    },
    {
     "name": "stdout",
     "output_type": "stream",
     "text": [
      "Обучающая выборка: 4140 строк\n",
      "Валидационная выборка: 828 строк\n",
      "Тестовая выборка: 828 строк\n"
     ]
    },
    {
     "name": "stderr",
     "output_type": "stream",
     "text": [
      "/tmp/ipykernel_14655/4089913677.py:25: SettingWithCopyWarning: \n",
      "A value is trying to be set on a copy of a slice from a DataFrame\n",
      "\n",
      "See the caveats in the documentation: https://pandas.pydata.org/pandas-docs/stable/user_guide/indexing.html#returning-a-view-versus-a-copy\n",
      "  train_df.drop(columns=columns2drop, inplace=True)\n",
      "/tmp/ipykernel_14655/4089913677.py:26: SettingWithCopyWarning: \n",
      "A value is trying to be set on a copy of a slice from a DataFrame\n",
      "\n",
      "See the caveats in the documentation: https://pandas.pydata.org/pandas-docs/stable/user_guide/indexing.html#returning-a-view-versus-a-copy\n",
      "  val_df.drop(columns=columns2drop, inplace=True)\n",
      "/tmp/ipykernel_14655/4089913677.py:27: SettingWithCopyWarning: \n",
      "A value is trying to be set on a copy of a slice from a DataFrame\n",
      "\n",
      "See the caveats in the documentation: https://pandas.pydata.org/pandas-docs/stable/user_guide/indexing.html#returning-a-view-versus-a-copy\n",
      "  test_df.drop(columns=columns2drop, inplace=True)\n"
     ]
    }
   ],
   "source": [
    "df_copy = economics_df.copy()\n",
    "df_copy['year'] = pd.to_datetime(df_copy['date']).dt.year\n",
    "\n",
    "df_copy['split'] = 'train'\n",
    "\n",
    "for code in tqdm(df_copy['code'].unique()):\n",
    "    code_data = df_copy[df_copy['code'] == code]\n",
    "    \n",
    "    years = sorted(code_data['year'].unique())\n",
    "    \n",
    "    assert len(years) >= 3\n",
    "\n",
    "    last_year = years[-1]\n",
    "    second_last_year = years[-2]\n",
    "    \n",
    "    df_copy.loc[(df_copy['code'] == code) & (df_copy['year'] == last_year), 'split'] = 'test'\n",
    "    \n",
    "    df_copy.loc[(df_copy['code'] == code) & (df_copy['year'] == second_last_year), 'split'] = 'val'\n",
    "\n",
    "train_df = df_copy[df_copy['split'] == 'train']\n",
    "val_df = df_copy[df_copy['split'] == 'val']\n",
    "test_df = df_copy[df_copy['split'] == 'test']\n",
    "\n",
    "columns2drop = ['year', 'split']\n",
    "train_df.drop(columns=columns2drop, inplace=True)\n",
    "val_df.drop(columns=columns2drop, inplace=True)\n",
    "test_df.drop(columns=columns2drop, inplace=True)\n",
    "\n",
    "print(f\"Обучающая выборка: {train_df.shape[0]} строк\")\n",
    "print(f\"Валидационная выборка: {val_df.shape[0]} строк\")\n",
    "print(f\"Тестовая выборка: {test_df.shape[0]} строк\")\n",
    "\n",
    "assert set(train_df['code'].unique()) == set(val_df['code'].unique()) == set(test_df['code'].unique()), 'Не все группы по code успешно разделены'"
   ]
  },
  {
   "cell_type": "code",
   "execution_count": 7,
   "metadata": {},
   "outputs": [],
   "source": [
    "names = ['train', 'val', 'test']\n",
    "\n",
    "for name in names:\n",
    "    df = eval(f'{name}_df')\n",
    "    file_path = os.path.join(DATA_DIR, name, 'data.csv')\n",
    "    os.makedirs(os.path.dirname(file_path), exist_ok=True)\n",
    "\n",
    "    df.to_csv(file_path, index=False)"
   ]
  }
 ],
 "metadata": {
  "kernelspec": {
   "display_name": "base",
   "language": "python",
   "name": "python3"
  },
  "language_info": {
   "codemirror_mode": {
    "name": "ipython",
    "version": 3
   },
   "file_extension": ".py",
   "mimetype": "text/x-python",
   "name": "python",
   "nbconvert_exporter": "python",
   "pygments_lexer": "ipython3",
   "version": "3.12.7"
  }
 },
 "nbformat": 4,
 "nbformat_minor": 2
}
