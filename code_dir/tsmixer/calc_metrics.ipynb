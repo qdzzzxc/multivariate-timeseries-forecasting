{
 "cells": [
  {
   "cell_type": "code",
   "execution_count": 14,
   "metadata": {},
   "outputs": [],
   "source": [
    "import sys\n",
    "\n",
    "import joblib\n",
    "import mlflow\n",
    "import pandas as pd\n",
    "import numpy as np\n",
    "\n",
    "import torch\n",
    "from torch.utils.data import DataLoader\n",
    "\n",
    "sys.path.append('..')\n",
    "\n",
    "from utils import get_quantile_from_median, calculate_sklearn_metrics, plot_single_forecast\n",
    "from dataset import TimeSeriesDataset"
   ]
  },
  {
   "cell_type": "code",
   "execution_count": 2,
   "metadata": {},
   "outputs": [],
   "source": [
    "target_columns = 'nat_demand'\n",
    "column_for_scale = ['T2M_toc', 'QV2M_toc', 'TQL_toc', 'W2M_toc', 'T2M_san', 'QV2M_san',\n",
    "       'TQL_san', 'W2M_san', 'T2M_dav', 'QV2M_dav', 'TQL_dav', 'W2M_dav']\n",
    "\n",
    "seq_length = 128\n",
    "pred_length = 24\n",
    "stride = 1\n",
    "\n",
    "target_scaler = joblib.load('./joblib_artifacts/target_scaler.joblib')\n",
    "scaler = joblib.load('./joblib_artifacts/scaler.joblib')\n",
    "\n",
    "target_col = target_columns\n",
    "past_covariates = column_for_scale\n",
    "known_covariates = [\"holiday\", \"school\"]"
   ]
  },
  {
   "cell_type": "code",
   "execution_count": 3,
   "metadata": {},
   "outputs": [],
   "source": [
    "train_df = pd.read_parquet('../../data/panama-electricity-load-forecasting/processed/train.parquet').drop(columns=['Holiday_ID'])\n",
    "test_df = pd.read_parquet('../../data/panama-electricity-load-forecasting/processed/test.parquet').drop(columns=['Holiday_ID'])\n",
    "true_test_df = test_df.copy()\n",
    "test_df = pd.concat([train_df[-(seq_length + pred_length - 1):], test_df], axis=0).reset_index(drop=True)\n",
    "del train_df\n",
    "\n",
    "test_scaled = test_df.copy()\n",
    "\n",
    "features_scaled = scaler.transform(test_df[column_for_scale])\n",
    "test_scaled[column_for_scale] = features_scaled\n",
    "\n",
    "features_scaled = target_scaler.transform(test_df[[target_columns]])\n",
    "test_scaled[[target_columns]] = features_scaled"
   ]
  },
  {
   "cell_type": "code",
   "execution_count": 4,
   "metadata": {},
   "outputs": [
    {
     "data": {
      "text/plain": [
       "744"
      ]
     },
     "execution_count": 4,
     "metadata": {},
     "output_type": "execute_result"
    }
   ],
   "source": [
    "test_dataset = TimeSeriesDataset(\n",
    "    test_scaled,\n",
    "    target_col=target_col,\n",
    "    past_covariates=past_covariates,\n",
    "    known_covariates=known_covariates,\n",
    "    seq_length=seq_length,\n",
    "    pred_length=pred_length,\n",
    "    stride=stride,\n",
    ")\n",
    "\n",
    "len(test_dataset)"
   ]
  },
  {
   "cell_type": "code",
   "execution_count": 5,
   "metadata": {},
   "outputs": [],
   "source": [
    "device = torch.device('cuda' if torch.cuda.is_available() else 'cpu')\n",
    "model = torch.load('best_model_full_5879.pth', map_location=device, weights_only=False)"
   ]
  },
  {
   "cell_type": "code",
   "execution_count": 6,
   "metadata": {},
   "outputs": [],
   "source": [
    "def collate_fn(batch):\n",
    "    x_hist = torch.stack([item[\"x_hist\"] for item in batch])\n",
    "    x_extra_hist = torch.stack([item[\"x_extra_hist\"] for item in batch])\n",
    "    x_extra_future = torch.stack([item[\"x_extra_future\"] for item in batch])\n",
    "    x_static = torch.stack([item[\"x_static\"] for item in batch])\n",
    "    y = torch.stack([item[\"y\"] for item in batch])\n",
    "    \n",
    "    return {\n",
    "        \"x_hist\": x_hist,\n",
    "        \"x_extra_hist\": x_extra_hist,\n",
    "        \"x_extra_future\": x_extra_future,\n",
    "        \"x_static\": x_static,\n",
    "        \"y\": y,\n",
    "    }\n",
    "\n",
    "batch_size = 1\n",
    "\n",
    "test_loader = DataLoader(\n",
    "    test_dataset,\n",
    "    batch_size=batch_size,\n",
    "    shuffle=False,\n",
    "    collate_fn=collate_fn,\n",
    ")"
   ]
  },
  {
   "cell_type": "code",
   "execution_count": 7,
   "metadata": {},
   "outputs": [
    {
     "name": "stdout",
     "output_type": "stream",
     "text": [
      "743\n"
     ]
    }
   ],
   "source": [
    "model.eval()\n",
    "\n",
    "all_predictions = []\n",
    "all_true_values = []\n",
    "\n",
    "with torch.no_grad():\n",
    "    for i in range(0, len(test_dataset) - pred_length + 1, pred_length): # len(test_dataset) - pred_length + 1\n",
    "        sample = test_dataset[i]\n",
    "\n",
    "        x_hist = sample[\"x_hist\"].unsqueeze(0).to(device)\n",
    "        x_extra_hist = sample[\"x_extra_hist\"].unsqueeze(0).to(device)\n",
    "        x_extra_future = sample[\"x_extra_future\"].unsqueeze(0).to(device)\n",
    "        x_static = sample[\"x_static\"].unsqueeze(0).to(device)\n",
    "        y = sample[\"y\"].unsqueeze(0).to(device)\n",
    "\n",
    "        y_pred = model.forward(\n",
    "            x_hist=x_hist,\n",
    "            x_extra_hist=x_extra_hist,\n",
    "            x_extra_future=x_extra_future,\n",
    "            x_static=x_static,\n",
    "        )\n",
    "\n",
    "        y_pred_np = y_pred.cpu().numpy().squeeze()\n",
    "        y_np = y.cpu().numpy().squeeze()\n",
    "\n",
    "        all_predictions.extend(y_pred_np.tolist())\n",
    "        all_true_values.extend(y_np.tolist())\n",
    "\n",
    "    len_diff = len(true_test_df) - len(all_predictions) + (pred_length - 1)\n",
    "    if len_diff > 0:\n",
    "        start_idx = len(test_dataset) - int(np.ceil(len_diff / seq_length))\n",
    "        print(start_idx)\n",
    "        sample = test_dataset[start_idx]\n",
    "\n",
    "        x_hist = sample[\"x_hist\"].unsqueeze(0).to(device)\n",
    "        x_extra_hist = sample[\"x_extra_hist\"].unsqueeze(0).to(device)\n",
    "        x_extra_future = sample[\"x_extra_future\"].unsqueeze(0).to(device)\n",
    "        x_static = sample[\"x_static\"].unsqueeze(0).to(device)\n",
    "        y = sample[\"y\"].unsqueeze(0).to(device)\n",
    "\n",
    "        y_pred = model.forward(\n",
    "            x_hist=x_hist,\n",
    "            x_extra_hist=x_extra_hist,\n",
    "            x_extra_future=x_extra_future,\n",
    "            x_static=x_static,\n",
    "        )\n",
    "\n",
    "        y_pred_np = y_pred.cpu().numpy().squeeze()\n",
    "        y_np = y.cpu().numpy().squeeze()\n",
    "\n",
    "        all_predictions.extend(y_pred_np.tolist()[1:len_diff + 1])\n",
    "        all_true_values.extend(y_np.tolist()[1:len_diff + 1])\n",
    "\n",
    "all_predictions = np.array(all_predictions)\n",
    "all_true_values = np.array(all_true_values)\n",
    "\n",
    "all_predictions = target_scaler.inverse_transform(all_predictions.reshape(-1, 1)).flatten()[pred_length - 1:]\n",
    "all_true_values = target_scaler.inverse_transform(all_true_values.reshape(-1, 1)).flatten()[pred_length - 1:]"
   ]
  },
  {
   "cell_type": "code",
   "execution_count": 12,
   "metadata": {},
   "outputs": [
    {
     "data": {
      "text/plain": [
       "{'MSE': 8331.413879358934,\n",
       " 'MAE': 64.29265843312172,\n",
       " 'MAPE': 5.043243667398649,\n",
       " 'MASE': 1.5926946518470564,\n",
       " 'SQL': 24.924481339562107}"
      ]
     },
     "execution_count": 12,
     "metadata": {},
     "output_type": "execute_result"
    }
   ],
   "source": [
    "slice_index = test_df.shape[0] - all_predictions.shape[0]\n",
    "\n",
    "results_df = pd.DataFrame()\n",
    "\n",
    "results_df['data'] = test_df[slice_index:]['datetime']\n",
    "results_df['y_pred'] = all_predictions\n",
    "results_df['y_true'] = test_df[slice_index:][target_col]\n",
    "\n",
    "df_for_metrics = results_df.copy().rename(columns={'y_pred': '0.5', 'y_true': 'target'})\n",
    "df_for_metrics['0.1'] = get_quantile_from_median(df_for_metrics['0.5'].values, target_quantile=0.1)\n",
    "df_for_metrics['0.9'] = get_quantile_from_median(df_for_metrics['0.5'].values, target_quantile=0.9)\n",
    "sklearn_metrics = calculate_sklearn_metrics(df_for_metrics)\n",
    "sklearn_metrics"
   ]
  },
  {
   "cell_type": "code",
   "execution_count": 2,
   "metadata": {},
   "outputs": [
    {
     "ename": "NameError",
     "evalue": "name 'plot_single_forecast' is not defined",
     "output_type": "error",
     "traceback": [
      "\u001b[0;31m---------------------------------------------------------------------------\u001b[0m",
      "\u001b[0;31mNameError\u001b[0m                                 Traceback (most recent call last)",
      "Cell \u001b[0;32mIn[2], line 12\u001b[0m\n\u001b[1;32m      9\u001b[0m height \u001b[38;5;241m=\u001b[39m \u001b[38;5;241m600\u001b[39m\n\u001b[1;32m     10\u001b[0m width \u001b[38;5;241m=\u001b[39m \u001b[38;5;241m1800\u001b[39m\n\u001b[0;32m---> 12\u001b[0m plot_single_forecast(df_for_metrics, timestamp_col\u001b[38;5;241m=\u001b[39mtimestamp_col, actual_col\u001b[38;5;241m=\u001b[39mactual_col, pred_col\u001b[38;5;241m=\u001b[39mpred_col, model_name\u001b[38;5;241m=\u001b[39mmodel_name, height\u001b[38;5;241m=\u001b[39mheight, width\u001b[38;5;241m=\u001b[39mwidth, lower_col\u001b[38;5;241m=\u001b[39mlower_col, upper_col\u001b[38;5;241m=\u001b[39mupper_col)\n",
      "\u001b[0;31mNameError\u001b[0m: name 'plot_single_forecast' is not defined"
     ]
    }
   ],
   "source": [
    "lower_col = '0.1'\n",
    "pred_col = '0.5'\n",
    "upper_col = '0.9'\n",
    "\n",
    "actual_col = 'target'\n",
    "timestamp_col = 'data'\n",
    "model_name = 'TSMixer'\n",
    "\n",
    "height = 600\n",
    "width = 1800\n",
    "\n",
    "plot_single_forecast(df_for_metrics, timestamp_col=timestamp_col, actual_col=actual_col, pred_col=pred_col, model_name=model_name, height=height, width=width, lower_col=lower_col, upper_col=upper_col)"
   ]
  },
  {
   "cell_type": "code",
   "execution_count": 1,
   "metadata": {},
   "outputs": [
    {
     "ename": "NameError",
     "evalue": "name 'model_name' is not defined",
     "output_type": "error",
     "traceback": [
      "\u001b[0;31m---------------------------------------------------------------------------\u001b[0m",
      "\u001b[0;31mNameError\u001b[0m                                 Traceback (most recent call last)",
      "Cell \u001b[0;32mIn[1], line 1\u001b[0m\n\u001b[0;32m----> 1\u001b[0m run_name \u001b[38;5;241m=\u001b[39m model_name\n\u001b[1;32m      3\u001b[0m mlflow\u001b[38;5;241m.\u001b[39mset_tracking_uri(\u001b[38;5;124m\"\u001b[39m\u001b[38;5;124mhttp://127.0.0.1:5000\u001b[39m\u001b[38;5;124m\"\u001b[39m)\n\u001b[1;32m      4\u001b[0m mlflow\u001b[38;5;241m.\u001b[39mset_experiment(\u001b[38;5;124m\"\u001b[39m\u001b[38;5;124mTime_Series_Forecasting\u001b[39m\u001b[38;5;124m\"\u001b[39m)\n",
      "\u001b[0;31mNameError\u001b[0m: name 'model_name' is not defined"
     ]
    }
   ],
   "source": [
    "run_name = model_name\n",
    "\n",
    "mlflow.set_tracking_uri(\"http://127.0.0.1:5000\")\n",
    "mlflow.set_experiment(\"Time_Series_Forecasting\")\n",
    "\n",
    "with mlflow.start_run(run_name=run_name):\n",
    "        mlflow.log_metrics(sklearn_metrics)\n",
    "        mlflow.log_param(\"model_name\", model_name)\n",
    "\n",
    "        mlflow.set_tag(\"prefix\", 'AllData')"
   ]
  }
 ],
 "metadata": {
  "kernelspec": {
   "display_name": "base",
   "language": "python",
   "name": "python3"
  },
  "language_info": {
   "codemirror_mode": {
    "name": "ipython",
    "version": 3
   },
   "file_extension": ".py",
   "mimetype": "text/x-python",
   "name": "python",
   "nbconvert_exporter": "python",
   "pygments_lexer": "ipython3",
   "version": "3.12.7"
  }
 },
 "nbformat": 4,
 "nbformat_minor": 2
}
