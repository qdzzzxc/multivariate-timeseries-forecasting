{
 "cells": [
  {
   "cell_type": "code",
   "execution_count": 1,
   "metadata": {},
   "outputs": [],
   "source": [
    "import sys\n",
    "import os\n",
    "\n",
    "import joblib\n",
    "import mlflow\n",
    "import pandas as pd\n",
    "\n",
    "import torch\n",
    "from torch.utils.data import DataLoader\n",
    "from sklearn.preprocessing import MinMaxScaler, StandardScaler\n",
    "\n",
    "sys.path.append('../..')\n",
    "\n",
    "from utils import get_quantile_from_median, calculate_sklearn_metrics\n",
    "from torch_utils import TimeSeriesDataset, collate_fn\n",
    "\n",
    "mlflow.set_tracking_uri(\"http://127.0.0.1:5000\")\n",
    "mlflow.set_experiment(\"rosstat_forecasting\");"
   ]
  },
  {
   "cell_type": "code",
   "execution_count": 2,
   "metadata": {},
   "outputs": [
    {
     "name": "stdout",
     "output_type": "stream",
     "text": [
      "Обучающая выборка: 4140 строк\n",
      "Валидационная выборка: 828 строк\n",
      "Тестовая выборка: 828 строк\n"
     ]
    }
   ],
   "source": [
    "data_dir = '../../../data/rosstat/processed'\n",
    "\n",
    "train_df = pd.read_csv(os.path.join(data_dir, 'train/data.csv'))\n",
    "val_df = pd.read_csv(os.path.join(data_dir, 'val/data.csv'))\n",
    "test_df = pd.read_csv(os.path.join(data_dir, 'test/data.csv'))\n",
    "\n",
    "print(f\"Обучающая выборка: {train_df.shape[0]} строк\")\n",
    "print(f\"Валидационная выборка: {val_df.shape[0]} строк\")\n",
    "print(f\"Тестовая выборка: {test_df.shape[0]} строк\")"
   ]
  },
  {
   "cell_type": "code",
   "execution_count": null,
   "metadata": {},
   "outputs": [],
   "source": [
    "TARGET_COL = \"nominal_wage\"\n",
    "PAST_COVARIATES = [\n",
    "    \"capital_labor_ratio_change\",\n",
    "    \"capital_productivity_change\",\n",
    "    \"fixed_assets_renewal_comparable_prices\",\n",
    "    \"labor_productivity\",\n",
    "    \"high_productivity_jobs\",\n",
    "    \"machinery_share_in_total_assets\",\n",
    "    \"investment_share_for_modernization\",\n",
    "    \"production_index_yoy\",\n",
    "    \"production_index_mom\",\n",
    "]\n",
    "KNOWN_COVARIATES = []\n",
    "seq_length = 12\n",
    "pred_length = 2\n",
    "stride = 1\n",
    "device = torch.device('cuda' if torch.cuda.is_available() else 'cpu')"
   ]
  },
  {
   "cell_type": "markdown",
   "metadata": {},
   "source": [
    "## Нормализация"
   ]
  },
  {
   "cell_type": "code",
   "execution_count": 1,
   "metadata": {},
   "outputs": [
    {
     "ename": "NameError",
     "evalue": "name 'PAST_COVARIATES' is not defined",
     "output_type": "error",
     "traceback": [
      "\u001b[0;31m---------------------------------------------------------------------------\u001b[0m",
      "\u001b[0;31mNameError\u001b[0m                                 Traceback (most recent call last)",
      "Cell \u001b[0;32mIn[1], line 3\u001b[0m\n\u001b[1;32m      1\u001b[0m \u001b[38;5;66;03m# Нормализация по code\u001b[39;00m\n\u001b[0;32m----> 3\u001b[0m scale_columns \u001b[38;5;241m=\u001b[39m PAST_COVARIATES \u001b[38;5;241m+\u001b[39m [TARGET_COL]\n\u001b[1;32m      5\u001b[0m all_codes \u001b[38;5;241m=\u001b[39m train_df[\u001b[38;5;124m'\u001b[39m\u001b[38;5;124mcode\u001b[39m\u001b[38;5;124m'\u001b[39m]\u001b[38;5;241m.\u001b[39munique()\n\u001b[1;32m      7\u001b[0m os\u001b[38;5;241m.\u001b[39mmakedirs(\u001b[38;5;124m'\u001b[39m\u001b[38;5;124m./artifacts\u001b[39m\u001b[38;5;124m'\u001b[39m, exist_ok\u001b[38;5;241m=\u001b[39m\u001b[38;5;28;01mTrue\u001b[39;00m)\n",
      "\u001b[0;31mNameError\u001b[0m: name 'PAST_COVARIATES' is not defined"
     ]
    }
   ],
   "source": [
    "# Нормализация по code\n",
    "\n",
    "scale_columns = PAST_COVARIATES + [TARGET_COL]\n",
    "\n",
    "all_codes = train_df['code'].unique()\n",
    "\n",
    "os.makedirs('./artifacts', exist_ok=True)\n",
    "\n",
    "train_scaled = train_df.copy()\n",
    "val_scaled = val_df.copy()\n",
    "test_scaled = test_df.copy()\n",
    "\n",
    "for code in all_codes:\n",
    "    scaler = MinMaxScaler(feature_range=(0, 1))\n",
    "    \n",
    "    code_mask_train = train_df['code'] == code\n",
    "    code_mask_val = val_df['code'] == code\n",
    "    code_mask_test = test_df['code'] == code\n",
    "    \n",
    "    if sum(code_mask_train) > 0:\n",
    "        features_scaled = scaler.fit_transform(train_df.loc[code_mask_train, scale_columns])\n",
    "        train_scaled.loc[code_mask_train, scale_columns] = features_scaled\n",
    "        \n",
    "        if sum(code_mask_val) > 0:\n",
    "            features_scaled = scaler.transform(val_df.loc[code_mask_val, scale_columns])\n",
    "            val_scaled.loc[code_mask_val, scale_columns] = features_scaled\n",
    "            \n",
    "        if sum(code_mask_test) > 0:\n",
    "            features_scaled = scaler.transform(test_df.loc[code_mask_test, scale_columns])\n",
    "            test_scaled.loc[code_mask_test, scale_columns] = features_scaled\n",
    "        \n",
    "        joblib.dump(scaler, f'./artifacts/scaler_{code}.joblib')\n",
    "\n",
    "scaler_dict = {code: joblib.load(f'./artifacts/scaler_{code}.joblib') for code in all_codes}\n",
    "joblib.dump(scaler_dict, './artifacts/all_scalers.joblib')"
   ]
  },
  {
   "cell_type": "code",
   "execution_count": 5,
   "metadata": {},
   "outputs": [
    {
     "data": {
      "text/plain": [
       "['./artifacts/all_column_scalers.joblib']"
      ]
     },
     "execution_count": 5,
     "metadata": {},
     "output_type": "execute_result"
    }
   ],
   "source": [
    "# Нормализация по колонкам\n",
    "\n",
    "scale_columns = PAST_COVARIATES + [TARGET_COL]\n",
    "os.makedirs('./artifacts', exist_ok=True)\n",
    "\n",
    "train_scaled = train_df.copy()\n",
    "val_scaled = val_df.copy()\n",
    "test_scaled = test_df.copy()\n",
    "\n",
    "scalers = {}\n",
    "for column in scale_columns:\n",
    "    scaler = StandardScaler()\n",
    "    \n",
    "    train_scaled[column] = scaler.fit_transform(train_df[[column]])\n",
    "    val_scaled[column] = scaler.transform(val_df[[column]])\n",
    "    test_scaled[column] = scaler.transform(test_df[[column]])\n",
    "    \n",
    "    scalers[column] = scaler\n",
    "    joblib.dump(scaler, f'./artifacts/scaler_{column}.joblib')\n",
    "\n",
    "joblib.dump(scalers, './artifacts/all_column_scalers.joblib')"
   ]
  },
  {
   "cell_type": "markdown",
   "metadata": {},
   "source": [
    "## Создание датасета с учётом панельной структуры данных"
   ]
  },
  {
   "cell_type": "code",
   "execution_count": 6,
   "metadata": {},
   "outputs": [
    {
     "name": "stdout",
     "output_type": "stream",
     "text": [
      "Обучающий датасет: 3243 строк\n",
      "Валидационный датасет: 759 строк\n",
      "Тестовый датасет: 759 строк\n"
     ]
    }
   ],
   "source": [
    "train_datasets = []\n",
    "test_datasets = []\n",
    "val_datasets = []\n",
    "\n",
    "for code in train_df['code'].unique():\n",
    "    train_scaled_subset = train_scaled[train_scaled['code'].eq(code)].copy()\n",
    "    val_scaled_subset = val_scaled[val_scaled['code'].eq(code)].copy()\n",
    "    test_scaled_subset = test_scaled[test_scaled['code'].eq(code)].copy()\n",
    "\n",
    "    test_scaled_subset = pd.concat([val_scaled_subset[-seq_length:], test_scaled_subset])\n",
    "    val_scaled_subset = pd.concat([train_scaled_subset[-seq_length:], val_scaled_subset])\n",
    "\n",
    "    train_scaled_subset.sort_values(by=['date'], inplace=True)\n",
    "    test_scaled_subset.sort_values(by=['date'], inplace=True)\n",
    "    val_scaled_subset.sort_values(by=['date'], inplace=True)\n",
    "\n",
    "    train_dataset = TimeSeriesDataset(\n",
    "        train_scaled_subset,\n",
    "        target_col=TARGET_COL,\n",
    "        past_covariates=PAST_COVARIATES,\n",
    "        known_covariates=KNOWN_COVARIATES,\n",
    "        seq_length=seq_length,\n",
    "        pred_length=pred_length,\n",
    "        stride=stride,\n",
    "    )\n",
    "    train_datasets.append(train_dataset)\n",
    "\n",
    "    val_dataset = TimeSeriesDataset(\n",
    "        val_scaled_subset,\n",
    "        target_col=TARGET_COL,\n",
    "        past_covariates=PAST_COVARIATES,\n",
    "        known_covariates=KNOWN_COVARIATES,\n",
    "        seq_length=seq_length,\n",
    "        pred_length=pred_length,\n",
    "        stride=stride,\n",
    "    )\n",
    "    val_datasets.append(val_dataset)\n",
    "\n",
    "    test_dataset = TimeSeriesDataset(\n",
    "        test_scaled_subset,\n",
    "        target_col=TARGET_COL,\n",
    "        past_covariates=PAST_COVARIATES,\n",
    "        known_covariates=KNOWN_COVARIATES,\n",
    "        seq_length=seq_length,\n",
    "        pred_length=pred_length,\n",
    "        stride=stride,\n",
    "    )\n",
    "    test_datasets.append(test_dataset)\n",
    "\n",
    "train_dataset = torch.utils.data.ConcatDataset(train_datasets)\n",
    "val_dataset = torch.utils.data.ConcatDataset(val_datasets)\n",
    "test_dataset = torch.utils.data.ConcatDataset(test_datasets)\n",
    "\n",
    "print(f\"Обучающий датасет: {len(train_dataset)} строк\")\n",
    "print(f\"Валидационный датасет: {len(val_dataset)} строк\")\n",
    "print(f\"Тестовый датасет: {len(test_dataset)} строк\")"
   ]
  },
  {
   "cell_type": "code",
   "execution_count": 7,
   "metadata": {},
   "outputs": [],
   "source": [
    "batch_size = 32\n",
    "\n",
    "train_loader = DataLoader(\n",
    "    train_dataset,\n",
    "    batch_size=batch_size,\n",
    "    shuffle=True,\n",
    "    collate_fn=collate_fn,\n",
    ")\n",
    "\n",
    "val_loader = DataLoader(\n",
    "    val_dataset,\n",
    "    batch_size=batch_size,\n",
    "    shuffle=False,\n",
    "    collate_fn=collate_fn,\n",
    ")\n",
    "\n",
    "test_loader = DataLoader(\n",
    "    test_dataset,\n",
    "    batch_size=batch_size,\n",
    "    shuffle=False,\n",
    "    collate_fn=collate_fn,\n",
    ")"
   ]
  },
  {
   "cell_type": "code",
   "execution_count": 8,
   "metadata": {},
   "outputs": [],
   "source": [
    "from torchtsmixer import TSMixerExt\n",
    "\n",
    "input_channels = train_dataset[0]['x_hist'].shape[1]\n",
    "extra_channels = train_dataset[0]['x_extra_hist'].shape[1]\n",
    "static_channels = train_dataset[0]['x_static'].shape[0]"
   ]
  },
  {
   "cell_type": "code",
   "execution_count": 9,
   "metadata": {},
   "outputs": [
    {
     "data": {
      "application/vnd.jupyter.widget-view+json": {
       "model_id": "9acd70ee6aad4a14846be3f828e1836f",
       "version_major": 2,
       "version_minor": 0
      },
      "text/plain": [
       "Training:   0%|          | 0/100 [00:00<?, ?it/s]"
      ]
     },
     "metadata": {},
     "output_type": "display_data"
    },
    {
     "data": {
      "application/vnd.jupyter.widget-view+json": {
       "model_id": "e023323ceb7b45d2b132b529e12db527",
       "version_major": 2,
       "version_minor": 0
      },
      "text/plain": [
       "  0%|          | 0/102 [00:00<?, ?it/s]"
      ]
     },
     "metadata": {},
     "output_type": "display_data"
    },
    {
     "data": {
      "application/vnd.jupyter.widget-view+json": {
       "model_id": "af7dc4b47d624d62aa1fdf8ffbf790da",
       "version_major": 2,
       "version_minor": 0
      },
      "text/plain": [
       "Evaluating:   0%|          | 0/24 [00:00<?, ?it/s]"
      ]
     },
     "metadata": {},
     "output_type": "display_data"
    },
    {
     "name": "stdout",
     "output_type": "stream",
     "text": [
      "Epoch [1/100], Train: 0.6197, Val: 0.3072, RMSE: 0.5543\n"
     ]
    },
    {
     "data": {
      "application/vnd.jupyter.widget-view+json": {
       "model_id": "afc7dee7edc5486ca9e80ac20f9f7c02",
       "version_major": 2,
       "version_minor": 0
      },
      "text/plain": [
       "  0%|          | 0/102 [00:00<?, ?it/s]"
      ]
     },
     "metadata": {},
     "output_type": "display_data"
    },
    {
     "data": {
      "application/vnd.jupyter.widget-view+json": {
       "model_id": "576d7b5f7d8843409d494eb0378dfe07",
       "version_major": 2,
       "version_minor": 0
      },
      "text/plain": [
       "Evaluating:   0%|          | 0/24 [00:00<?, ?it/s]"
      ]
     },
     "metadata": {},
     "output_type": "display_data"
    },
    {
     "name": "stdout",
     "output_type": "stream",
     "text": [
      "Epoch [2/100], Train: 0.1327, Val: 0.1696, RMSE: 0.4118\n"
     ]
    },
    {
     "data": {
      "application/vnd.jupyter.widget-view+json": {
       "model_id": "970198cd391c4153b242e63422608fbb",
       "version_major": 2,
       "version_minor": 0
      },
      "text/plain": [
       "  0%|          | 0/102 [00:00<?, ?it/s]"
      ]
     },
     "metadata": {},
     "output_type": "display_data"
    },
    {
     "data": {
      "application/vnd.jupyter.widget-view+json": {
       "model_id": "5168333393084498a02508e0fa402814",
       "version_major": 2,
       "version_minor": 0
      },
      "text/plain": [
       "Evaluating:   0%|          | 0/24 [00:00<?, ?it/s]"
      ]
     },
     "metadata": {},
     "output_type": "display_data"
    },
    {
     "name": "stdout",
     "output_type": "stream",
     "text": [
      "Epoch [3/100], Train: 0.1019, Val: 0.1447, RMSE: 0.3804\n"
     ]
    },
    {
     "data": {
      "application/vnd.jupyter.widget-view+json": {
       "model_id": "efb2cee4aaac405b900933b19bf4631c",
       "version_major": 2,
       "version_minor": 0
      },
      "text/plain": [
       "  0%|          | 0/102 [00:00<?, ?it/s]"
      ]
     },
     "metadata": {},
     "output_type": "display_data"
    },
    {
     "data": {
      "application/vnd.jupyter.widget-view+json": {
       "model_id": "2fb7cc2464b04ffa9e0399a6553e8add",
       "version_major": 2,
       "version_minor": 0
      },
      "text/plain": [
       "Evaluating:   0%|          | 0/24 [00:00<?, ?it/s]"
      ]
     },
     "metadata": {},
     "output_type": "display_data"
    },
    {
     "name": "stdout",
     "output_type": "stream",
     "text": [
      "Epoch [4/100], Train: 0.0927, Val: 0.1693, RMSE: 0.4114\n"
     ]
    },
    {
     "data": {
      "application/vnd.jupyter.widget-view+json": {
       "model_id": "0ad0921c1dbd4c81badd6325d37d28fd",
       "version_major": 2,
       "version_minor": 0
      },
      "text/plain": [
       "  0%|          | 0/102 [00:00<?, ?it/s]"
      ]
     },
     "metadata": {},
     "output_type": "display_data"
    },
    {
     "data": {
      "application/vnd.jupyter.widget-view+json": {
       "model_id": "5f7b25834ee34245a7f089cfd25ec8af",
       "version_major": 2,
       "version_minor": 0
      },
      "text/plain": [
       "Evaluating:   0%|          | 0/24 [00:00<?, ?it/s]"
      ]
     },
     "metadata": {},
     "output_type": "display_data"
    },
    {
     "name": "stdout",
     "output_type": "stream",
     "text": [
      "Epoch [5/100], Train: 0.0832, Val: 0.1439, RMSE: 0.3793\n"
     ]
    },
    {
     "data": {
      "application/vnd.jupyter.widget-view+json": {
       "model_id": "d50e76662d304e0fa3b155601c2bdb2a",
       "version_major": 2,
       "version_minor": 0
      },
      "text/plain": [
       "  0%|          | 0/102 [00:00<?, ?it/s]"
      ]
     },
     "metadata": {},
     "output_type": "display_data"
    },
    {
     "data": {
      "application/vnd.jupyter.widget-view+json": {
       "model_id": "ff09e52c39f9457cb2cd63f376123f59",
       "version_major": 2,
       "version_minor": 0
      },
      "text/plain": [
       "Evaluating:   0%|          | 0/24 [00:00<?, ?it/s]"
      ]
     },
     "metadata": {},
     "output_type": "display_data"
    },
    {
     "name": "stdout",
     "output_type": "stream",
     "text": [
      "Epoch [6/100], Train: 0.0756, Val: 0.1769, RMSE: 0.4206\n"
     ]
    },
    {
     "data": {
      "application/vnd.jupyter.widget-view+json": {
       "model_id": "e50f72d661e54670b5fd90a9a6708f06",
       "version_major": 2,
       "version_minor": 0
      },
      "text/plain": [
       "  0%|          | 0/102 [00:00<?, ?it/s]"
      ]
     },
     "metadata": {},
     "output_type": "display_data"
    },
    {
     "data": {
      "application/vnd.jupyter.widget-view+json": {
       "model_id": "0339027e3e9246e0adcc231b9f0d065b",
       "version_major": 2,
       "version_minor": 0
      },
      "text/plain": [
       "Evaluating:   0%|          | 0/24 [00:00<?, ?it/s]"
      ]
     },
     "metadata": {},
     "output_type": "display_data"
    },
    {
     "name": "stdout",
     "output_type": "stream",
     "text": [
      "Epoch [7/100], Train: 0.0728, Val: 0.1911, RMSE: 0.4371\n"
     ]
    },
    {
     "data": {
      "application/vnd.jupyter.widget-view+json": {
       "model_id": "4c09af4a78a047c5a921e5a1bd557737",
       "version_major": 2,
       "version_minor": 0
      },
      "text/plain": [
       "  0%|          | 0/102 [00:00<?, ?it/s]"
      ]
     },
     "metadata": {},
     "output_type": "display_data"
    },
    {
     "data": {
      "application/vnd.jupyter.widget-view+json": {
       "model_id": "25dc8dec7cdd43bf978e17550ee50c2c",
       "version_major": 2,
       "version_minor": 0
      },
      "text/plain": [
       "Evaluating:   0%|          | 0/24 [00:00<?, ?it/s]"
      ]
     },
     "metadata": {},
     "output_type": "display_data"
    },
    {
     "name": "stdout",
     "output_type": "stream",
     "text": [
      "Epoch [8/100], Train: 0.0664, Val: 0.1228, RMSE: 0.3504\n"
     ]
    },
    {
     "data": {
      "application/vnd.jupyter.widget-view+json": {
       "model_id": "be3078dfc0ff42029bef860bd9cdc38d",
       "version_major": 2,
       "version_minor": 0
      },
      "text/plain": [
       "  0%|          | 0/102 [00:00<?, ?it/s]"
      ]
     },
     "metadata": {},
     "output_type": "display_data"
    },
    {
     "data": {
      "application/vnd.jupyter.widget-view+json": {
       "model_id": "af60e9cf72a74ff5a310c608aa2e7a8f",
       "version_major": 2,
       "version_minor": 0
      },
      "text/plain": [
       "Evaluating:   0%|          | 0/24 [00:00<?, ?it/s]"
      ]
     },
     "metadata": {},
     "output_type": "display_data"
    },
    {
     "name": "stdout",
     "output_type": "stream",
     "text": [
      "Epoch [9/100], Train: 0.0654, Val: 0.1266, RMSE: 0.3558\n"
     ]
    },
    {
     "data": {
      "application/vnd.jupyter.widget-view+json": {
       "model_id": "11db15c8816d41f89c8ebe5fdce2d5ec",
       "version_major": 2,
       "version_minor": 0
      },
      "text/plain": [
       "  0%|          | 0/102 [00:00<?, ?it/s]"
      ]
     },
     "metadata": {},
     "output_type": "display_data"
    },
    {
     "data": {
      "application/vnd.jupyter.widget-view+json": {
       "model_id": "8af7cf30322744828bb45350d8fe3aef",
       "version_major": 2,
       "version_minor": 0
      },
      "text/plain": [
       "Evaluating:   0%|          | 0/24 [00:00<?, ?it/s]"
      ]
     },
     "metadata": {},
     "output_type": "display_data"
    },
    {
     "name": "stdout",
     "output_type": "stream",
     "text": [
      "Epoch [10/100], Train: 0.0628, Val: 0.1133, RMSE: 0.3366\n"
     ]
    },
    {
     "data": {
      "application/vnd.jupyter.widget-view+json": {
       "model_id": "0cb449c056dd46a3b4026ccd247ad448",
       "version_major": 2,
       "version_minor": 0
      },
      "text/plain": [
       "  0%|          | 0/102 [00:00<?, ?it/s]"
      ]
     },
     "metadata": {},
     "output_type": "display_data"
    },
    {
     "data": {
      "application/vnd.jupyter.widget-view+json": {
       "model_id": "028f5d6cf430474fa4ba6ab85d744a60",
       "version_major": 2,
       "version_minor": 0
      },
      "text/plain": [
       "Evaluating:   0%|          | 0/24 [00:00<?, ?it/s]"
      ]
     },
     "metadata": {},
     "output_type": "display_data"
    },
    {
     "name": "stdout",
     "output_type": "stream",
     "text": [
      "Epoch [11/100], Train: 0.0609, Val: 0.1160, RMSE: 0.3405\n"
     ]
    },
    {
     "data": {
      "application/vnd.jupyter.widget-view+json": {
       "model_id": "b8577876726345b9b9e079def2ab3cec",
       "version_major": 2,
       "version_minor": 0
      },
      "text/plain": [
       "  0%|          | 0/102 [00:00<?, ?it/s]"
      ]
     },
     "metadata": {},
     "output_type": "display_data"
    },
    {
     "data": {
      "application/vnd.jupyter.widget-view+json": {
       "model_id": "5838ee51c5ac4ffa8bbff57026f5f31f",
       "version_major": 2,
       "version_minor": 0
      },
      "text/plain": [
       "Evaluating:   0%|          | 0/24 [00:00<?, ?it/s]"
      ]
     },
     "metadata": {},
     "output_type": "display_data"
    },
    {
     "name": "stdout",
     "output_type": "stream",
     "text": [
      "Epoch [12/100], Train: 0.0570, Val: 0.1225, RMSE: 0.3500\n"
     ]
    },
    {
     "data": {
      "application/vnd.jupyter.widget-view+json": {
       "model_id": "83db36197cdd451bba3f3d9f8cf1f081",
       "version_major": 2,
       "version_minor": 0
      },
      "text/plain": [
       "  0%|          | 0/102 [00:00<?, ?it/s]"
      ]
     },
     "metadata": {},
     "output_type": "display_data"
    },
    {
     "data": {
      "application/vnd.jupyter.widget-view+json": {
       "model_id": "9b14241132ec4063b1754f34c57daba2",
       "version_major": 2,
       "version_minor": 0
      },
      "text/plain": [
       "Evaluating:   0%|          | 0/24 [00:00<?, ?it/s]"
      ]
     },
     "metadata": {},
     "output_type": "display_data"
    },
    {
     "name": "stdout",
     "output_type": "stream",
     "text": [
      "Epoch [13/100], Train: 0.0550, Val: 0.1094, RMSE: 0.3307\n"
     ]
    },
    {
     "data": {
      "application/vnd.jupyter.widget-view+json": {
       "model_id": "b273b47e725246f59a92b74a96d5ff5d",
       "version_major": 2,
       "version_minor": 0
      },
      "text/plain": [
       "  0%|          | 0/102 [00:00<?, ?it/s]"
      ]
     },
     "metadata": {},
     "output_type": "display_data"
    },
    {
     "data": {
      "application/vnd.jupyter.widget-view+json": {
       "model_id": "473aa89d39c54dbdbf47d84306d1e94c",
       "version_major": 2,
       "version_minor": 0
      },
      "text/plain": [
       "Evaluating:   0%|          | 0/24 [00:00<?, ?it/s]"
      ]
     },
     "metadata": {},
     "output_type": "display_data"
    },
    {
     "name": "stdout",
     "output_type": "stream",
     "text": [
      "Epoch [14/100], Train: 0.0561, Val: 0.1243, RMSE: 0.3526\n"
     ]
    },
    {
     "data": {
      "application/vnd.jupyter.widget-view+json": {
       "model_id": "ead21da11dda44c5b846251ea01157b8",
       "version_major": 2,
       "version_minor": 0
      },
      "text/plain": [
       "  0%|          | 0/102 [00:00<?, ?it/s]"
      ]
     },
     "metadata": {},
     "output_type": "display_data"
    },
    {
     "data": {
      "application/vnd.jupyter.widget-view+json": {
       "model_id": "1796ee832adc4094899136503719f7a2",
       "version_major": 2,
       "version_minor": 0
      },
      "text/plain": [
       "Evaluating:   0%|          | 0/24 [00:00<?, ?it/s]"
      ]
     },
     "metadata": {},
     "output_type": "display_data"
    },
    {
     "name": "stdout",
     "output_type": "stream",
     "text": [
      "Epoch [15/100], Train: 0.0560, Val: 0.1079, RMSE: 0.3285\n"
     ]
    },
    {
     "data": {
      "application/vnd.jupyter.widget-view+json": {
       "model_id": "9f9af18ebd25406185c9e9a508a6bde2",
       "version_major": 2,
       "version_minor": 0
      },
      "text/plain": [
       "  0%|          | 0/102 [00:00<?, ?it/s]"
      ]
     },
     "metadata": {},
     "output_type": "display_data"
    },
    {
     "data": {
      "application/vnd.jupyter.widget-view+json": {
       "model_id": "420692d9d2bd46cfb012eca55aa90e38",
       "version_major": 2,
       "version_minor": 0
      },
      "text/plain": [
       "Evaluating:   0%|          | 0/24 [00:00<?, ?it/s]"
      ]
     },
     "metadata": {},
     "output_type": "display_data"
    },
    {
     "name": "stdout",
     "output_type": "stream",
     "text": [
      "Epoch [16/100], Train: 0.0547, Val: 0.1338, RMSE: 0.3658\n"
     ]
    },
    {
     "data": {
      "application/vnd.jupyter.widget-view+json": {
       "model_id": "91286d01d468441b82e65bb85e8ac2e0",
       "version_major": 2,
       "version_minor": 0
      },
      "text/plain": [
       "  0%|          | 0/102 [00:00<?, ?it/s]"
      ]
     },
     "metadata": {},
     "output_type": "display_data"
    },
    {
     "data": {
      "application/vnd.jupyter.widget-view+json": {
       "model_id": "87dca992f55246b2bb0a119fcbfc8601",
       "version_major": 2,
       "version_minor": 0
      },
      "text/plain": [
       "Evaluating:   0%|          | 0/24 [00:00<?, ?it/s]"
      ]
     },
     "metadata": {},
     "output_type": "display_data"
    },
    {
     "name": "stdout",
     "output_type": "stream",
     "text": [
      "Epoch [17/100], Train: 0.0523, Val: 0.1297, RMSE: 0.3601\n"
     ]
    },
    {
     "data": {
      "application/vnd.jupyter.widget-view+json": {
       "model_id": "0c4731279ab74cce8d6775f19f196bcd",
       "version_major": 2,
       "version_minor": 0
      },
      "text/plain": [
       "  0%|          | 0/102 [00:00<?, ?it/s]"
      ]
     },
     "metadata": {},
     "output_type": "display_data"
    },
    {
     "data": {
      "application/vnd.jupyter.widget-view+json": {
       "model_id": "40a26e5269694b0083b5f3809a9a7c29",
       "version_major": 2,
       "version_minor": 0
      },
      "text/plain": [
       "Evaluating:   0%|          | 0/24 [00:00<?, ?it/s]"
      ]
     },
     "metadata": {},
     "output_type": "display_data"
    },
    {
     "name": "stdout",
     "output_type": "stream",
     "text": [
      "Epoch [18/100], Train: 0.0526, Val: 0.1018, RMSE: 0.3190\n"
     ]
    },
    {
     "data": {
      "application/vnd.jupyter.widget-view+json": {
       "model_id": "cfa489717be14d9f8f171a11f73dfa5e",
       "version_major": 2,
       "version_minor": 0
      },
      "text/plain": [
       "  0%|          | 0/102 [00:00<?, ?it/s]"
      ]
     },
     "metadata": {},
     "output_type": "display_data"
    },
    {
     "data": {
      "application/vnd.jupyter.widget-view+json": {
       "model_id": "e73c9170788d4ac29755c8bbbfd70d2d",
       "version_major": 2,
       "version_minor": 0
      },
      "text/plain": [
       "Evaluating:   0%|          | 0/24 [00:00<?, ?it/s]"
      ]
     },
     "metadata": {},
     "output_type": "display_data"
    },
    {
     "name": "stdout",
     "output_type": "stream",
     "text": [
      "Epoch [19/100], Train: 0.0501, Val: 0.1138, RMSE: 0.3373\n"
     ]
    },
    {
     "data": {
      "application/vnd.jupyter.widget-view+json": {
       "model_id": "033c6d70188b43bdbe783792530bf593",
       "version_major": 2,
       "version_minor": 0
      },
      "text/plain": [
       "  0%|          | 0/102 [00:00<?, ?it/s]"
      ]
     },
     "metadata": {},
     "output_type": "display_data"
    },
    {
     "data": {
      "application/vnd.jupyter.widget-view+json": {
       "model_id": "1cd69990c82b475ab55697e9ded43c3d",
       "version_major": 2,
       "version_minor": 0
      },
      "text/plain": [
       "Evaluating:   0%|          | 0/24 [00:00<?, ?it/s]"
      ]
     },
     "metadata": {},
     "output_type": "display_data"
    },
    {
     "name": "stdout",
     "output_type": "stream",
     "text": [
      "Epoch [20/100], Train: 0.0511, Val: 0.1141, RMSE: 0.3378\n"
     ]
    },
    {
     "data": {
      "application/vnd.jupyter.widget-view+json": {
       "model_id": "c200e41d6af14fddbe7fc44a0b213bae",
       "version_major": 2,
       "version_minor": 0
      },
      "text/plain": [
       "  0%|          | 0/102 [00:00<?, ?it/s]"
      ]
     },
     "metadata": {},
     "output_type": "display_data"
    },
    {
     "data": {
      "application/vnd.jupyter.widget-view+json": {
       "model_id": "d796850a366849d6a662460827e14347",
       "version_major": 2,
       "version_minor": 0
      },
      "text/plain": [
       "Evaluating:   0%|          | 0/24 [00:00<?, ?it/s]"
      ]
     },
     "metadata": {},
     "output_type": "display_data"
    },
    {
     "name": "stdout",
     "output_type": "stream",
     "text": [
      "Epoch [21/100], Train: 0.0501, Val: 0.1340, RMSE: 0.3660\n"
     ]
    },
    {
     "data": {
      "application/vnd.jupyter.widget-view+json": {
       "model_id": "d698bd45ef4f43ad8df8cb5c3d3f9e1a",
       "version_major": 2,
       "version_minor": 0
      },
      "text/plain": [
       "  0%|          | 0/102 [00:00<?, ?it/s]"
      ]
     },
     "metadata": {},
     "output_type": "display_data"
    },
    {
     "data": {
      "application/vnd.jupyter.widget-view+json": {
       "model_id": "2968e29d2b3b4e0d9e2842cd3f2cee3a",
       "version_major": 2,
       "version_minor": 0
      },
      "text/plain": [
       "Evaluating:   0%|          | 0/24 [00:00<?, ?it/s]"
      ]
     },
     "metadata": {},
     "output_type": "display_data"
    },
    {
     "name": "stdout",
     "output_type": "stream",
     "text": [
      "Epoch [22/100], Train: 0.0477, Val: 0.1098, RMSE: 0.3314\n"
     ]
    },
    {
     "data": {
      "application/vnd.jupyter.widget-view+json": {
       "model_id": "c63a63b29d9445e7beaeb9b4a0a268c8",
       "version_major": 2,
       "version_minor": 0
      },
      "text/plain": [
       "  0%|          | 0/102 [00:00<?, ?it/s]"
      ]
     },
     "metadata": {},
     "output_type": "display_data"
    },
    {
     "data": {
      "application/vnd.jupyter.widget-view+json": {
       "model_id": "889c1745b55c4680b032583a8aa05a3b",
       "version_major": 2,
       "version_minor": 0
      },
      "text/plain": [
       "Evaluating:   0%|          | 0/24 [00:00<?, ?it/s]"
      ]
     },
     "metadata": {},
     "output_type": "display_data"
    },
    {
     "name": "stdout",
     "output_type": "stream",
     "text": [
      "Epoch [23/100], Train: 0.0466, Val: 0.1124, RMSE: 0.3353\n"
     ]
    },
    {
     "data": {
      "application/vnd.jupyter.widget-view+json": {
       "model_id": "5bf7e3111b9542b880c1eaf7f3b9eead",
       "version_major": 2,
       "version_minor": 0
      },
      "text/plain": [
       "  0%|          | 0/102 [00:00<?, ?it/s]"
      ]
     },
     "metadata": {},
     "output_type": "display_data"
    },
    {
     "data": {
      "application/vnd.jupyter.widget-view+json": {
       "model_id": "f2f5f90e8ec44988b639d0aeb00e3fb8",
       "version_major": 2,
       "version_minor": 0
      },
      "text/plain": [
       "Evaluating:   0%|          | 0/24 [00:00<?, ?it/s]"
      ]
     },
     "metadata": {},
     "output_type": "display_data"
    },
    {
     "name": "stdout",
     "output_type": "stream",
     "text": [
      "Epoch [24/100], Train: 0.0452, Val: 0.1213, RMSE: 0.3483\n"
     ]
    },
    {
     "data": {
      "application/vnd.jupyter.widget-view+json": {
       "model_id": "29379e29ccf84afd9766c29d939be205",
       "version_major": 2,
       "version_minor": 0
      },
      "text/plain": [
       "  0%|          | 0/102 [00:00<?, ?it/s]"
      ]
     },
     "metadata": {},
     "output_type": "display_data"
    },
    {
     "data": {
      "application/vnd.jupyter.widget-view+json": {
       "model_id": "19588a8b5eaa468b99168986e09e5d4d",
       "version_major": 2,
       "version_minor": 0
      },
      "text/plain": [
       "Evaluating:   0%|          | 0/24 [00:00<?, ?it/s]"
      ]
     },
     "metadata": {},
     "output_type": "display_data"
    },
    {
     "name": "stdout",
     "output_type": "stream",
     "text": [
      "Epoch [25/100], Train: 0.0442, Val: 0.1098, RMSE: 0.3314\n"
     ]
    },
    {
     "data": {
      "application/vnd.jupyter.widget-view+json": {
       "model_id": "b25639819d3f49de961a67643e1caa07",
       "version_major": 2,
       "version_minor": 0
      },
      "text/plain": [
       "  0%|          | 0/102 [00:00<?, ?it/s]"
      ]
     },
     "metadata": {},
     "output_type": "display_data"
    },
    {
     "data": {
      "application/vnd.jupyter.widget-view+json": {
       "model_id": "72328bf080204e8fa78178fd90b30178",
       "version_major": 2,
       "version_minor": 0
      },
      "text/plain": [
       "Evaluating:   0%|          | 0/24 [00:00<?, ?it/s]"
      ]
     },
     "metadata": {},
     "output_type": "display_data"
    },
    {
     "name": "stdout",
     "output_type": "stream",
     "text": [
      "Epoch [26/100], Train: 0.0439, Val: 0.1059, RMSE: 0.3255\n",
      "Early stopping triggered after 26 epochs. Best validation loss: 0.1018\n",
      "Training complete\n"
     ]
    }
   ],
   "source": [
    "import torch.nn as nn\n",
    "from tqdm.auto import tqdm\n",
    "# from lion_pytorch import Lion\n",
    "import numpy as np\n",
    "import os\n",
    "import torch\n",
    "\n",
    "def evaluate(model, test_loader, criterion, device):\n",
    "    model.eval()\n",
    "    running_loss = 0.0\n",
    "    batch_count = 0\n",
    "    with torch.no_grad():\n",
    "        for batch in tqdm(test_loader, desc=\"Evaluating\", leave=False):\n",
    "            x_hist = batch[\"x_hist\"].to(device)\n",
    "            x_extra_hist = batch[\"x_extra_hist\"].to(device)\n",
    "            x_extra_future = batch[\"x_extra_future\"].to(device)\n",
    "            x_static = batch[\"x_static\"].to(device)\n",
    "            y = batch[\"y\"].to(device)\n",
    "            y_pred = model.forward(\n",
    "                x_hist=x_hist,\n",
    "                x_extra_hist=x_extra_hist,\n",
    "                x_extra_future=x_extra_future,\n",
    "                x_static=x_static,\n",
    "            )\n",
    "            loss = criterion(y_pred, y)\n",
    "            running_loss += loss.item()\n",
    "            batch_count += 1\n",
    "    avg_loss = running_loss / batch_count\n",
    "    return {\"loss\": avg_loss, \"rmse\": np.sqrt(avg_loss)}\n",
    "\n",
    "model = TSMixerExt(\n",
    "    sequence_length=seq_length,\n",
    "    prediction_length=pred_length,\n",
    "    input_channels=input_channels,\n",
    "    extra_channels=extra_channels,\n",
    "    hidden_channels=64,\n",
    "    static_channels=static_channels,\n",
    "    output_channels=input_channels,\n",
    "    normalize_before=False,\n",
    "    ff_dim=128,\n",
    ")\n",
    "\n",
    "criterion = nn.MSELoss()\n",
    "# optimizer = Lion(model.parameters(), lr=1e-4, weight_decay=1e-2)\n",
    "optimizer = torch.optim.Adam(model.parameters(), lr=3e-4, weight_decay=1e-2)\n",
    "num_epochs = 100\n",
    "best_model_path = './best_model'\n",
    "os.makedirs(best_model_path, exist_ok=True)\n",
    "model.to(device)\n",
    "\n",
    "patience = 8\n",
    "early_stopping = torch.optim.lr_scheduler.ReduceLROnPlateau(\n",
    "    optimizer, mode='min', factor=0.5, patience=patience//2,\n",
    "    threshold=0.0001, min_lr=1e-6\n",
    ")\n",
    "\n",
    "early_stop_counter = 0\n",
    "best_val_loss = float('inf')\n",
    "epoch_progress = tqdm(range(num_epochs), desc=\"Training\")\n",
    "\n",
    "for epoch in epoch_progress:\n",
    "    model.train()\n",
    "    running_loss = 0.0\n",
    "    batch_count = 0\n",
    "    batch_progress = tqdm(train_loader, leave=False)\n",
    "    \n",
    "    for batch in batch_progress:\n",
    "        x_hist = batch[\"x_hist\"].to(device)\n",
    "        x_extra_hist = batch[\"x_extra_hist\"].to(device)\n",
    "        x_extra_future = batch[\"x_extra_future\"].to(device)\n",
    "        x_static = batch[\"x_static\"].to(device)\n",
    "        y = batch[\"y\"].to(device)\n",
    "        y_pred = model.forward(\n",
    "            x_hist=x_hist,\n",
    "            x_extra_hist=x_extra_hist,\n",
    "            x_extra_future=x_extra_future,\n",
    "            x_static=x_static,\n",
    "        )\n",
    "        loss = criterion(y_pred, y)\n",
    "        loss.backward()\n",
    "        optimizer.step()\n",
    "        optimizer.zero_grad()\n",
    "        running_loss += loss.item()\n",
    "        batch_count += 1\n",
    "\n",
    "    avg_loss = running_loss / batch_count\n",
    "    val_metrics = evaluate(model, val_loader, criterion, device)\n",
    "    \n",
    "    # Update epoch progress bar with metrics\n",
    "    epoch_progress.set_description(f\"Epoch [{epoch+1}/{num_epochs}], Train: {avg_loss:.4f}, Val: {val_metrics['loss']:.4f}, RMSE: {val_metrics['rmse']:.4f}\")\n",
    "    \n",
    "    early_stopping.step(val_metrics['loss'])\n",
    "    print(f\"Epoch [{epoch+1}/{num_epochs}], Train: {avg_loss:.4f}, Val: {val_metrics['loss']:.4f}, RMSE: {val_metrics['rmse']:.4f}\")\n",
    "    \n",
    "    \n",
    "    if val_metrics['loss'] < best_val_loss:\n",
    "        best_val_loss = val_metrics['loss']\n",
    "        torch.save(model.state_dict(), os.path.join(best_model_path, 'best_model_state_dict.pth'))\n",
    "        torch.save(model, os.path.join(best_model_path, 'best_model_pickle.pth'))\n",
    "        early_stop_counter = 0\n",
    "    else:\n",
    "        early_stop_counter += 1\n",
    "        if early_stop_counter >= patience:\n",
    "            epoch_progress.write(f\"Early stopping triggered after {epoch+1} epochs. Best validation loss: {best_val_loss:.4f}\")\n",
    "            break\n",
    "\n",
    "epoch_progress.write(\"Training complete\")"
   ]
  },
  {
   "cell_type": "code",
   "execution_count": 10,
   "metadata": {},
   "outputs": [
    {
     "data": {
      "application/vnd.jupyter.widget-view+json": {
       "model_id": "5e7e1409d8ed4e25a1150528312930f1",
       "version_major": 2,
       "version_minor": 0
      },
      "text/plain": [
       "Training:   0%|          | 0/100 [00:00<?, ?it/s]"
      ]
     },
     "metadata": {},
     "output_type": "display_data"
    },
    {
     "data": {
      "application/vnd.jupyter.widget-view+json": {
       "model_id": "8f7e4a57757a472e9682a71231f723b4",
       "version_major": 2,
       "version_minor": 0
      },
      "text/plain": [
       "  0%|          | 0/102 [00:00<?, ?it/s]"
      ]
     },
     "metadata": {},
     "output_type": "display_data"
    },
    {
     "data": {
      "application/vnd.jupyter.widget-view+json": {
       "model_id": "aae4ff22114b40dbb314e1276061de2d",
       "version_major": 2,
       "version_minor": 0
      },
      "text/plain": [
       "Evaluating:   0%|          | 0/24 [00:00<?, ?it/s]"
      ]
     },
     "metadata": {},
     "output_type": "display_data"
    },
    {
     "name": "stdout",
     "output_type": "stream",
     "text": [
      "Epoch [1/100], Train: 0.9025, Val: 1.3838, RMSE: 1.1763\n"
     ]
    },
    {
     "data": {
      "application/vnd.jupyter.widget-view+json": {
       "model_id": "455b338abcaa40d08ade3003cd90cc31",
       "version_major": 2,
       "version_minor": 0
      },
      "text/plain": [
       "  0%|          | 0/102 [00:00<?, ?it/s]"
      ]
     },
     "metadata": {},
     "output_type": "display_data"
    },
    {
     "data": {
      "application/vnd.jupyter.widget-view+json": {
       "model_id": "05290f5ad3fb4d34acdb1b0c8de86f83",
       "version_major": 2,
       "version_minor": 0
      },
      "text/plain": [
       "Evaluating:   0%|          | 0/24 [00:00<?, ?it/s]"
      ]
     },
     "metadata": {},
     "output_type": "display_data"
    },
    {
     "name": "stdout",
     "output_type": "stream",
     "text": [
      "Epoch [2/100], Train: 0.4547, Val: 0.5636, RMSE: 0.7507\n"
     ]
    },
    {
     "data": {
      "application/vnd.jupyter.widget-view+json": {
       "model_id": "ccae4394e9a9473e8f475769b7fd5ee3",
       "version_major": 2,
       "version_minor": 0
      },
      "text/plain": [
       "  0%|          | 0/102 [00:00<?, ?it/s]"
      ]
     },
     "metadata": {},
     "output_type": "display_data"
    },
    {
     "data": {
      "application/vnd.jupyter.widget-view+json": {
       "model_id": "22be0ae8ed654a8584bff7524e9f54e4",
       "version_major": 2,
       "version_minor": 0
      },
      "text/plain": [
       "Evaluating:   0%|          | 0/24 [00:00<?, ?it/s]"
      ]
     },
     "metadata": {},
     "output_type": "display_data"
    },
    {
     "name": "stdout",
     "output_type": "stream",
     "text": [
      "Epoch [3/100], Train: 0.2669, Val: 0.3555, RMSE: 0.5962\n"
     ]
    },
    {
     "data": {
      "application/vnd.jupyter.widget-view+json": {
       "model_id": "a528df9b4e644022ba9de9b93e219f0b",
       "version_major": 2,
       "version_minor": 0
      },
      "text/plain": [
       "  0%|          | 0/102 [00:00<?, ?it/s]"
      ]
     },
     "metadata": {},
     "output_type": "display_data"
    },
    {
     "data": {
      "application/vnd.jupyter.widget-view+json": {
       "model_id": "52777045ef124b70b84459fdcb311d98",
       "version_major": 2,
       "version_minor": 0
      },
      "text/plain": [
       "Evaluating:   0%|          | 0/24 [00:00<?, ?it/s]"
      ]
     },
     "metadata": {},
     "output_type": "display_data"
    },
    {
     "name": "stdout",
     "output_type": "stream",
     "text": [
      "Epoch [4/100], Train: 0.1752, Val: 0.3010, RMSE: 0.5486\n"
     ]
    },
    {
     "data": {
      "application/vnd.jupyter.widget-view+json": {
       "model_id": "d2132b00f2684c668f9671fb496ab70f",
       "version_major": 2,
       "version_minor": 0
      },
      "text/plain": [
       "  0%|          | 0/102 [00:00<?, ?it/s]"
      ]
     },
     "metadata": {},
     "output_type": "display_data"
    },
    {
     "data": {
      "application/vnd.jupyter.widget-view+json": {
       "model_id": "5628081a38ba43eb920ed148a79b3d36",
       "version_major": 2,
       "version_minor": 0
      },
      "text/plain": [
       "Evaluating:   0%|          | 0/24 [00:00<?, ?it/s]"
      ]
     },
     "metadata": {},
     "output_type": "display_data"
    },
    {
     "name": "stdout",
     "output_type": "stream",
     "text": [
      "Epoch [5/100], Train: 0.1262, Val: 0.1909, RMSE: 0.4369\n"
     ]
    },
    {
     "data": {
      "application/vnd.jupyter.widget-view+json": {
       "model_id": "6f3ca8c3890c4b61b82ed022f31684ff",
       "version_major": 2,
       "version_minor": 0
      },
      "text/plain": [
       "  0%|          | 0/102 [00:00<?, ?it/s]"
      ]
     },
     "metadata": {},
     "output_type": "display_data"
    },
    {
     "data": {
      "application/vnd.jupyter.widget-view+json": {
       "model_id": "6d90ccad5e18479cab7499ff270f243c",
       "version_major": 2,
       "version_minor": 0
      },
      "text/plain": [
       "Evaluating:   0%|          | 0/24 [00:00<?, ?it/s]"
      ]
     },
     "metadata": {},
     "output_type": "display_data"
    },
    {
     "name": "stdout",
     "output_type": "stream",
     "text": [
      "Epoch [6/100], Train: 0.0944, Val: 0.2243, RMSE: 0.4736\n"
     ]
    },
    {
     "data": {
      "application/vnd.jupyter.widget-view+json": {
       "model_id": "cec9af3f66e84d41bdc05b213769fb4a",
       "version_major": 2,
       "version_minor": 0
      },
      "text/plain": [
       "  0%|          | 0/102 [00:00<?, ?it/s]"
      ]
     },
     "metadata": {},
     "output_type": "display_data"
    },
    {
     "data": {
      "application/vnd.jupyter.widget-view+json": {
       "model_id": "99c16572a2714b9bbc536e43a4a78d45",
       "version_major": 2,
       "version_minor": 0
      },
      "text/plain": [
       "Evaluating:   0%|          | 0/24 [00:00<?, ?it/s]"
      ]
     },
     "metadata": {},
     "output_type": "display_data"
    },
    {
     "name": "stdout",
     "output_type": "stream",
     "text": [
      "Epoch [7/100], Train: 0.0833, Val: 0.1888, RMSE: 0.4345\n"
     ]
    },
    {
     "data": {
      "application/vnd.jupyter.widget-view+json": {
       "model_id": "4982736d405c4e23bb099f44425809dc",
       "version_major": 2,
       "version_minor": 0
      },
      "text/plain": [
       "  0%|          | 0/102 [00:00<?, ?it/s]"
      ]
     },
     "metadata": {},
     "output_type": "display_data"
    },
    {
     "data": {
      "application/vnd.jupyter.widget-view+json": {
       "model_id": "0e504bc2dd3045a08165bfd074fc3ba1",
       "version_major": 2,
       "version_minor": 0
      },
      "text/plain": [
       "Evaluating:   0%|          | 0/24 [00:00<?, ?it/s]"
      ]
     },
     "metadata": {},
     "output_type": "display_data"
    },
    {
     "name": "stdout",
     "output_type": "stream",
     "text": [
      "Epoch [8/100], Train: 0.0700, Val: 0.1353, RMSE: 0.3678\n"
     ]
    },
    {
     "data": {
      "application/vnd.jupyter.widget-view+json": {
       "model_id": "a1c7b7986e034b8690476574066cfff8",
       "version_major": 2,
       "version_minor": 0
      },
      "text/plain": [
       "  0%|          | 0/102 [00:00<?, ?it/s]"
      ]
     },
     "metadata": {},
     "output_type": "display_data"
    },
    {
     "data": {
      "application/vnd.jupyter.widget-view+json": {
       "model_id": "34cfd2e9bfd84a34ac0f6f3acbaef2a9",
       "version_major": 2,
       "version_minor": 0
      },
      "text/plain": [
       "Evaluating:   0%|          | 0/24 [00:00<?, ?it/s]"
      ]
     },
     "metadata": {},
     "output_type": "display_data"
    },
    {
     "name": "stdout",
     "output_type": "stream",
     "text": [
      "Epoch [9/100], Train: 0.0635, Val: 0.1501, RMSE: 0.3874\n"
     ]
    },
    {
     "data": {
      "application/vnd.jupyter.widget-view+json": {
       "model_id": "354b34d5ecb0442c8b81139ab3f0ea29",
       "version_major": 2,
       "version_minor": 0
      },
      "text/plain": [
       "  0%|          | 0/102 [00:00<?, ?it/s]"
      ]
     },
     "metadata": {},
     "output_type": "display_data"
    },
    {
     "data": {
      "application/vnd.jupyter.widget-view+json": {
       "model_id": "ccf87a90fc5c48d78aa2377bb54cbeb1",
       "version_major": 2,
       "version_minor": 0
      },
      "text/plain": [
       "Evaluating:   0%|          | 0/24 [00:00<?, ?it/s]"
      ]
     },
     "metadata": {},
     "output_type": "display_data"
    },
    {
     "name": "stdout",
     "output_type": "stream",
     "text": [
      "Epoch [10/100], Train: 0.0603, Val: 0.1362, RMSE: 0.3691\n"
     ]
    },
    {
     "data": {
      "application/vnd.jupyter.widget-view+json": {
       "model_id": "511f1120732d4c53a78fa4cb91725866",
       "version_major": 2,
       "version_minor": 0
      },
      "text/plain": [
       "  0%|          | 0/102 [00:00<?, ?it/s]"
      ]
     },
     "metadata": {},
     "output_type": "display_data"
    },
    {
     "data": {
      "application/vnd.jupyter.widget-view+json": {
       "model_id": "8ebc4761a5954fb8943c2628d9e25b2d",
       "version_major": 2,
       "version_minor": 0
      },
      "text/plain": [
       "Evaluating:   0%|          | 0/24 [00:00<?, ?it/s]"
      ]
     },
     "metadata": {},
     "output_type": "display_data"
    },
    {
     "name": "stdout",
     "output_type": "stream",
     "text": [
      "Epoch [11/100], Train: 0.0537, Val: 0.1231, RMSE: 0.3509\n"
     ]
    },
    {
     "data": {
      "application/vnd.jupyter.widget-view+json": {
       "model_id": "63a0d2b3acc7452eae391c81e13ec7d3",
       "version_major": 2,
       "version_minor": 0
      },
      "text/plain": [
       "  0%|          | 0/102 [00:00<?, ?it/s]"
      ]
     },
     "metadata": {},
     "output_type": "display_data"
    },
    {
     "data": {
      "application/vnd.jupyter.widget-view+json": {
       "model_id": "236f23a4ca554b03baf0f07c7b856074",
       "version_major": 2,
       "version_minor": 0
      },
      "text/plain": [
       "Evaluating:   0%|          | 0/24 [00:00<?, ?it/s]"
      ]
     },
     "metadata": {},
     "output_type": "display_data"
    },
    {
     "name": "stdout",
     "output_type": "stream",
     "text": [
      "Epoch [12/100], Train: 0.0547, Val: 0.1367, RMSE: 0.3697\n"
     ]
    },
    {
     "data": {
      "application/vnd.jupyter.widget-view+json": {
       "model_id": "4b45b44f127e405bb823dbc7b620be89",
       "version_major": 2,
       "version_minor": 0
      },
      "text/plain": [
       "  0%|          | 0/102 [00:00<?, ?it/s]"
      ]
     },
     "metadata": {},
     "output_type": "display_data"
    },
    {
     "data": {
      "application/vnd.jupyter.widget-view+json": {
       "model_id": "7df3635538024e29a56e5439142216d0",
       "version_major": 2,
       "version_minor": 0
      },
      "text/plain": [
       "Evaluating:   0%|          | 0/24 [00:00<?, ?it/s]"
      ]
     },
     "metadata": {},
     "output_type": "display_data"
    },
    {
     "name": "stdout",
     "output_type": "stream",
     "text": [
      "Epoch [13/100], Train: 0.0483, Val: 0.1160, RMSE: 0.3407\n"
     ]
    },
    {
     "data": {
      "application/vnd.jupyter.widget-view+json": {
       "model_id": "c9c49346af884e6f85024fb4ee7c0bf5",
       "version_major": 2,
       "version_minor": 0
      },
      "text/plain": [
       "  0%|          | 0/102 [00:00<?, ?it/s]"
      ]
     },
     "metadata": {},
     "output_type": "display_data"
    },
    {
     "data": {
      "application/vnd.jupyter.widget-view+json": {
       "model_id": "82576945a0424ee3984f774f51f04f95",
       "version_major": 2,
       "version_minor": 0
      },
      "text/plain": [
       "Evaluating:   0%|          | 0/24 [00:00<?, ?it/s]"
      ]
     },
     "metadata": {},
     "output_type": "display_data"
    },
    {
     "name": "stdout",
     "output_type": "stream",
     "text": [
      "Epoch [14/100], Train: 0.0486, Val: 0.1005, RMSE: 0.3171\n"
     ]
    },
    {
     "data": {
      "application/vnd.jupyter.widget-view+json": {
       "model_id": "6c7e8abf7c7047e58d61777c622360e6",
       "version_major": 2,
       "version_minor": 0
      },
      "text/plain": [
       "  0%|          | 0/102 [00:00<?, ?it/s]"
      ]
     },
     "metadata": {},
     "output_type": "display_data"
    },
    {
     "data": {
      "application/vnd.jupyter.widget-view+json": {
       "model_id": "0de66c2442e543c3a0c9f11bf08104d9",
       "version_major": 2,
       "version_minor": 0
      },
      "text/plain": [
       "Evaluating:   0%|          | 0/24 [00:00<?, ?it/s]"
      ]
     },
     "metadata": {},
     "output_type": "display_data"
    },
    {
     "name": "stdout",
     "output_type": "stream",
     "text": [
      "Epoch [15/100], Train: 0.0466, Val: 0.1139, RMSE: 0.3375\n"
     ]
    },
    {
     "data": {
      "application/vnd.jupyter.widget-view+json": {
       "model_id": "d5dca459b38741a798dcd809e580235d",
       "version_major": 2,
       "version_minor": 0
      },
      "text/plain": [
       "  0%|          | 0/102 [00:00<?, ?it/s]"
      ]
     },
     "metadata": {},
     "output_type": "display_data"
    },
    {
     "data": {
      "application/vnd.jupyter.widget-view+json": {
       "model_id": "e1ac3e608d4d489f993ce26a986eee2f",
       "version_major": 2,
       "version_minor": 0
      },
      "text/plain": [
       "Evaluating:   0%|          | 0/24 [00:00<?, ?it/s]"
      ]
     },
     "metadata": {},
     "output_type": "display_data"
    },
    {
     "name": "stdout",
     "output_type": "stream",
     "text": [
      "Epoch [16/100], Train: 0.0432, Val: 0.1179, RMSE: 0.3433\n"
     ]
    },
    {
     "data": {
      "application/vnd.jupyter.widget-view+json": {
       "model_id": "b331beefde334b519f0667ee16d07f7b",
       "version_major": 2,
       "version_minor": 0
      },
      "text/plain": [
       "  0%|          | 0/102 [00:00<?, ?it/s]"
      ]
     },
     "metadata": {},
     "output_type": "display_data"
    },
    {
     "data": {
      "application/vnd.jupyter.widget-view+json": {
       "model_id": "6827fc55fd4b41b484eff48750503c4a",
       "version_major": 2,
       "version_minor": 0
      },
      "text/plain": [
       "Evaluating:   0%|          | 0/24 [00:00<?, ?it/s]"
      ]
     },
     "metadata": {},
     "output_type": "display_data"
    },
    {
     "name": "stdout",
     "output_type": "stream",
     "text": [
      "Epoch [17/100], Train: 0.0418, Val: 0.1023, RMSE: 0.3198\n"
     ]
    },
    {
     "data": {
      "application/vnd.jupyter.widget-view+json": {
       "model_id": "f5ed8ac33668421a93624574441205e3",
       "version_major": 2,
       "version_minor": 0
      },
      "text/plain": [
       "  0%|          | 0/102 [00:00<?, ?it/s]"
      ]
     },
     "metadata": {},
     "output_type": "display_data"
    },
    {
     "data": {
      "application/vnd.jupyter.widget-view+json": {
       "model_id": "5e920e87b3b5474384510fd723732cec",
       "version_major": 2,
       "version_minor": 0
      },
      "text/plain": [
       "Evaluating:   0%|          | 0/24 [00:00<?, ?it/s]"
      ]
     },
     "metadata": {},
     "output_type": "display_data"
    },
    {
     "name": "stdout",
     "output_type": "stream",
     "text": [
      "Epoch [18/100], Train: 0.0427, Val: 0.1178, RMSE: 0.3432\n"
     ]
    },
    {
     "data": {
      "application/vnd.jupyter.widget-view+json": {
       "model_id": "847108e8feda4e51be280a8d56f34911",
       "version_major": 2,
       "version_minor": 0
      },
      "text/plain": [
       "  0%|          | 0/102 [00:00<?, ?it/s]"
      ]
     },
     "metadata": {},
     "output_type": "display_data"
    },
    {
     "data": {
      "application/vnd.jupyter.widget-view+json": {
       "model_id": "914d22bfe6ab47e2ab72b94138fbee74",
       "version_major": 2,
       "version_minor": 0
      },
      "text/plain": [
       "Evaluating:   0%|          | 0/24 [00:00<?, ?it/s]"
      ]
     },
     "metadata": {},
     "output_type": "display_data"
    },
    {
     "name": "stdout",
     "output_type": "stream",
     "text": [
      "Epoch [19/100], Train: 0.0411, Val: 0.1237, RMSE: 0.3517\n"
     ]
    },
    {
     "data": {
      "application/vnd.jupyter.widget-view+json": {
       "model_id": "0d78169e5ba547c4a347ebc912e7fdf5",
       "version_major": 2,
       "version_minor": 0
      },
      "text/plain": [
       "  0%|          | 0/102 [00:00<?, ?it/s]"
      ]
     },
     "metadata": {},
     "output_type": "display_data"
    },
    {
     "data": {
      "application/vnd.jupyter.widget-view+json": {
       "model_id": "9314052652a64c398d9dbbe84ca5aa9b",
       "version_major": 2,
       "version_minor": 0
      },
      "text/plain": [
       "Evaluating:   0%|          | 0/24 [00:00<?, ?it/s]"
      ]
     },
     "metadata": {},
     "output_type": "display_data"
    },
    {
     "name": "stdout",
     "output_type": "stream",
     "text": [
      "Epoch [20/100], Train: 0.0372, Val: 0.0994, RMSE: 0.3153\n"
     ]
    },
    {
     "data": {
      "application/vnd.jupyter.widget-view+json": {
       "model_id": "46f7d6fdb4364e87b43d8dafc6ad1c3b",
       "version_major": 2,
       "version_minor": 0
      },
      "text/plain": [
       "  0%|          | 0/102 [00:00<?, ?it/s]"
      ]
     },
     "metadata": {},
     "output_type": "display_data"
    },
    {
     "data": {
      "application/vnd.jupyter.widget-view+json": {
       "model_id": "edc8261dde844762b9fbd315e68c642a",
       "version_major": 2,
       "version_minor": 0
      },
      "text/plain": [
       "Evaluating:   0%|          | 0/24 [00:00<?, ?it/s]"
      ]
     },
     "metadata": {},
     "output_type": "display_data"
    },
    {
     "name": "stdout",
     "output_type": "stream",
     "text": [
      "Epoch [21/100], Train: 0.0368, Val: 0.1313, RMSE: 0.3624\n"
     ]
    },
    {
     "data": {
      "application/vnd.jupyter.widget-view+json": {
       "model_id": "b57582f0a38a4e72ab277bdbcad8ac55",
       "version_major": 2,
       "version_minor": 0
      },
      "text/plain": [
       "  0%|          | 0/102 [00:00<?, ?it/s]"
      ]
     },
     "metadata": {},
     "output_type": "display_data"
    },
    {
     "data": {
      "application/vnd.jupyter.widget-view+json": {
       "model_id": "01a27689f2c24dc6984dbf534c2759a9",
       "version_major": 2,
       "version_minor": 0
      },
      "text/plain": [
       "Evaluating:   0%|          | 0/24 [00:00<?, ?it/s]"
      ]
     },
     "metadata": {},
     "output_type": "display_data"
    },
    {
     "name": "stdout",
     "output_type": "stream",
     "text": [
      "Epoch [22/100], Train: 0.0358, Val: 0.1392, RMSE: 0.3731\n"
     ]
    },
    {
     "data": {
      "application/vnd.jupyter.widget-view+json": {
       "model_id": "aee8d955fd4a428c8b084442a859b1ff",
       "version_major": 2,
       "version_minor": 0
      },
      "text/plain": [
       "  0%|          | 0/102 [00:00<?, ?it/s]"
      ]
     },
     "metadata": {},
     "output_type": "display_data"
    },
    {
     "data": {
      "application/vnd.jupyter.widget-view+json": {
       "model_id": "dedf9f93fc574df780ca0505bfea346f",
       "version_major": 2,
       "version_minor": 0
      },
      "text/plain": [
       "Evaluating:   0%|          | 0/24 [00:00<?, ?it/s]"
      ]
     },
     "metadata": {},
     "output_type": "display_data"
    },
    {
     "name": "stdout",
     "output_type": "stream",
     "text": [
      "Epoch [23/100], Train: 0.0360, Val: 0.1106, RMSE: 0.3325\n"
     ]
    },
    {
     "data": {
      "application/vnd.jupyter.widget-view+json": {
       "model_id": "9afcd1100e224c62ba42ad9e75dfa6b5",
       "version_major": 2,
       "version_minor": 0
      },
      "text/plain": [
       "  0%|          | 0/102 [00:00<?, ?it/s]"
      ]
     },
     "metadata": {},
     "output_type": "display_data"
    },
    {
     "data": {
      "application/vnd.jupyter.widget-view+json": {
       "model_id": "f2a3e01a01854b42beea1b4e2bc5aa95",
       "version_major": 2,
       "version_minor": 0
      },
      "text/plain": [
       "Evaluating:   0%|          | 0/24 [00:00<?, ?it/s]"
      ]
     },
     "metadata": {},
     "output_type": "display_data"
    },
    {
     "name": "stdout",
     "output_type": "stream",
     "text": [
      "Epoch [24/100], Train: 0.0350, Val: 0.1189, RMSE: 0.3448\n"
     ]
    },
    {
     "data": {
      "application/vnd.jupyter.widget-view+json": {
       "model_id": "85a8502047c74133b8e0ab2b41823514",
       "version_major": 2,
       "version_minor": 0
      },
      "text/plain": [
       "  0%|          | 0/102 [00:00<?, ?it/s]"
      ]
     },
     "metadata": {},
     "output_type": "display_data"
    },
    {
     "data": {
      "application/vnd.jupyter.widget-view+json": {
       "model_id": "e53020187fc044a889774825d588c974",
       "version_major": 2,
       "version_minor": 0
      },
      "text/plain": [
       "Evaluating:   0%|          | 0/24 [00:00<?, ?it/s]"
      ]
     },
     "metadata": {},
     "output_type": "display_data"
    },
    {
     "name": "stdout",
     "output_type": "stream",
     "text": [
      "Epoch [25/100], Train: 0.0331, Val: 0.1213, RMSE: 0.3482\n"
     ]
    },
    {
     "data": {
      "application/vnd.jupyter.widget-view+json": {
       "model_id": "8b7536fd30e5428f825baa32b26986d2",
       "version_major": 2,
       "version_minor": 0
      },
      "text/plain": [
       "  0%|          | 0/102 [00:00<?, ?it/s]"
      ]
     },
     "metadata": {},
     "output_type": "display_data"
    },
    {
     "data": {
      "application/vnd.jupyter.widget-view+json": {
       "model_id": "008d5b95b0da43abb259b3c7c6053a72",
       "version_major": 2,
       "version_minor": 0
      },
      "text/plain": [
       "Evaluating:   0%|          | 0/24 [00:00<?, ?it/s]"
      ]
     },
     "metadata": {},
     "output_type": "display_data"
    },
    {
     "name": "stdout",
     "output_type": "stream",
     "text": [
      "Epoch [26/100], Train: 0.0330, Val: 0.1390, RMSE: 0.3728\n"
     ]
    },
    {
     "data": {
      "application/vnd.jupyter.widget-view+json": {
       "model_id": "2a85774d10f54cac9949a2185140ef46",
       "version_major": 2,
       "version_minor": 0
      },
      "text/plain": [
       "  0%|          | 0/102 [00:00<?, ?it/s]"
      ]
     },
     "metadata": {},
     "output_type": "display_data"
    },
    {
     "data": {
      "application/vnd.jupyter.widget-view+json": {
       "model_id": "d269f7b5257d4dc08dee362d2e336f9a",
       "version_major": 2,
       "version_minor": 0
      },
      "text/plain": [
       "Evaluating:   0%|          | 0/24 [00:00<?, ?it/s]"
      ]
     },
     "metadata": {},
     "output_type": "display_data"
    },
    {
     "name": "stdout",
     "output_type": "stream",
     "text": [
      "Epoch [27/100], Train: 0.0329, Val: 0.1244, RMSE: 0.3528\n"
     ]
    },
    {
     "data": {
      "application/vnd.jupyter.widget-view+json": {
       "model_id": "902cdee0242747f6882ebf752bd75714",
       "version_major": 2,
       "version_minor": 0
      },
      "text/plain": [
       "  0%|          | 0/102 [00:00<?, ?it/s]"
      ]
     },
     "metadata": {},
     "output_type": "display_data"
    },
    {
     "data": {
      "application/vnd.jupyter.widget-view+json": {
       "model_id": "8aa360a8d07b45b381c25589f3e949d0",
       "version_major": 2,
       "version_minor": 0
      },
      "text/plain": [
       "Evaluating:   0%|          | 0/24 [00:00<?, ?it/s]"
      ]
     },
     "metadata": {},
     "output_type": "display_data"
    },
    {
     "name": "stdout",
     "output_type": "stream",
     "text": [
      "Epoch [28/100], Train: 0.0326, Val: 0.1073, RMSE: 0.3276\n",
      "Early stopping triggered after 28 epochs. Best validation loss: 0.0994\n",
      "Training complete\n"
     ]
    }
   ],
   "source": [
    "import torch.nn as nn\n",
    "from tqdm.auto import tqdm\n",
    "from lion_pytorch import Lion\n",
    "import os\n",
    "import torch\n",
    "\n",
    "def evaluate(model, test_loader, criterion, device):\n",
    "    model.eval()\n",
    "    running_loss = 0.0\n",
    "    batch_count = 0\n",
    "    with torch.no_grad():\n",
    "        for batch in tqdm(test_loader, desc=\"Evaluating\", leave=False):\n",
    "            x_hist = batch[\"x_hist\"].to(device)\n",
    "            x_extra_hist = batch[\"x_extra_hist\"].to(device)\n",
    "            x_extra_future = batch[\"x_extra_future\"].to(device)\n",
    "            x_static = batch[\"x_static\"].to(device)\n",
    "            y = batch[\"y\"].to(device)\n",
    "            y_pred = model.forward(\n",
    "                x_hist=x_hist,\n",
    "                x_extra_hist=x_extra_hist,\n",
    "                x_extra_future=x_extra_future,\n",
    "                x_static=x_static,\n",
    "            )\n",
    "            loss = criterion(y_pred, y)\n",
    "            running_loss += loss.item()\n",
    "            batch_count += 1\n",
    "    avg_loss = running_loss / batch_count\n",
    "    return {\"loss\": avg_loss, \"rmse\": np.sqrt(avg_loss)}\n",
    "\n",
    "model = TSMixerExt(\n",
    "    sequence_length=seq_length,\n",
    "    prediction_length=pred_length,\n",
    "    input_channels=input_channels,\n",
    "    extra_channels=extra_channels,\n",
    "    hidden_channels=64,\n",
    "    static_channels=static_channels,\n",
    "    output_channels=input_channels,\n",
    "    normalize_before=False,\n",
    "    ff_dim=128,\n",
    ")\n",
    "\n",
    "criterion = nn.MSELoss()\n",
    "optimizer = Lion(model.parameters(), lr=1e-4, weight_decay=1e-2)\n",
    "num_epochs = 100\n",
    "best_model_path = './best_model_lion'\n",
    "os.makedirs(best_model_path, exist_ok=True)\n",
    "model.to(device)\n",
    "\n",
    "patience = 8\n",
    "early_stopping = torch.optim.lr_scheduler.ReduceLROnPlateau(\n",
    "    optimizer, mode='min', factor=0.5, patience=patience//2,\n",
    "    threshold=0.0001, min_lr=1e-6\n",
    ")\n",
    "\n",
    "early_stop_counter = 0\n",
    "best_val_loss = float('inf')\n",
    "epoch_progress = tqdm(range(num_epochs), desc=\"Training\")\n",
    "\n",
    "for epoch in epoch_progress:\n",
    "    model.train()\n",
    "    running_loss = 0.0\n",
    "    batch_count = 0\n",
    "    batch_progress = tqdm(train_loader, leave=False)\n",
    "    \n",
    "    for batch in batch_progress:\n",
    "        x_hist = batch[\"x_hist\"].to(device)\n",
    "        x_extra_hist = batch[\"x_extra_hist\"].to(device)\n",
    "        x_extra_future = batch[\"x_extra_future\"].to(device)\n",
    "        x_static = batch[\"x_static\"].to(device)\n",
    "        y = batch[\"y\"].to(device)\n",
    "        y_pred = model.forward(\n",
    "            x_hist=x_hist,\n",
    "            x_extra_hist=x_extra_hist,\n",
    "            x_extra_future=x_extra_future,\n",
    "            x_static=x_static,\n",
    "        )\n",
    "        loss = criterion(y_pred, y)\n",
    "        loss.backward()\n",
    "        optimizer.step()\n",
    "        optimizer.zero_grad()\n",
    "        running_loss += loss.item()\n",
    "        batch_count += 1\n",
    "\n",
    "    avg_loss = running_loss / batch_count\n",
    "    val_metrics = evaluate(model, val_loader, criterion, device)\n",
    "    \n",
    "    # Update epoch progress bar with metrics\n",
    "    epoch_progress.set_description(f\"Epoch [{epoch+1}/{num_epochs}], Train: {avg_loss:.4f}, Val: {val_metrics['loss']:.4f}, RMSE: {val_metrics['rmse']:.4f}\")\n",
    "    \n",
    "    early_stopping.step(val_metrics['loss'])\n",
    "    print(f\"Epoch [{epoch+1}/{num_epochs}], Train: {avg_loss:.4f}, Val: {val_metrics['loss']:.4f}, RMSE: {val_metrics['rmse']:.4f}\")\n",
    "    \n",
    "    \n",
    "    if val_metrics['loss'] < best_val_loss:\n",
    "        best_val_loss = val_metrics['loss']\n",
    "        torch.save(model.state_dict(), os.path.join(best_model_path, 'best_model_state_dict.pth'))\n",
    "        torch.save(model, os.path.join(best_model_path, 'best_model_pickle.pth'))\n",
    "        early_stop_counter = 0\n",
    "    else:\n",
    "        early_stop_counter += 1\n",
    "        if early_stop_counter >= patience:\n",
    "            epoch_progress.write(f\"Early stopping triggered after {epoch+1} epochs. Best validation loss: {best_val_loss:.4f}\")\n",
    "            break\n",
    "\n",
    "epoch_progress.write(\"Training complete\")"
   ]
  },
  {
   "cell_type": "code",
   "execution_count": 11,
   "metadata": {},
   "outputs": [],
   "source": [
    "model = TSMixerExt(\n",
    "    sequence_length=seq_length,\n",
    "    prediction_length=pred_length,\n",
    "    input_channels=input_channels,\n",
    "    extra_channels=extra_channels,\n",
    "    hidden_channels=64,\n",
    "    static_channels=static_channels,\n",
    "    output_channels=input_channels,\n",
    "    normalize_before=False,\n",
    "    ff_dim=128,\n",
    ")\n",
    "model.to(device=device);"
   ]
  },
  {
   "cell_type": "code",
   "execution_count": 12,
   "metadata": {},
   "outputs": [],
   "source": [
    "val_predictions = {}\n",
    "test_predictions = {}\n",
    "\n",
    "model2path = {'TSMixer': 'best_model/best_model_state_dict.pth', 'TSMixer_LiON': 'best_model_lion/best_model_state_dict.pth'}\n",
    "\n",
    "for model_name, path in model2path.items():\n",
    "    val_predictions_df = pd.DataFrame()\n",
    "    test_predictions_df = pd.DataFrame()\n",
    "\n",
    "    model.load_state_dict(torch.load(path, weights_only=True))\n",
    "    model.eval()\n",
    "    with torch.no_grad():\n",
    "        for code, val_dataset_ in zip(all_codes, val_datasets):\n",
    "            predictions = []\n",
    "            true_values = []\n",
    "\n",
    "            for i in range(0, len(val_dataset_), pred_length):\n",
    "                sample = val_dataset_[i]\n",
    "\n",
    "                x_hist = sample[\"x_hist\"].unsqueeze(0).to(device)\n",
    "                x_extra_hist = sample[\"x_extra_hist\"].unsqueeze(0).to(device)\n",
    "                x_extra_future = sample[\"x_extra_future\"].unsqueeze(0).to(device)\n",
    "                x_static = sample[\"x_static\"].unsqueeze(0).to(device)\n",
    "                y = sample[\"y\"].unsqueeze(0).to(device)\n",
    "\n",
    "                y_pred = model.forward(\n",
    "                    x_hist=x_hist,\n",
    "                    x_extra_hist=x_extra_hist,\n",
    "                    x_extra_future=x_extra_future,\n",
    "                    x_static=x_static,\n",
    "                )\n",
    "\n",
    "                y_pred_np = y_pred.cpu().numpy().squeeze()\n",
    "                y_np = y.cpu().numpy().squeeze()\n",
    "\n",
    "                predictions.extend(y_pred_np.tolist())\n",
    "                true_values.extend(y_np.tolist())\n",
    "\n",
    "            target_scaler = scalers[TARGET_COL]\n",
    "\n",
    "            predictions = target_scaler.inverse_transform(np.array(predictions).reshape(-1, 1)).flatten()\n",
    "            true_values = target_scaler.inverse_transform(np.array(true_values).reshape(-1, 1)).flatten()\n",
    "\n",
    "            df = pd.DataFrame([\n",
    "                predictions,\n",
    "                true_values,\n",
    "            ]).transpose()\n",
    "            df.columns = ['mean', 'y_true']\n",
    "            df['code'] = code\n",
    "            df['0.1'] = get_quantile_from_median(df['mean'].values, 0.1)\n",
    "            df['0.9'] = get_quantile_from_median(df['mean'].values, 0.9)\n",
    "\n",
    "            val_predictions_df = pd.concat([val_predictions_df, df])\n",
    "\n",
    "    with torch.no_grad():\n",
    "        for code, test_dataset_ in zip(all_codes, test_datasets):\n",
    "            predictions = []\n",
    "            true_values = []\n",
    "\n",
    "            for i in range(0, len(test_dataset_), pred_length):\n",
    "                sample = test_dataset_[i]\n",
    "\n",
    "                x_hist = sample[\"x_hist\"].unsqueeze(0).to(device)\n",
    "                x_extra_hist = sample[\"x_extra_hist\"].unsqueeze(0).to(device)\n",
    "                x_extra_future = sample[\"x_extra_future\"].unsqueeze(0).to(device)\n",
    "                x_static = sample[\"x_static\"].unsqueeze(0).to(device)\n",
    "                y = sample[\"y\"].unsqueeze(0).to(device)\n",
    "\n",
    "                y_pred = model.forward(\n",
    "                    x_hist=x_hist,\n",
    "                    x_extra_hist=x_extra_hist,\n",
    "                    x_extra_future=x_extra_future,\n",
    "                    x_static=x_static,\n",
    "                )\n",
    "\n",
    "                y_pred_np = y_pred.cpu().numpy().squeeze()\n",
    "                y_np = y.cpu().numpy().squeeze()\n",
    "\n",
    "                predictions.extend(y_pred_np.tolist())\n",
    "                true_values.extend(y_np.tolist())\n",
    "\n",
    "            target_scaler = scalers[TARGET_COL]\n",
    "\n",
    "            predictions = target_scaler.inverse_transform(np.array(predictions).reshape(-1, 1)).flatten()\n",
    "            true_values = target_scaler.inverse_transform(np.array(true_values).reshape(-1, 1)).flatten()\n",
    "\n",
    "            df = pd.DataFrame([\n",
    "                predictions,\n",
    "                true_values,\n",
    "            ]).transpose()\n",
    "            df.columns = ['mean', 'y_true']\n",
    "            df['code'] = code\n",
    "            df['0.1'] = get_quantile_from_median(df['mean'].values, 0.1)\n",
    "            df['0.9'] = get_quantile_from_median(df['mean'].values, 0.9)\n",
    "\n",
    "            test_predictions_df = pd.concat([test_predictions_df, df])\n",
    "\n",
    "    val_predictions_df.set_index('code', inplace=True)\n",
    "    test_predictions_df.set_index('code', inplace=True)\n",
    "\n",
    "    val_predictions[model_name] = val_predictions_df\n",
    "    test_predictions[model_name] = test_predictions_df"
   ]
  },
  {
   "cell_type": "code",
   "execution_count": null,
   "metadata": {},
   "outputs": [
    {
     "data": {
      "application/vnd.jupyter.widget-view+json": {
       "model_id": "255ff1677203456aba84313ac545dd91",
       "version_major": 2,
       "version_minor": 0
      },
      "text/plain": [
       "VBox(children=(HBox(children=(DatePicker(value=datetime.date(2023, 1, 1), description='Start date:'), DatePick…"
      ]
     },
     "metadata": {},
     "output_type": "display_data"
    },
    {
     "data": {
      "application/vnd.jupyter.widget-view+json": {
       "model_id": "0fa001008cc54a6086051be81808cfc0",
       "version_major": 2,
       "version_minor": 0
      },
      "text/plain": [
       "Output()"
      ]
     },
     "metadata": {},
     "output_type": "display_data"
    }
   ],
   "source": [
    "import ipywidgets as widgets\n",
    "from IPython.display import display, clear_output\n",
    "import datetime\n",
    "from utils.plotting import plot_forecasts_val_test\n",
    "\n",
    "\n",
    "date_col = pd.to_datetime(test_df[\"date\"])\n",
    "min_date = date_col.min().date()\n",
    "max_date = date_col.max().date()\n",
    "height = 400\n",
    "width = 1200\n",
    "\n",
    "start_date_picker = widgets.DatePicker(\n",
    "    description=\"Start date:\", disabled=False, value=min_date\n",
    ")\n",
    "\n",
    "end_date_picker = widgets.DatePicker(\n",
    "    description=\"End date:\", disabled=False, value=max_date\n",
    ")\n",
    "\n",
    "output_area = widgets.Output()\n",
    "\n",
    "\n",
    "def on_button_clicked(b):\n",
    "    with output_area:\n",
    "        clear_output(wait=True)\n",
    "        start_date = datetime.datetime.combine(\n",
    "            start_date_picker.value, datetime.datetime.min.time()\n",
    "        )\n",
    "        end_date = datetime.datetime.combine(\n",
    "            end_date_picker.value, datetime.datetime.min.time()\n",
    "        )\n",
    "        plot_forecasts_val_test(\n",
    "            val_df=val_df_,\n",
    "            test_df=test_df_,\n",
    "            val_predictions=all_val_models_predictions_,\n",
    "            test_predictions=test_predictions,\n",
    "            start_date=start_date,\n",
    "            end_date=end_date,\n",
    "            height=height,\n",
    "            width=width,\n",
    "            item_id=item_id,\n",
    "        )\n",
    "\n",
    "\n",
    "plot_button = widgets.Button(description=\"Plot Forecasts\")\n",
    "plot_button.on_click(on_button_clicked)\n",
    "\n",
    "controls = widgets.VBox(\n",
    "    [widgets.HBox([start_date_picker, end_date_picker]), plot_button]\n",
    ")\n",
    "\n",
    "display(controls, output_area)\n",
    "\n",
    "item_id = 1\n",
    "\n",
    "val_df_ = val_df.rename(columns={'date': 'timestamp', \"nominal_wage\": \"target\"})[['code', 'timestamp', \"target\"]]\n",
    "val_df_ = val_df_[val_df_['code'].eq(item_id)].reset_index(drop=True)\n",
    "val_df_['timestamp'] = pd.to_datetime(val_df_['timestamp'])\n",
    "\n",
    "test_df_ = test_df.rename(columns={'date': 'timestamp', \"nominal_wage\": \"target\"})[['code', 'timestamp', \"target\"]]\n",
    "test_df_ = test_df_[test_df_['code'].eq(item_id)].reset_index(drop=True)\n",
    "test_df_['timestamp'] = pd.to_datetime(test_df_['timestamp'])\n",
    "\n",
    "val_df_ = pd.concat([val_df_, test_df_.iloc[[0]]])\n",
    "\n",
    "all_val_models_predictions_ = val_predictions.copy()\n",
    "for model_ in all_val_models_predictions_.keys():\n",
    "    all_val_models_predictions_[model_] = pd.concat([all_val_models_predictions_[model_], test_predictions[model_].loc[[item_id]].iloc[[0]]])\n",
    "\n",
    "with output_area:\n",
    "    plot_forecasts_val_test(\n",
    "        val_df=val_df_,\n",
    "        test_df=test_df_,\n",
    "        val_predictions=all_val_models_predictions_,\n",
    "        test_predictions=test_predictions,\n",
    "        height=height,\n",
    "        width=width,\n",
    "        item_id=item_id,\n",
    "    )"
   ]
  },
  {
   "cell_type": "code",
   "execution_count": null,
   "metadata": {},
   "outputs": [
    {
     "data": {
      "text/plain": [
       "{'TSMixer': {'MSE': 107288060.00084822,\n",
       "  'MAE': 5633.84614821767,\n",
       "  'MAPE': 5.790095907679104,\n",
       "  'MASE': 1.1370568118828535,\n",
       "  'SQL': 2063.668330070852},\n",
       " 'TSMixer_LiON': {'MSE': 70734775.08098634,\n",
       "  'MAE': 4918.452059194301,\n",
       "  'MAPE': 5.4690594125309655,\n",
       "  'MASE': 1.3597564609305124,\n",
       "  'SQL': 1831.1950418128847}}"
      ]
     },
     "execution_count": 15,
     "metadata": {},
     "output_type": "execute_result"
    }
   ],
   "source": [
    "all_models_metrics = {}\n",
    "\n",
    "for model in test_predictions.keys():\n",
    "    metrics_df = []\n",
    "    for code in all_codes:\n",
    "        pred_df = pd.concat([\n",
    "            test_predictions[model].rename(columns={'mean': '0.5'})\n",
    "            .loc[code][[\"0.1\", \"0.5\", \"0.9\"]]\n",
    "            .reset_index(drop=True),\n",
    "            test_df[test_df[\"code\"].eq(code)][[\"nominal_wage\"]].reset_index(drop=True),\n",
    "        ], axis=1)\n",
    "        pred_df = pd.DataFrame(pred_df)\n",
    "\n",
    "        metrics_df.append(calculate_sklearn_metrics(pred_df, target_column='nominal_wage'))\n",
    "\n",
    "    metrics_dict = pd.DataFrame(metrics_df).mean().to_dict()\n",
    "\n",
    "    all_models_metrics[model] = metrics_dict\n",
    "\n",
    "all_models_metrics"
   ]
  },
  {
   "cell_type": "code",
   "execution_count": 17,
   "metadata": {},
   "outputs": [
    {
     "name": "stdout",
     "output_type": "stream",
     "text": [
      "🏃 View run TSMixer_TSMixer at: http://127.0.0.1:5000/#/experiments/169882278836627198/runs/4de1a3940e3a4884a2eb419ff07fef8c\n",
      "🧪 View experiment at: http://127.0.0.1:5000/#/experiments/169882278836627198\n",
      "🏃 View run TSMixer_LiON_TSMixer at: http://127.0.0.1:5000/#/experiments/169882278836627198/runs/c6a5993de72640209334c684ff305e39\n",
      "🧪 View experiment at: http://127.0.0.1:5000/#/experiments/169882278836627198\n"
     ]
    }
   ],
   "source": [
    "prefix = 'TSMixer'\n",
    "\n",
    "for k, metrics_ in all_models_metrics.items():\n",
    "    run_name = f\"{k}_{prefix}\"\n",
    "\n",
    "    with mlflow.start_run(run_name=run_name):\n",
    "        mlflow.log_metrics(metrics_)\n",
    "        mlflow.log_param(\"model_name\", k)\n",
    "\n",
    "        mlflow.set_tag(\"prefix\", prefix)"
   ]
  },
  {
   "cell_type": "code",
   "execution_count": 18,
   "metadata": {},
   "outputs": [
    {
     "data": {
      "text/plain": [
       "{'TSMixer': {'MSE': 107288060.00084822,\n",
       "  'MAE': 5633.84614821767,\n",
       "  'MAPE': 5.790095907679104,\n",
       "  'MASE': 1.1370568118828535,\n",
       "  'SQL': 2063.668330070852},\n",
       " 'TSMixer_LiON': {'MSE': 70734775.08098634,\n",
       "  'MAE': 4918.452059194301,\n",
       "  'MAPE': 5.4690594125309655,\n",
       "  'MASE': 1.3597564609305124,\n",
       "  'SQL': 1831.1950418128847}}"
      ]
     },
     "execution_count": 18,
     "metadata": {},
     "output_type": "execute_result"
    }
   ],
   "source": [
    "all_models_metrics"
   ]
  }
 ],
 "metadata": {
  "kernelspec": {
   "display_name": "base",
   "language": "python",
   "name": "python3"
  },
  "language_info": {
   "codemirror_mode": {
    "name": "ipython",
    "version": 3
   },
   "file_extension": ".py",
   "mimetype": "text/x-python",
   "name": "python",
   "nbconvert_exporter": "python",
   "pygments_lexer": "ipython3",
   "version": "3.12.7"
  }
 },
 "nbformat": 4,
 "nbformat_minor": 2
}
