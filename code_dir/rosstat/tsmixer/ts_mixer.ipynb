{
 "cells": [
  {
   "cell_type": "code",
   "execution_count": 1,
   "metadata": {},
   "outputs": [],
   "source": [
    "import sys\n",
    "import os\n",
    "\n",
    "import joblib\n",
    "import mlflow\n",
    "import pandas as pd\n",
    "\n",
    "import torch\n",
    "from torch.utils.data import DataLoader\n",
    "from sklearn.preprocessing import MinMaxScaler, StandardScaler\n",
    "\n",
    "sys.path.append('../..')\n",
    "\n",
    "from utils import get_quantile_from_median, calculate_sklearn_metrics\n",
    "from torch_utils import TimeSeriesDataset, collate_fn\n",
    "\n",
    "mlflow.set_tracking_uri(\"http://127.0.0.1:5000\")\n",
    "mlflow.set_experiment(\"rosstat_forecasting\");"
   ]
  },
  {
   "cell_type": "code",
   "execution_count": 2,
   "metadata": {},
   "outputs": [
    {
     "name": "stdout",
     "output_type": "stream",
     "text": [
      "Обучающая выборка: 4140 строк\n",
      "Валидационная выборка: 828 строк\n",
      "Тестовая выборка: 828 строк\n"
     ]
    }
   ],
   "source": [
    "data_dir = '../../../data/rosstat/processed'\n",
    "\n",
    "train_df = pd.read_csv(os.path.join(data_dir, 'train/data.csv'))\n",
    "val_df = pd.read_csv(os.path.join(data_dir, 'val/data.csv'))\n",
    "test_df = pd.read_csv(os.path.join(data_dir, 'test/data.csv'))\n",
    "\n",
    "print(f\"Обучающая выборка: {train_df.shape[0]} строк\")\n",
    "print(f\"Валидационная выборка: {val_df.shape[0]} строк\")\n",
    "print(f\"Тестовая выборка: {test_df.shape[0]} строк\")"
   ]
  },
  {
   "cell_type": "code",
   "execution_count": 3,
   "metadata": {},
   "outputs": [],
   "source": [
    "TARGET_COL = \"nominal_wage\"\n",
    "PAST_COVARIATES = [\n",
    "    \"capital_labor_ratio_change\",\n",
    "    \"capital_productivity_change\",\n",
    "    \"fixed_assets_renewal_comparable_prices\",\n",
    "    \"labor_productivity\",\n",
    "    \"high_productivity_jobs\",\n",
    "    \"machinery_share_in_total_assets\",\n",
    "    \"investment_share_for_modernization\",\n",
    "    \"production_index_yoy\",\n",
    "    \"production_index_mom\",\n",
    "]\n",
    "KNOWN_COVARIATES = []\n",
    "seq_length = 12\n",
    "pred_length = 2\n",
    "stride = 1\n",
    "device = torch.device('cuda' if torch.cuda.is_available() else 'cpu')"
   ]
  },
  {
   "cell_type": "markdown",
   "metadata": {},
   "source": [
    "## Нормализация"
   ]
  },
  {
   "cell_type": "code",
   "execution_count": 4,
   "metadata": {},
   "outputs": [
    {
     "data": {
      "text/plain": [
       "['./artifacts/all_scalers.joblib']"
      ]
     },
     "execution_count": 4,
     "metadata": {},
     "output_type": "execute_result"
    }
   ],
   "source": [
    "# Нормализация по code\n",
    "\n",
    "scale_columns = PAST_COVARIATES + [TARGET_COL]\n",
    "\n",
    "all_codes = train_df['code'].unique()\n",
    "\n",
    "os.makedirs('./artifacts', exist_ok=True)\n",
    "\n",
    "train_scaled = train_df.copy()\n",
    "val_scaled = val_df.copy()\n",
    "test_scaled = test_df.copy()\n",
    "\n",
    "for code in all_codes:\n",
    "    scaler = MinMaxScaler(feature_range=(0, 1))\n",
    "    \n",
    "    code_mask_train = train_df['code'] == code\n",
    "    code_mask_val = val_df['code'] == code\n",
    "    code_mask_test = test_df['code'] == code\n",
    "    \n",
    "    if sum(code_mask_train) > 0:\n",
    "        features_scaled = scaler.fit_transform(train_df.loc[code_mask_train, scale_columns])\n",
    "        train_scaled.loc[code_mask_train, scale_columns] = features_scaled\n",
    "        \n",
    "        if sum(code_mask_val) > 0:\n",
    "            features_scaled = scaler.transform(val_df.loc[code_mask_val, scale_columns])\n",
    "            val_scaled.loc[code_mask_val, scale_columns] = features_scaled\n",
    "            \n",
    "        if sum(code_mask_test) > 0:\n",
    "            features_scaled = scaler.transform(test_df.loc[code_mask_test, scale_columns])\n",
    "            test_scaled.loc[code_mask_test, scale_columns] = features_scaled\n",
    "        \n",
    "        joblib.dump(scaler, f'./artifacts/scaler_{code}.joblib')\n",
    "\n",
    "scaler_dict = {code: joblib.load(f'./artifacts/scaler_{code}.joblib') for code in all_codes}\n",
    "joblib.dump(scaler_dict, './artifacts/all_scalers.joblib')"
   ]
  },
  {
   "cell_type": "code",
   "execution_count": 5,
   "metadata": {},
   "outputs": [
    {
     "data": {
      "text/plain": [
       "['./artifacts/all_column_scalers.joblib']"
      ]
     },
     "execution_count": 5,
     "metadata": {},
     "output_type": "execute_result"
    }
   ],
   "source": [
    "# Нормализация по колонкам\n",
    "\n",
    "scale_columns = PAST_COVARIATES + [TARGET_COL]\n",
    "os.makedirs('./artifacts', exist_ok=True)\n",
    "\n",
    "train_scaled = train_df.copy()\n",
    "val_scaled = val_df.copy()\n",
    "test_scaled = test_df.copy()\n",
    "\n",
    "scalers = {}\n",
    "for column in scale_columns:\n",
    "    scaler = StandardScaler()\n",
    "    \n",
    "    train_scaled[column] = scaler.fit_transform(train_df[[column]])\n",
    "    val_scaled[column] = scaler.transform(val_df[[column]])\n",
    "    test_scaled[column] = scaler.transform(test_df[[column]])\n",
    "    \n",
    "    scalers[column] = scaler\n",
    "    joblib.dump(scaler, f'./artifacts/scaler_{column}.joblib')\n",
    "\n",
    "joblib.dump(scalers, './artifacts/all_column_scalers.joblib')"
   ]
  },
  {
   "cell_type": "markdown",
   "metadata": {},
   "source": [
    "## Создание датасета с учётом панельной структуры данных"
   ]
  },
  {
   "cell_type": "code",
   "execution_count": 6,
   "metadata": {},
   "outputs": [
    {
     "name": "stdout",
     "output_type": "stream",
     "text": [
      "Обучающий датасет: 3243 строк\n",
      "Валидационный датасет: 759 строк\n",
      "Тестовый датасет: 759 строк\n"
     ]
    }
   ],
   "source": [
    "train_datasets = []\n",
    "test_datasets = []\n",
    "val_datasets = []\n",
    "\n",
    "for code in train_df['code'].unique():\n",
    "    train_scaled_subset = train_scaled[train_scaled['code'].eq(code)].copy()\n",
    "    val_scaled_subset = val_scaled[val_scaled['code'].eq(code)].copy()\n",
    "    test_scaled_subset = test_scaled[test_scaled['code'].eq(code)].copy()\n",
    "\n",
    "    test_scaled_subset = pd.concat([val_scaled_subset[-seq_length:], test_scaled_subset])\n",
    "    val_scaled_subset = pd.concat([train_scaled_subset[-seq_length:], val_scaled_subset])\n",
    "\n",
    "    train_scaled_subset.sort_values(by=['date'], inplace=True)\n",
    "    test_scaled_subset.sort_values(by=['date'], inplace=True)\n",
    "    val_scaled_subset.sort_values(by=['date'], inplace=True)\n",
    "\n",
    "    train_dataset = TimeSeriesDataset(\n",
    "        train_scaled_subset,\n",
    "        target_col=TARGET_COL,\n",
    "        past_covariates=PAST_COVARIATES,\n",
    "        known_covariates=KNOWN_COVARIATES,\n",
    "        seq_length=seq_length,\n",
    "        pred_length=pred_length,\n",
    "        stride=stride,\n",
    "    )\n",
    "    train_datasets.append(train_dataset)\n",
    "\n",
    "    val_dataset = TimeSeriesDataset(\n",
    "        val_scaled_subset,\n",
    "        target_col=TARGET_COL,\n",
    "        past_covariates=PAST_COVARIATES,\n",
    "        known_covariates=KNOWN_COVARIATES,\n",
    "        seq_length=seq_length,\n",
    "        pred_length=pred_length,\n",
    "        stride=stride,\n",
    "    )\n",
    "    val_datasets.append(val_dataset)\n",
    "\n",
    "    test_dataset = TimeSeriesDataset(\n",
    "        test_scaled_subset,\n",
    "        target_col=TARGET_COL,\n",
    "        past_covariates=PAST_COVARIATES,\n",
    "        known_covariates=KNOWN_COVARIATES,\n",
    "        seq_length=seq_length,\n",
    "        pred_length=pred_length,\n",
    "        stride=stride,\n",
    "    )\n",
    "    test_datasets.append(test_dataset)\n",
    "\n",
    "train_dataset = torch.utils.data.ConcatDataset(train_datasets)\n",
    "val_dataset = torch.utils.data.ConcatDataset(val_datasets)\n",
    "test_dataset = torch.utils.data.ConcatDataset(test_datasets)\n",
    "\n",
    "print(f\"Обучающий датасет: {len(train_dataset)} строк\")\n",
    "print(f\"Валидационный датасет: {len(val_dataset)} строк\")\n",
    "print(f\"Тестовый датасет: {len(test_dataset)} строк\")"
   ]
  },
  {
   "cell_type": "code",
   "execution_count": 7,
   "metadata": {},
   "outputs": [],
   "source": [
    "batch_size = 32\n",
    "\n",
    "train_loader = DataLoader(\n",
    "    train_dataset,\n",
    "    batch_size=batch_size,\n",
    "    shuffle=True,\n",
    "    collate_fn=collate_fn,\n",
    ")\n",
    "\n",
    "val_loader = DataLoader(\n",
    "    val_dataset,\n",
    "    batch_size=batch_size,\n",
    "    shuffle=False,\n",
    "    collate_fn=collate_fn,\n",
    ")\n",
    "\n",
    "test_loader = DataLoader(\n",
    "    test_dataset,\n",
    "    batch_size=batch_size,\n",
    "    shuffle=False,\n",
    "    collate_fn=collate_fn,\n",
    ")"
   ]
  },
  {
   "cell_type": "code",
   "execution_count": 8,
   "metadata": {},
   "outputs": [],
   "source": [
    "from torchtsmixer import TSMixerExt\n",
    "\n",
    "input_channels = train_dataset[0]['x_hist'].shape[1]\n",
    "extra_channels = train_dataset[0]['x_extra_hist'].shape[1]\n",
    "static_channels = train_dataset[0]['x_static'].shape[0]"
   ]
  },
  {
   "cell_type": "code",
   "execution_count": 9,
   "metadata": {},
   "outputs": [
    {
     "data": {
      "application/vnd.jupyter.widget-view+json": {
       "model_id": "40ac52ddb42f49e78085428618f12262",
       "version_major": 2,
       "version_minor": 0
      },
      "text/plain": [
       "Training:   0%|          | 0/100 [00:00<?, ?it/s]"
      ]
     },
     "metadata": {},
     "output_type": "display_data"
    },
    {
     "data": {
      "application/vnd.jupyter.widget-view+json": {
       "model_id": "aeaafd9bb7c74f2a89c84d7b9d54692d",
       "version_major": 2,
       "version_minor": 0
      },
      "text/plain": [
       "  0%|          | 0/102 [00:00<?, ?it/s]"
      ]
     },
     "metadata": {},
     "output_type": "display_data"
    },
    {
     "data": {
      "application/vnd.jupyter.widget-view+json": {
       "model_id": "2d5967624b4b4371a6da9bcdfaebe9f0",
       "version_major": 2,
       "version_minor": 0
      },
      "text/plain": [
       "Evaluating:   0%|          | 0/24 [00:00<?, ?it/s]"
      ]
     },
     "metadata": {},
     "output_type": "display_data"
    },
    {
     "name": "stdout",
     "output_type": "stream",
     "text": [
      "Epoch [1/100], Train: 0.6434, Val: 0.4364, RMSE: 0.6606\n"
     ]
    },
    {
     "data": {
      "application/vnd.jupyter.widget-view+json": {
       "model_id": "4023aa3297f3488880f42387b751e6dc",
       "version_major": 2,
       "version_minor": 0
      },
      "text/plain": [
       "  0%|          | 0/102 [00:00<?, ?it/s]"
      ]
     },
     "metadata": {},
     "output_type": "display_data"
    },
    {
     "data": {
      "application/vnd.jupyter.widget-view+json": {
       "model_id": "6905167103674f538528145ed42aff49",
       "version_major": 2,
       "version_minor": 0
      },
      "text/plain": [
       "Evaluating:   0%|          | 0/24 [00:00<?, ?it/s]"
      ]
     },
     "metadata": {},
     "output_type": "display_data"
    },
    {
     "name": "stdout",
     "output_type": "stream",
     "text": [
      "Epoch [2/100], Train: 0.1681, Val: 0.2445, RMSE: 0.4945\n"
     ]
    },
    {
     "data": {
      "application/vnd.jupyter.widget-view+json": {
       "model_id": "6a709c51b9464cdc939a06ce2d4a8986",
       "version_major": 2,
       "version_minor": 0
      },
      "text/plain": [
       "  0%|          | 0/102 [00:00<?, ?it/s]"
      ]
     },
     "metadata": {},
     "output_type": "display_data"
    },
    {
     "data": {
      "application/vnd.jupyter.widget-view+json": {
       "model_id": "3a4c73db79da42a0b63516af5e031bea",
       "version_major": 2,
       "version_minor": 0
      },
      "text/plain": [
       "Evaluating:   0%|          | 0/24 [00:00<?, ?it/s]"
      ]
     },
     "metadata": {},
     "output_type": "display_data"
    },
    {
     "name": "stdout",
     "output_type": "stream",
     "text": [
      "Epoch [3/100], Train: 0.1305, Val: 0.2016, RMSE: 0.4490\n"
     ]
    },
    {
     "data": {
      "application/vnd.jupyter.widget-view+json": {
       "model_id": "f0c086064876441ebd13511e926925be",
       "version_major": 2,
       "version_minor": 0
      },
      "text/plain": [
       "  0%|          | 0/102 [00:00<?, ?it/s]"
      ]
     },
     "metadata": {},
     "output_type": "display_data"
    },
    {
     "data": {
      "application/vnd.jupyter.widget-view+json": {
       "model_id": "cf91bcb741e345cf902ce51254dd7679",
       "version_major": 2,
       "version_minor": 0
      },
      "text/plain": [
       "Evaluating:   0%|          | 0/24 [00:00<?, ?it/s]"
      ]
     },
     "metadata": {},
     "output_type": "display_data"
    },
    {
     "name": "stdout",
     "output_type": "stream",
     "text": [
      "Epoch [4/100], Train: 0.1080, Val: 0.1853, RMSE: 0.4305\n"
     ]
    },
    {
     "data": {
      "application/vnd.jupyter.widget-view+json": {
       "model_id": "8903374253454b13892dbdd615c3e36b",
       "version_major": 2,
       "version_minor": 0
      },
      "text/plain": [
       "  0%|          | 0/102 [00:00<?, ?it/s]"
      ]
     },
     "metadata": {},
     "output_type": "display_data"
    },
    {
     "data": {
      "application/vnd.jupyter.widget-view+json": {
       "model_id": "acab3246750d4961be3046ade35152c0",
       "version_major": 2,
       "version_minor": 0
      },
      "text/plain": [
       "Evaluating:   0%|          | 0/24 [00:00<?, ?it/s]"
      ]
     },
     "metadata": {},
     "output_type": "display_data"
    },
    {
     "name": "stdout",
     "output_type": "stream",
     "text": [
      "Epoch [5/100], Train: 0.0977, Val: 0.1840, RMSE: 0.4289\n"
     ]
    },
    {
     "data": {
      "application/vnd.jupyter.widget-view+json": {
       "model_id": "54506f1cece746409494bd11c768d128",
       "version_major": 2,
       "version_minor": 0
      },
      "text/plain": [
       "  0%|          | 0/102 [00:00<?, ?it/s]"
      ]
     },
     "metadata": {},
     "output_type": "display_data"
    },
    {
     "data": {
      "application/vnd.jupyter.widget-view+json": {
       "model_id": "72e7cfdfa3d84d50899380df67ab5bd4",
       "version_major": 2,
       "version_minor": 0
      },
      "text/plain": [
       "Evaluating:   0%|          | 0/24 [00:00<?, ?it/s]"
      ]
     },
     "metadata": {},
     "output_type": "display_data"
    },
    {
     "name": "stdout",
     "output_type": "stream",
     "text": [
      "Epoch [6/100], Train: 0.0988, Val: 0.1611, RMSE: 0.4014\n"
     ]
    },
    {
     "data": {
      "application/vnd.jupyter.widget-view+json": {
       "model_id": "1cefc4ae195c41e398489c3edb6b0848",
       "version_major": 2,
       "version_minor": 0
      },
      "text/plain": [
       "  0%|          | 0/102 [00:00<?, ?it/s]"
      ]
     },
     "metadata": {},
     "output_type": "display_data"
    },
    {
     "data": {
      "application/vnd.jupyter.widget-view+json": {
       "model_id": "ff0a0539dcdc4a6da3da4555aa03b594",
       "version_major": 2,
       "version_minor": 0
      },
      "text/plain": [
       "Evaluating:   0%|          | 0/24 [00:00<?, ?it/s]"
      ]
     },
     "metadata": {},
     "output_type": "display_data"
    },
    {
     "name": "stdout",
     "output_type": "stream",
     "text": [
      "Epoch [7/100], Train: 0.0865, Val: 0.2116, RMSE: 0.4600\n"
     ]
    },
    {
     "data": {
      "application/vnd.jupyter.widget-view+json": {
       "model_id": "e0f39a4f0c17421588f052ebe3449f3d",
       "version_major": 2,
       "version_minor": 0
      },
      "text/plain": [
       "  0%|          | 0/102 [00:00<?, ?it/s]"
      ]
     },
     "metadata": {},
     "output_type": "display_data"
    },
    {
     "data": {
      "application/vnd.jupyter.widget-view+json": {
       "model_id": "24fe04315d6640f5b61961d8c66ba5fc",
       "version_major": 2,
       "version_minor": 0
      },
      "text/plain": [
       "Evaluating:   0%|          | 0/24 [00:00<?, ?it/s]"
      ]
     },
     "metadata": {},
     "output_type": "display_data"
    },
    {
     "name": "stdout",
     "output_type": "stream",
     "text": [
      "Epoch [8/100], Train: 0.0821, Val: 0.1608, RMSE: 0.4010\n"
     ]
    },
    {
     "data": {
      "application/vnd.jupyter.widget-view+json": {
       "model_id": "a19c5d9d46644885957c3bab04274d5c",
       "version_major": 2,
       "version_minor": 0
      },
      "text/plain": [
       "  0%|          | 0/102 [00:00<?, ?it/s]"
      ]
     },
     "metadata": {},
     "output_type": "display_data"
    },
    {
     "data": {
      "application/vnd.jupyter.widget-view+json": {
       "model_id": "fda41a6000b64580b6ccb4f916b48c4c",
       "version_major": 2,
       "version_minor": 0
      },
      "text/plain": [
       "Evaluating:   0%|          | 0/24 [00:00<?, ?it/s]"
      ]
     },
     "metadata": {},
     "output_type": "display_data"
    },
    {
     "name": "stdout",
     "output_type": "stream",
     "text": [
      "Epoch [9/100], Train: 0.0774, Val: 0.1439, RMSE: 0.3794\n"
     ]
    },
    {
     "data": {
      "application/vnd.jupyter.widget-view+json": {
       "model_id": "6407260bc364431c88d001c506ea09aa",
       "version_major": 2,
       "version_minor": 0
      },
      "text/plain": [
       "  0%|          | 0/102 [00:00<?, ?it/s]"
      ]
     },
     "metadata": {},
     "output_type": "display_data"
    },
    {
     "data": {
      "application/vnd.jupyter.widget-view+json": {
       "model_id": "e30b2797ab6b4416944801c461ccc7c9",
       "version_major": 2,
       "version_minor": 0
      },
      "text/plain": [
       "Evaluating:   0%|          | 0/24 [00:00<?, ?it/s]"
      ]
     },
     "metadata": {},
     "output_type": "display_data"
    },
    {
     "name": "stdout",
     "output_type": "stream",
     "text": [
      "Epoch [10/100], Train: 0.0743, Val: 0.1546, RMSE: 0.3932\n"
     ]
    },
    {
     "data": {
      "application/vnd.jupyter.widget-view+json": {
       "model_id": "557c302b8cbc4129a36204af021984a6",
       "version_major": 2,
       "version_minor": 0
      },
      "text/plain": [
       "  0%|          | 0/102 [00:00<?, ?it/s]"
      ]
     },
     "metadata": {},
     "output_type": "display_data"
    },
    {
     "data": {
      "application/vnd.jupyter.widget-view+json": {
       "model_id": "348392ff1d314730a9e4977ed10735a8",
       "version_major": 2,
       "version_minor": 0
      },
      "text/plain": [
       "Evaluating:   0%|          | 0/24 [00:00<?, ?it/s]"
      ]
     },
     "metadata": {},
     "output_type": "display_data"
    },
    {
     "name": "stdout",
     "output_type": "stream",
     "text": [
      "Epoch [11/100], Train: 0.0742, Val: 0.1477, RMSE: 0.3843\n"
     ]
    },
    {
     "data": {
      "application/vnd.jupyter.widget-view+json": {
       "model_id": "7569b2ed7cc449569f73d3fdee96623a",
       "version_major": 2,
       "version_minor": 0
      },
      "text/plain": [
       "  0%|          | 0/102 [00:00<?, ?it/s]"
      ]
     },
     "metadata": {},
     "output_type": "display_data"
    },
    {
     "data": {
      "application/vnd.jupyter.widget-view+json": {
       "model_id": "2975b2e7bb964043a4e1fd801541fc5a",
       "version_major": 2,
       "version_minor": 0
      },
      "text/plain": [
       "Evaluating:   0%|          | 0/24 [00:00<?, ?it/s]"
      ]
     },
     "metadata": {},
     "output_type": "display_data"
    },
    {
     "name": "stdout",
     "output_type": "stream",
     "text": [
      "Epoch [12/100], Train: 0.0726, Val: 0.1376, RMSE: 0.3710\n"
     ]
    },
    {
     "data": {
      "application/vnd.jupyter.widget-view+json": {
       "model_id": "eecfc8cc9ba94417b73215ffbed3fb79",
       "version_major": 2,
       "version_minor": 0
      },
      "text/plain": [
       "  0%|          | 0/102 [00:00<?, ?it/s]"
      ]
     },
     "metadata": {},
     "output_type": "display_data"
    },
    {
     "data": {
      "application/vnd.jupyter.widget-view+json": {
       "model_id": "06957f44f14b4967908ad57d23e4e4b0",
       "version_major": 2,
       "version_minor": 0
      },
      "text/plain": [
       "Evaluating:   0%|          | 0/24 [00:00<?, ?it/s]"
      ]
     },
     "metadata": {},
     "output_type": "display_data"
    },
    {
     "name": "stdout",
     "output_type": "stream",
     "text": [
      "Epoch [13/100], Train: 0.0700, Val: 0.1379, RMSE: 0.3714\n"
     ]
    },
    {
     "data": {
      "application/vnd.jupyter.widget-view+json": {
       "model_id": "3bdf843939f64aab82723369398d1e7d",
       "version_major": 2,
       "version_minor": 0
      },
      "text/plain": [
       "  0%|          | 0/102 [00:00<?, ?it/s]"
      ]
     },
     "metadata": {},
     "output_type": "display_data"
    },
    {
     "data": {
      "application/vnd.jupyter.widget-view+json": {
       "model_id": "7b3903304ca3493184f65b3729c18409",
       "version_major": 2,
       "version_minor": 0
      },
      "text/plain": [
       "Evaluating:   0%|          | 0/24 [00:00<?, ?it/s]"
      ]
     },
     "metadata": {},
     "output_type": "display_data"
    },
    {
     "name": "stdout",
     "output_type": "stream",
     "text": [
      "Epoch [14/100], Train: 0.0672, Val: 0.1284, RMSE: 0.3584\n"
     ]
    },
    {
     "data": {
      "application/vnd.jupyter.widget-view+json": {
       "model_id": "b56478c1ad95434b8bf9e5d292a1a597",
       "version_major": 2,
       "version_minor": 0
      },
      "text/plain": [
       "  0%|          | 0/102 [00:00<?, ?it/s]"
      ]
     },
     "metadata": {},
     "output_type": "display_data"
    },
    {
     "data": {
      "application/vnd.jupyter.widget-view+json": {
       "model_id": "f01d7dd2f50b406ea06e530eb60fcd28",
       "version_major": 2,
       "version_minor": 0
      },
      "text/plain": [
       "Evaluating:   0%|          | 0/24 [00:00<?, ?it/s]"
      ]
     },
     "metadata": {},
     "output_type": "display_data"
    },
    {
     "name": "stdout",
     "output_type": "stream",
     "text": [
      "Epoch [15/100], Train: 0.0666, Val: 0.1414, RMSE: 0.3760\n"
     ]
    },
    {
     "data": {
      "application/vnd.jupyter.widget-view+json": {
       "model_id": "b1cddc7134a94aa0ba0e08804da46203",
       "version_major": 2,
       "version_minor": 0
      },
      "text/plain": [
       "  0%|          | 0/102 [00:00<?, ?it/s]"
      ]
     },
     "metadata": {},
     "output_type": "display_data"
    },
    {
     "data": {
      "application/vnd.jupyter.widget-view+json": {
       "model_id": "ee29cb7210b645809a43d0641a72646c",
       "version_major": 2,
       "version_minor": 0
      },
      "text/plain": [
       "Evaluating:   0%|          | 0/24 [00:00<?, ?it/s]"
      ]
     },
     "metadata": {},
     "output_type": "display_data"
    },
    {
     "name": "stdout",
     "output_type": "stream",
     "text": [
      "Epoch [16/100], Train: 0.0647, Val: 0.1367, RMSE: 0.3697\n"
     ]
    },
    {
     "data": {
      "application/vnd.jupyter.widget-view+json": {
       "model_id": "d45af66aef3341bf98e698dd7cffd41c",
       "version_major": 2,
       "version_minor": 0
      },
      "text/plain": [
       "  0%|          | 0/102 [00:00<?, ?it/s]"
      ]
     },
     "metadata": {},
     "output_type": "display_data"
    },
    {
     "data": {
      "application/vnd.jupyter.widget-view+json": {
       "model_id": "ad3b11fa3dee48d5b2c45da5c72bd713",
       "version_major": 2,
       "version_minor": 0
      },
      "text/plain": [
       "Evaluating:   0%|          | 0/24 [00:00<?, ?it/s]"
      ]
     },
     "metadata": {},
     "output_type": "display_data"
    },
    {
     "name": "stdout",
     "output_type": "stream",
     "text": [
      "Epoch [17/100], Train: 0.0620, Val: 0.1341, RMSE: 0.3662\n"
     ]
    },
    {
     "data": {
      "application/vnd.jupyter.widget-view+json": {
       "model_id": "46fff2f862d24bed9af28aafa094b7fa",
       "version_major": 2,
       "version_minor": 0
      },
      "text/plain": [
       "  0%|          | 0/102 [00:00<?, ?it/s]"
      ]
     },
     "metadata": {},
     "output_type": "display_data"
    },
    {
     "data": {
      "application/vnd.jupyter.widget-view+json": {
       "model_id": "f5aaf7228da24c14b8ed827c485503e4",
       "version_major": 2,
       "version_minor": 0
      },
      "text/plain": [
       "Evaluating:   0%|          | 0/24 [00:00<?, ?it/s]"
      ]
     },
     "metadata": {},
     "output_type": "display_data"
    },
    {
     "name": "stdout",
     "output_type": "stream",
     "text": [
      "Epoch [18/100], Train: 0.0609, Val: 0.1402, RMSE: 0.3744\n"
     ]
    },
    {
     "data": {
      "application/vnd.jupyter.widget-view+json": {
       "model_id": "7a6425b82f9d4acb84503844daea9671",
       "version_major": 2,
       "version_minor": 0
      },
      "text/plain": [
       "  0%|          | 0/102 [00:00<?, ?it/s]"
      ]
     },
     "metadata": {},
     "output_type": "display_data"
    },
    {
     "data": {
      "application/vnd.jupyter.widget-view+json": {
       "model_id": "5de802a818844fbe93949ab487b10409",
       "version_major": 2,
       "version_minor": 0
      },
      "text/plain": [
       "Evaluating:   0%|          | 0/24 [00:00<?, ?it/s]"
      ]
     },
     "metadata": {},
     "output_type": "display_data"
    },
    {
     "name": "stdout",
     "output_type": "stream",
     "text": [
      "Epoch [19/100], Train: 0.0672, Val: 0.1429, RMSE: 0.3780\n"
     ]
    },
    {
     "data": {
      "application/vnd.jupyter.widget-view+json": {
       "model_id": "4b9baa23893843e695fe772d93468360",
       "version_major": 2,
       "version_minor": 0
      },
      "text/plain": [
       "  0%|          | 0/102 [00:00<?, ?it/s]"
      ]
     },
     "metadata": {},
     "output_type": "display_data"
    },
    {
     "data": {
      "application/vnd.jupyter.widget-view+json": {
       "model_id": "2501ee21daf74d6a9049084228f6629d",
       "version_major": 2,
       "version_minor": 0
      },
      "text/plain": [
       "Evaluating:   0%|          | 0/24 [00:00<?, ?it/s]"
      ]
     },
     "metadata": {},
     "output_type": "display_data"
    },
    {
     "name": "stdout",
     "output_type": "stream",
     "text": [
      "Epoch [20/100], Train: 0.0580, Val: 0.1317, RMSE: 0.3629\n"
     ]
    },
    {
     "data": {
      "application/vnd.jupyter.widget-view+json": {
       "model_id": "2e8fae019b6f48e5a7b426b5da3b4292",
       "version_major": 2,
       "version_minor": 0
      },
      "text/plain": [
       "  0%|          | 0/102 [00:00<?, ?it/s]"
      ]
     },
     "metadata": {},
     "output_type": "display_data"
    },
    {
     "data": {
      "application/vnd.jupyter.widget-view+json": {
       "model_id": "382a3243958d48a3aa918079d7f4c433",
       "version_major": 2,
       "version_minor": 0
      },
      "text/plain": [
       "Evaluating:   0%|          | 0/24 [00:00<?, ?it/s]"
      ]
     },
     "metadata": {},
     "output_type": "display_data"
    },
    {
     "name": "stdout",
     "output_type": "stream",
     "text": [
      "Epoch [21/100], Train: 0.0576, Val: 0.1288, RMSE: 0.3589\n"
     ]
    },
    {
     "data": {
      "application/vnd.jupyter.widget-view+json": {
       "model_id": "42376f7a5c3e458ba8271d025bdc3536",
       "version_major": 2,
       "version_minor": 0
      },
      "text/plain": [
       "  0%|          | 0/102 [00:00<?, ?it/s]"
      ]
     },
     "metadata": {},
     "output_type": "display_data"
    },
    {
     "data": {
      "application/vnd.jupyter.widget-view+json": {
       "model_id": "cc65d41b6ffa453792368736d29368ac",
       "version_major": 2,
       "version_minor": 0
      },
      "text/plain": [
       "Evaluating:   0%|          | 0/24 [00:00<?, ?it/s]"
      ]
     },
     "metadata": {},
     "output_type": "display_data"
    },
    {
     "name": "stdout",
     "output_type": "stream",
     "text": [
      "Epoch [22/100], Train: 0.0567, Val: 0.1311, RMSE: 0.3621\n",
      "Early stopping triggered after 22 epochs. Best validation loss: 0.1284\n",
      "Training complete\n"
     ]
    }
   ],
   "source": [
    "import torch.nn as nn\n",
    "from tqdm.auto import tqdm\n",
    "# from lion_pytorch import Lion\n",
    "import numpy as np\n",
    "import os\n",
    "import torch\n",
    "\n",
    "def evaluate(model, test_loader, criterion, device):\n",
    "    model.eval()\n",
    "    running_loss = 0.0\n",
    "    batch_count = 0\n",
    "    with torch.no_grad():\n",
    "        for batch in tqdm(test_loader, desc=\"Evaluating\", leave=False):\n",
    "            x_hist = batch[\"x_hist\"].to(device)\n",
    "            x_extra_hist = batch[\"x_extra_hist\"].to(device)\n",
    "            x_extra_future = batch[\"x_extra_future\"].to(device)\n",
    "            x_static = batch[\"x_static\"].to(device)\n",
    "            y = batch[\"y\"].to(device)\n",
    "            y_pred = model.forward(\n",
    "                x_hist=x_hist,\n",
    "                x_extra_hist=x_extra_hist,\n",
    "                x_extra_future=x_extra_future,\n",
    "                x_static=x_static,\n",
    "            )\n",
    "            loss = criterion(y_pred, y)\n",
    "            running_loss += loss.item()\n",
    "            batch_count += 1\n",
    "    avg_loss = running_loss / batch_count\n",
    "    return {\"loss\": avg_loss, \"rmse\": np.sqrt(avg_loss)}\n",
    "\n",
    "model = TSMixerExt(\n",
    "    sequence_length=seq_length,\n",
    "    prediction_length=pred_length,\n",
    "    input_channels=input_channels,\n",
    "    extra_channels=extra_channels,\n",
    "    hidden_channels=64,\n",
    "    static_channels=static_channels,\n",
    "    output_channels=input_channels,\n",
    "    normalize_before=False,\n",
    "    ff_dim=128,\n",
    ")\n",
    "\n",
    "criterion = nn.MSELoss()\n",
    "# optimizer = Lion(model.parameters(), lr=1e-4, weight_decay=1e-2)\n",
    "optimizer = torch.optim.Adam(model.parameters(), lr=3e-4, weight_decay=1e-2)\n",
    "num_epochs = 100\n",
    "best_model_path = './best_model'\n",
    "os.makedirs(best_model_path, exist_ok=True)\n",
    "model.to(device)\n",
    "\n",
    "patience = 8\n",
    "early_stopping = torch.optim.lr_scheduler.ReduceLROnPlateau(\n",
    "    optimizer, mode='min', factor=0.5, patience=patience//2,\n",
    "    threshold=0.0001, min_lr=1e-6\n",
    ")\n",
    "\n",
    "early_stop_counter = 0\n",
    "best_val_loss = float('inf')\n",
    "epoch_progress = tqdm(range(num_epochs), desc=\"Training\")\n",
    "\n",
    "for epoch in epoch_progress:\n",
    "    model.train()\n",
    "    running_loss = 0.0\n",
    "    batch_count = 0\n",
    "    batch_progress = tqdm(train_loader, leave=False)\n",
    "    \n",
    "    for batch in batch_progress:\n",
    "        x_hist = batch[\"x_hist\"].to(device)\n",
    "        x_extra_hist = batch[\"x_extra_hist\"].to(device)\n",
    "        x_extra_future = batch[\"x_extra_future\"].to(device)\n",
    "        x_static = batch[\"x_static\"].to(device)\n",
    "        y = batch[\"y\"].to(device)\n",
    "        y_pred = model.forward(\n",
    "            x_hist=x_hist,\n",
    "            x_extra_hist=x_extra_hist,\n",
    "            x_extra_future=x_extra_future,\n",
    "            x_static=x_static,\n",
    "        )\n",
    "        loss = criterion(y_pred, y)\n",
    "        loss.backward()\n",
    "        optimizer.step()\n",
    "        optimizer.zero_grad()\n",
    "        running_loss += loss.item()\n",
    "        batch_count += 1\n",
    "\n",
    "    avg_loss = running_loss / batch_count\n",
    "    val_metrics = evaluate(model, val_loader, criterion, device)\n",
    "    \n",
    "    # Update epoch progress bar with metrics\n",
    "    epoch_progress.set_description(f\"Epoch [{epoch+1}/{num_epochs}], Train: {avg_loss:.4f}, Val: {val_metrics['loss']:.4f}, RMSE: {val_metrics['rmse']:.4f}\")\n",
    "    \n",
    "    early_stopping.step(val_metrics['loss'])\n",
    "    print(f\"Epoch [{epoch+1}/{num_epochs}], Train: {avg_loss:.4f}, Val: {val_metrics['loss']:.4f}, RMSE: {val_metrics['rmse']:.4f}\")\n",
    "    \n",
    "    \n",
    "    if val_metrics['loss'] < best_val_loss:\n",
    "        best_val_loss = val_metrics['loss']\n",
    "        torch.save(model.state_dict(), os.path.join(best_model_path, 'best_model_state_dict.pth'))\n",
    "        torch.save(model, os.path.join(best_model_path, 'best_model_pickle.pth'))\n",
    "        early_stop_counter = 0\n",
    "    else:\n",
    "        early_stop_counter += 1\n",
    "        if early_stop_counter >= patience:\n",
    "            epoch_progress.write(f\"Early stopping triggered after {epoch+1} epochs. Best validation loss: {best_val_loss:.4f}\")\n",
    "            break\n",
    "\n",
    "epoch_progress.write(\"Training complete\")"
   ]
  },
  {
   "cell_type": "code",
   "execution_count": 10,
   "metadata": {},
   "outputs": [
    {
     "data": {
      "application/vnd.jupyter.widget-view+json": {
       "model_id": "0b4b33d26cab4bf3b61976bdcc1a4fb1",
       "version_major": 2,
       "version_minor": 0
      },
      "text/plain": [
       "Training:   0%|          | 0/100 [00:00<?, ?it/s]"
      ]
     },
     "metadata": {},
     "output_type": "display_data"
    },
    {
     "data": {
      "application/vnd.jupyter.widget-view+json": {
       "model_id": "a93e827422c745dca7b228f3191d5f0e",
       "version_major": 2,
       "version_minor": 0
      },
      "text/plain": [
       "  0%|          | 0/102 [00:00<?, ?it/s]"
      ]
     },
     "metadata": {},
     "output_type": "display_data"
    },
    {
     "data": {
      "application/vnd.jupyter.widget-view+json": {
       "model_id": "566a41e59b354e2b84df4bae0c012c4b",
       "version_major": 2,
       "version_minor": 0
      },
      "text/plain": [
       "Evaluating:   0%|          | 0/24 [00:00<?, ?it/s]"
      ]
     },
     "metadata": {},
     "output_type": "display_data"
    },
    {
     "name": "stdout",
     "output_type": "stream",
     "text": [
      "Epoch [1/100], Train: 0.7777, Val: 1.0255, RMSE: 1.0127\n"
     ]
    },
    {
     "data": {
      "application/vnd.jupyter.widget-view+json": {
       "model_id": "228c769f323544d5875169726929da6e",
       "version_major": 2,
       "version_minor": 0
      },
      "text/plain": [
       "  0%|          | 0/102 [00:00<?, ?it/s]"
      ]
     },
     "metadata": {},
     "output_type": "display_data"
    },
    {
     "data": {
      "application/vnd.jupyter.widget-view+json": {
       "model_id": "a0d9340e893241e3bf9bb71fef926081",
       "version_major": 2,
       "version_minor": 0
      },
      "text/plain": [
       "Evaluating:   0%|          | 0/24 [00:00<?, ?it/s]"
      ]
     },
     "metadata": {},
     "output_type": "display_data"
    },
    {
     "name": "stdout",
     "output_type": "stream",
     "text": [
      "Epoch [2/100], Train: 0.3912, Val: 0.5320, RMSE: 0.7294\n"
     ]
    },
    {
     "data": {
      "application/vnd.jupyter.widget-view+json": {
       "model_id": "1e59d067a4dd4ff98925f4c945f85184",
       "version_major": 2,
       "version_minor": 0
      },
      "text/plain": [
       "  0%|          | 0/102 [00:00<?, ?it/s]"
      ]
     },
     "metadata": {},
     "output_type": "display_data"
    },
    {
     "data": {
      "application/vnd.jupyter.widget-view+json": {
       "model_id": "ff3f27aebe2c4ff385fb379c18948dc7",
       "version_major": 2,
       "version_minor": 0
      },
      "text/plain": [
       "Evaluating:   0%|          | 0/24 [00:00<?, ?it/s]"
      ]
     },
     "metadata": {},
     "output_type": "display_data"
    },
    {
     "name": "stdout",
     "output_type": "stream",
     "text": [
      "Epoch [3/100], Train: 0.1855, Val: 0.3067, RMSE: 0.5538\n"
     ]
    },
    {
     "data": {
      "application/vnd.jupyter.widget-view+json": {
       "model_id": "eb9ed3b932604bdb8e9ffb9ec1d6293e",
       "version_major": 2,
       "version_minor": 0
      },
      "text/plain": [
       "  0%|          | 0/102 [00:00<?, ?it/s]"
      ]
     },
     "metadata": {},
     "output_type": "display_data"
    },
    {
     "data": {
      "application/vnd.jupyter.widget-view+json": {
       "model_id": "90c9872d544441908033386ed1e3eba5",
       "version_major": 2,
       "version_minor": 0
      },
      "text/plain": [
       "Evaluating:   0%|          | 0/24 [00:00<?, ?it/s]"
      ]
     },
     "metadata": {},
     "output_type": "display_data"
    },
    {
     "name": "stdout",
     "output_type": "stream",
     "text": [
      "Epoch [4/100], Train: 0.1101, Val: 0.2077, RMSE: 0.4557\n"
     ]
    },
    {
     "data": {
      "application/vnd.jupyter.widget-view+json": {
       "model_id": "1b16e46d659d4b289c199ca0e99dee73",
       "version_major": 2,
       "version_minor": 0
      },
      "text/plain": [
       "  0%|          | 0/102 [00:00<?, ?it/s]"
      ]
     },
     "metadata": {},
     "output_type": "display_data"
    },
    {
     "data": {
      "application/vnd.jupyter.widget-view+json": {
       "model_id": "ab6ea8dc8f9d4fb28a09924422a72a1a",
       "version_major": 2,
       "version_minor": 0
      },
      "text/plain": [
       "Evaluating:   0%|          | 0/24 [00:00<?, ?it/s]"
      ]
     },
     "metadata": {},
     "output_type": "display_data"
    },
    {
     "name": "stdout",
     "output_type": "stream",
     "text": [
      "Epoch [5/100], Train: 0.0865, Val: 0.1481, RMSE: 0.3849\n"
     ]
    },
    {
     "data": {
      "application/vnd.jupyter.widget-view+json": {
       "model_id": "ab531370e409411f8964893388cd0ec0",
       "version_major": 2,
       "version_minor": 0
      },
      "text/plain": [
       "  0%|          | 0/102 [00:00<?, ?it/s]"
      ]
     },
     "metadata": {},
     "output_type": "display_data"
    },
    {
     "data": {
      "application/vnd.jupyter.widget-view+json": {
       "model_id": "aac8932aaa3947c9855cff2bbb9b4f73",
       "version_major": 2,
       "version_minor": 0
      },
      "text/plain": [
       "Evaluating:   0%|          | 0/24 [00:00<?, ?it/s]"
      ]
     },
     "metadata": {},
     "output_type": "display_data"
    },
    {
     "name": "stdout",
     "output_type": "stream",
     "text": [
      "Epoch [6/100], Train: 0.0715, Val: 0.1276, RMSE: 0.3572\n"
     ]
    },
    {
     "data": {
      "application/vnd.jupyter.widget-view+json": {
       "model_id": "33bca0a8f5b04e3db9a8031367e2987a",
       "version_major": 2,
       "version_minor": 0
      },
      "text/plain": [
       "  0%|          | 0/102 [00:00<?, ?it/s]"
      ]
     },
     "metadata": {},
     "output_type": "display_data"
    },
    {
     "data": {
      "application/vnd.jupyter.widget-view+json": {
       "model_id": "941b3bc364c24715bf52ef1b757730b3",
       "version_major": 2,
       "version_minor": 0
      },
      "text/plain": [
       "Evaluating:   0%|          | 0/24 [00:00<?, ?it/s]"
      ]
     },
     "metadata": {},
     "output_type": "display_data"
    },
    {
     "name": "stdout",
     "output_type": "stream",
     "text": [
      "Epoch [7/100], Train: 0.0647, Val: 0.1290, RMSE: 0.3592\n"
     ]
    },
    {
     "data": {
      "application/vnd.jupyter.widget-view+json": {
       "model_id": "471d46af7d4843de9a8e69711a1fd7e2",
       "version_major": 2,
       "version_minor": 0
      },
      "text/plain": [
       "  0%|          | 0/102 [00:00<?, ?it/s]"
      ]
     },
     "metadata": {},
     "output_type": "display_data"
    },
    {
     "data": {
      "application/vnd.jupyter.widget-view+json": {
       "model_id": "4da552fc0b0c4af3bacd15873bd7c7cf",
       "version_major": 2,
       "version_minor": 0
      },
      "text/plain": [
       "Evaluating:   0%|          | 0/24 [00:00<?, ?it/s]"
      ]
     },
     "metadata": {},
     "output_type": "display_data"
    },
    {
     "name": "stdout",
     "output_type": "stream",
     "text": [
      "Epoch [8/100], Train: 0.0601, Val: 0.1115, RMSE: 0.3339\n"
     ]
    },
    {
     "data": {
      "application/vnd.jupyter.widget-view+json": {
       "model_id": "5e914faf238a4c7c8e379bd4b275902b",
       "version_major": 2,
       "version_minor": 0
      },
      "text/plain": [
       "  0%|          | 0/102 [00:00<?, ?it/s]"
      ]
     },
     "metadata": {},
     "output_type": "display_data"
    },
    {
     "data": {
      "application/vnd.jupyter.widget-view+json": {
       "model_id": "9f76deb4d5c847c79f4c8d350828763b",
       "version_major": 2,
       "version_minor": 0
      },
      "text/plain": [
       "Evaluating:   0%|          | 0/24 [00:00<?, ?it/s]"
      ]
     },
     "metadata": {},
     "output_type": "display_data"
    },
    {
     "name": "stdout",
     "output_type": "stream",
     "text": [
      "Epoch [9/100], Train: 0.0545, Val: 0.1092, RMSE: 0.3304\n"
     ]
    },
    {
     "data": {
      "application/vnd.jupyter.widget-view+json": {
       "model_id": "310c5513adae48479253591040b7cd10",
       "version_major": 2,
       "version_minor": 0
      },
      "text/plain": [
       "  0%|          | 0/102 [00:00<?, ?it/s]"
      ]
     },
     "metadata": {},
     "output_type": "display_data"
    },
    {
     "data": {
      "application/vnd.jupyter.widget-view+json": {
       "model_id": "e1f8e4994ba64f23afdc986ea6848230",
       "version_major": 2,
       "version_minor": 0
      },
      "text/plain": [
       "Evaluating:   0%|          | 0/24 [00:00<?, ?it/s]"
      ]
     },
     "metadata": {},
     "output_type": "display_data"
    },
    {
     "name": "stdout",
     "output_type": "stream",
     "text": [
      "Epoch [10/100], Train: 0.0517, Val: 0.1020, RMSE: 0.3194\n"
     ]
    },
    {
     "data": {
      "application/vnd.jupyter.widget-view+json": {
       "model_id": "e21763ed65604615ac3c4a30f65798f8",
       "version_major": 2,
       "version_minor": 0
      },
      "text/plain": [
       "  0%|          | 0/102 [00:00<?, ?it/s]"
      ]
     },
     "metadata": {},
     "output_type": "display_data"
    },
    {
     "data": {
      "application/vnd.jupyter.widget-view+json": {
       "model_id": "976e215880434c7c8e996adf8828de22",
       "version_major": 2,
       "version_minor": 0
      },
      "text/plain": [
       "Evaluating:   0%|          | 0/24 [00:00<?, ?it/s]"
      ]
     },
     "metadata": {},
     "output_type": "display_data"
    },
    {
     "name": "stdout",
     "output_type": "stream",
     "text": [
      "Epoch [11/100], Train: 0.0486, Val: 0.1442, RMSE: 0.3797\n"
     ]
    },
    {
     "data": {
      "application/vnd.jupyter.widget-view+json": {
       "model_id": "8ab7ad1b861249d9b828ac00ed7a1b5e",
       "version_major": 2,
       "version_minor": 0
      },
      "text/plain": [
       "  0%|          | 0/102 [00:00<?, ?it/s]"
      ]
     },
     "metadata": {},
     "output_type": "display_data"
    },
    {
     "data": {
      "application/vnd.jupyter.widget-view+json": {
       "model_id": "21619b9ef5f24466b3da34ac55ed3545",
       "version_major": 2,
       "version_minor": 0
      },
      "text/plain": [
       "Evaluating:   0%|          | 0/24 [00:00<?, ?it/s]"
      ]
     },
     "metadata": {},
     "output_type": "display_data"
    },
    {
     "name": "stdout",
     "output_type": "stream",
     "text": [
      "Epoch [12/100], Train: 0.0473, Val: 0.1268, RMSE: 0.3561\n"
     ]
    },
    {
     "data": {
      "application/vnd.jupyter.widget-view+json": {
       "model_id": "b22741fba9a548d78f32369c5d889c14",
       "version_major": 2,
       "version_minor": 0
      },
      "text/plain": [
       "  0%|          | 0/102 [00:00<?, ?it/s]"
      ]
     },
     "metadata": {},
     "output_type": "display_data"
    },
    {
     "data": {
      "application/vnd.jupyter.widget-view+json": {
       "model_id": "83bf5413807c49ebbe431f26bb3a185b",
       "version_major": 2,
       "version_minor": 0
      },
      "text/plain": [
       "Evaluating:   0%|          | 0/24 [00:00<?, ?it/s]"
      ]
     },
     "metadata": {},
     "output_type": "display_data"
    },
    {
     "name": "stdout",
     "output_type": "stream",
     "text": [
      "Epoch [13/100], Train: 0.0445, Val: 0.1084, RMSE: 0.3293\n"
     ]
    },
    {
     "data": {
      "application/vnd.jupyter.widget-view+json": {
       "model_id": "01db736bc6ee4c7797dedc4a41832b73",
       "version_major": 2,
       "version_minor": 0
      },
      "text/plain": [
       "  0%|          | 0/102 [00:00<?, ?it/s]"
      ]
     },
     "metadata": {},
     "output_type": "display_data"
    },
    {
     "data": {
      "application/vnd.jupyter.widget-view+json": {
       "model_id": "0f284ba17324429a9dfbb94e13f3b62f",
       "version_major": 2,
       "version_minor": 0
      },
      "text/plain": [
       "Evaluating:   0%|          | 0/24 [00:00<?, ?it/s]"
      ]
     },
     "metadata": {},
     "output_type": "display_data"
    },
    {
     "name": "stdout",
     "output_type": "stream",
     "text": [
      "Epoch [14/100], Train: 0.0410, Val: 0.1099, RMSE: 0.3315\n"
     ]
    },
    {
     "data": {
      "application/vnd.jupyter.widget-view+json": {
       "model_id": "3f70c355f8454f1883b4a67fac14d99e",
       "version_major": 2,
       "version_minor": 0
      },
      "text/plain": [
       "  0%|          | 0/102 [00:00<?, ?it/s]"
      ]
     },
     "metadata": {},
     "output_type": "display_data"
    },
    {
     "data": {
      "application/vnd.jupyter.widget-view+json": {
       "model_id": "49bc46a4fb454874bb2d2d5d72465fd6",
       "version_major": 2,
       "version_minor": 0
      },
      "text/plain": [
       "Evaluating:   0%|          | 0/24 [00:00<?, ?it/s]"
      ]
     },
     "metadata": {},
     "output_type": "display_data"
    },
    {
     "name": "stdout",
     "output_type": "stream",
     "text": [
      "Epoch [15/100], Train: 0.0408, Val: 0.0987, RMSE: 0.3142\n"
     ]
    },
    {
     "data": {
      "application/vnd.jupyter.widget-view+json": {
       "model_id": "164e6a6caff24620855e4fa2ceb1c644",
       "version_major": 2,
       "version_minor": 0
      },
      "text/plain": [
       "  0%|          | 0/102 [00:00<?, ?it/s]"
      ]
     },
     "metadata": {},
     "output_type": "display_data"
    },
    {
     "data": {
      "application/vnd.jupyter.widget-view+json": {
       "model_id": "7750ffd753d74f24ba1807c00d8bfd60",
       "version_major": 2,
       "version_minor": 0
      },
      "text/plain": [
       "Evaluating:   0%|          | 0/24 [00:00<?, ?it/s]"
      ]
     },
     "metadata": {},
     "output_type": "display_data"
    },
    {
     "name": "stdout",
     "output_type": "stream",
     "text": [
      "Epoch [16/100], Train: 0.0394, Val: 0.1048, RMSE: 0.3237\n"
     ]
    },
    {
     "data": {
      "application/vnd.jupyter.widget-view+json": {
       "model_id": "ba28bc0958cd48b6a4b81a58a66fcd9e",
       "version_major": 2,
       "version_minor": 0
      },
      "text/plain": [
       "  0%|          | 0/102 [00:00<?, ?it/s]"
      ]
     },
     "metadata": {},
     "output_type": "display_data"
    },
    {
     "data": {
      "application/vnd.jupyter.widget-view+json": {
       "model_id": "b6915a69fc9346778aa2b220ad1b2fdd",
       "version_major": 2,
       "version_minor": 0
      },
      "text/plain": [
       "Evaluating:   0%|          | 0/24 [00:00<?, ?it/s]"
      ]
     },
     "metadata": {},
     "output_type": "display_data"
    },
    {
     "name": "stdout",
     "output_type": "stream",
     "text": [
      "Epoch [17/100], Train: 0.0373, Val: 0.1291, RMSE: 0.3593\n"
     ]
    },
    {
     "data": {
      "application/vnd.jupyter.widget-view+json": {
       "model_id": "dbd48c92543c4e8dbcc32209332ac8b3",
       "version_major": 2,
       "version_minor": 0
      },
      "text/plain": [
       "  0%|          | 0/102 [00:00<?, ?it/s]"
      ]
     },
     "metadata": {},
     "output_type": "display_data"
    },
    {
     "data": {
      "application/vnd.jupyter.widget-view+json": {
       "model_id": "dcb729cc953940a6a55415343610964c",
       "version_major": 2,
       "version_minor": 0
      },
      "text/plain": [
       "Evaluating:   0%|          | 0/24 [00:00<?, ?it/s]"
      ]
     },
     "metadata": {},
     "output_type": "display_data"
    },
    {
     "name": "stdout",
     "output_type": "stream",
     "text": [
      "Epoch [18/100], Train: 0.0366, Val: 0.0970, RMSE: 0.3115\n"
     ]
    },
    {
     "data": {
      "application/vnd.jupyter.widget-view+json": {
       "model_id": "1aa56d5ea2874960b3200814f04f744f",
       "version_major": 2,
       "version_minor": 0
      },
      "text/plain": [
       "  0%|          | 0/102 [00:00<?, ?it/s]"
      ]
     },
     "metadata": {},
     "output_type": "display_data"
    },
    {
     "data": {
      "application/vnd.jupyter.widget-view+json": {
       "model_id": "179b2f3c93954afa9678d50dad72d9aa",
       "version_major": 2,
       "version_minor": 0
      },
      "text/plain": [
       "Evaluating:   0%|          | 0/24 [00:00<?, ?it/s]"
      ]
     },
     "metadata": {},
     "output_type": "display_data"
    },
    {
     "name": "stdout",
     "output_type": "stream",
     "text": [
      "Epoch [19/100], Train: 0.0348, Val: 0.1297, RMSE: 0.3602\n"
     ]
    },
    {
     "data": {
      "application/vnd.jupyter.widget-view+json": {
       "model_id": "af2398107d214e21a9fb5d411175a85d",
       "version_major": 2,
       "version_minor": 0
      },
      "text/plain": [
       "  0%|          | 0/102 [00:00<?, ?it/s]"
      ]
     },
     "metadata": {},
     "output_type": "display_data"
    },
    {
     "data": {
      "application/vnd.jupyter.widget-view+json": {
       "model_id": "8fa14aca30374055be1a87efa8df9ac2",
       "version_major": 2,
       "version_minor": 0
      },
      "text/plain": [
       "Evaluating:   0%|          | 0/24 [00:00<?, ?it/s]"
      ]
     },
     "metadata": {},
     "output_type": "display_data"
    },
    {
     "name": "stdout",
     "output_type": "stream",
     "text": [
      "Epoch [20/100], Train: 0.0351, Val: 0.1185, RMSE: 0.3442\n"
     ]
    },
    {
     "data": {
      "application/vnd.jupyter.widget-view+json": {
       "model_id": "62ddb2bf80f44036a1042d11a4c39839",
       "version_major": 2,
       "version_minor": 0
      },
      "text/plain": [
       "  0%|          | 0/102 [00:00<?, ?it/s]"
      ]
     },
     "metadata": {},
     "output_type": "display_data"
    },
    {
     "data": {
      "application/vnd.jupyter.widget-view+json": {
       "model_id": "01224c141c1d4367b175de06d96865cc",
       "version_major": 2,
       "version_minor": 0
      },
      "text/plain": [
       "Evaluating:   0%|          | 0/24 [00:00<?, ?it/s]"
      ]
     },
     "metadata": {},
     "output_type": "display_data"
    },
    {
     "name": "stdout",
     "output_type": "stream",
     "text": [
      "Epoch [21/100], Train: 0.0324, Val: 0.1176, RMSE: 0.3430\n"
     ]
    },
    {
     "data": {
      "application/vnd.jupyter.widget-view+json": {
       "model_id": "c4fec724f89d40eea908a0ca10f94848",
       "version_major": 2,
       "version_minor": 0
      },
      "text/plain": [
       "  0%|          | 0/102 [00:00<?, ?it/s]"
      ]
     },
     "metadata": {},
     "output_type": "display_data"
    },
    {
     "data": {
      "application/vnd.jupyter.widget-view+json": {
       "model_id": "1f3f912911b94989bf2ac60c0094616d",
       "version_major": 2,
       "version_minor": 0
      },
      "text/plain": [
       "Evaluating:   0%|          | 0/24 [00:00<?, ?it/s]"
      ]
     },
     "metadata": {},
     "output_type": "display_data"
    },
    {
     "name": "stdout",
     "output_type": "stream",
     "text": [
      "Epoch [22/100], Train: 0.0320, Val: 0.0952, RMSE: 0.3086\n"
     ]
    },
    {
     "data": {
      "application/vnd.jupyter.widget-view+json": {
       "model_id": "214cf33967ee4c47acda25a2f44d65dc",
       "version_major": 2,
       "version_minor": 0
      },
      "text/plain": [
       "  0%|          | 0/102 [00:00<?, ?it/s]"
      ]
     },
     "metadata": {},
     "output_type": "display_data"
    },
    {
     "data": {
      "application/vnd.jupyter.widget-view+json": {
       "model_id": "f61cc73cd20b4e55bae072d68354095c",
       "version_major": 2,
       "version_minor": 0
      },
      "text/plain": [
       "Evaluating:   0%|          | 0/24 [00:00<?, ?it/s]"
      ]
     },
     "metadata": {},
     "output_type": "display_data"
    },
    {
     "name": "stdout",
     "output_type": "stream",
     "text": [
      "Epoch [23/100], Train: 0.0307, Val: 0.1220, RMSE: 0.3493\n"
     ]
    },
    {
     "data": {
      "application/vnd.jupyter.widget-view+json": {
       "model_id": "158fd521da6a4ac9b80349e8b32ce434",
       "version_major": 2,
       "version_minor": 0
      },
      "text/plain": [
       "  0%|          | 0/102 [00:00<?, ?it/s]"
      ]
     },
     "metadata": {},
     "output_type": "display_data"
    },
    {
     "data": {
      "application/vnd.jupyter.widget-view+json": {
       "model_id": "0e87d54f40764d1b9e5990be39a25f30",
       "version_major": 2,
       "version_minor": 0
      },
      "text/plain": [
       "Evaluating:   0%|          | 0/24 [00:00<?, ?it/s]"
      ]
     },
     "metadata": {},
     "output_type": "display_data"
    },
    {
     "name": "stdout",
     "output_type": "stream",
     "text": [
      "Epoch [24/100], Train: 0.0306, Val: 0.0975, RMSE: 0.3122\n"
     ]
    },
    {
     "data": {
      "application/vnd.jupyter.widget-view+json": {
       "model_id": "82bc21fd9e6743dd9cd7e1bf93182b4c",
       "version_major": 2,
       "version_minor": 0
      },
      "text/plain": [
       "  0%|          | 0/102 [00:00<?, ?it/s]"
      ]
     },
     "metadata": {},
     "output_type": "display_data"
    },
    {
     "data": {
      "application/vnd.jupyter.widget-view+json": {
       "model_id": "78d61ee70b744d29888c03ba3c5d6264",
       "version_major": 2,
       "version_minor": 0
      },
      "text/plain": [
       "Evaluating:   0%|          | 0/24 [00:00<?, ?it/s]"
      ]
     },
     "metadata": {},
     "output_type": "display_data"
    },
    {
     "name": "stdout",
     "output_type": "stream",
     "text": [
      "Epoch [25/100], Train: 0.0302, Val: 0.1300, RMSE: 0.3605\n"
     ]
    },
    {
     "data": {
      "application/vnd.jupyter.widget-view+json": {
       "model_id": "8f14f6bc2a744d228362094f8ef24616",
       "version_major": 2,
       "version_minor": 0
      },
      "text/plain": [
       "  0%|          | 0/102 [00:00<?, ?it/s]"
      ]
     },
     "metadata": {},
     "output_type": "display_data"
    },
    {
     "data": {
      "application/vnd.jupyter.widget-view+json": {
       "model_id": "d2389ffe1db3499faecdec906c696d1a",
       "version_major": 2,
       "version_minor": 0
      },
      "text/plain": [
       "Evaluating:   0%|          | 0/24 [00:00<?, ?it/s]"
      ]
     },
     "metadata": {},
     "output_type": "display_data"
    },
    {
     "name": "stdout",
     "output_type": "stream",
     "text": [
      "Epoch [26/100], Train: 0.0296, Val: 0.1011, RMSE: 0.3180\n"
     ]
    },
    {
     "data": {
      "application/vnd.jupyter.widget-view+json": {
       "model_id": "517d2d306aec4e7a8e70088e14ce3caf",
       "version_major": 2,
       "version_minor": 0
      },
      "text/plain": [
       "  0%|          | 0/102 [00:00<?, ?it/s]"
      ]
     },
     "metadata": {},
     "output_type": "display_data"
    },
    {
     "data": {
      "application/vnd.jupyter.widget-view+json": {
       "model_id": "b3b48a9658df4797b7abed79ea25686d",
       "version_major": 2,
       "version_minor": 0
      },
      "text/plain": [
       "Evaluating:   0%|          | 0/24 [00:00<?, ?it/s]"
      ]
     },
     "metadata": {},
     "output_type": "display_data"
    },
    {
     "name": "stdout",
     "output_type": "stream",
     "text": [
      "Epoch [27/100], Train: 0.0280, Val: 0.1111, RMSE: 0.3334\n"
     ]
    },
    {
     "data": {
      "application/vnd.jupyter.widget-view+json": {
       "model_id": "137084c1f5494ea7ac2b27a1216ac019",
       "version_major": 2,
       "version_minor": 0
      },
      "text/plain": [
       "  0%|          | 0/102 [00:00<?, ?it/s]"
      ]
     },
     "metadata": {},
     "output_type": "display_data"
    },
    {
     "data": {
      "application/vnd.jupyter.widget-view+json": {
       "model_id": "c82c11250d00478298cc9b74d523a504",
       "version_major": 2,
       "version_minor": 0
      },
      "text/plain": [
       "Evaluating:   0%|          | 0/24 [00:00<?, ?it/s]"
      ]
     },
     "metadata": {},
     "output_type": "display_data"
    },
    {
     "name": "stdout",
     "output_type": "stream",
     "text": [
      "Epoch [28/100], Train: 0.0269, Val: 0.1022, RMSE: 0.3197\n"
     ]
    },
    {
     "data": {
      "application/vnd.jupyter.widget-view+json": {
       "model_id": "2320d62302514012a6b1d7ee39611648",
       "version_major": 2,
       "version_minor": 0
      },
      "text/plain": [
       "  0%|          | 0/102 [00:00<?, ?it/s]"
      ]
     },
     "metadata": {},
     "output_type": "display_data"
    },
    {
     "data": {
      "application/vnd.jupyter.widget-view+json": {
       "model_id": "9f78d690f3354a118257bea8a3c29587",
       "version_major": 2,
       "version_minor": 0
      },
      "text/plain": [
       "Evaluating:   0%|          | 0/24 [00:00<?, ?it/s]"
      ]
     },
     "metadata": {},
     "output_type": "display_data"
    },
    {
     "name": "stdout",
     "output_type": "stream",
     "text": [
      "Epoch [29/100], Train: 0.0258, Val: 0.1047, RMSE: 0.3236\n"
     ]
    },
    {
     "data": {
      "application/vnd.jupyter.widget-view+json": {
       "model_id": "d0c0856d378c4806ae7067c5cbcbce73",
       "version_major": 2,
       "version_minor": 0
      },
      "text/plain": [
       "  0%|          | 0/102 [00:00<?, ?it/s]"
      ]
     },
     "metadata": {},
     "output_type": "display_data"
    },
    {
     "data": {
      "application/vnd.jupyter.widget-view+json": {
       "model_id": "6c2840ab419a44a9be5517a8c04483a8",
       "version_major": 2,
       "version_minor": 0
      },
      "text/plain": [
       "Evaluating:   0%|          | 0/24 [00:00<?, ?it/s]"
      ]
     },
     "metadata": {},
     "output_type": "display_data"
    },
    {
     "name": "stdout",
     "output_type": "stream",
     "text": [
      "Epoch [30/100], Train: 0.0256, Val: 0.1182, RMSE: 0.3438\n",
      "Early stopping triggered after 30 epochs. Best validation loss: 0.0952\n",
      "Training complete\n"
     ]
    }
   ],
   "source": [
    "import torch.nn as nn\n",
    "from tqdm.auto import tqdm\n",
    "from lion_pytorch import Lion\n",
    "import os\n",
    "import torch\n",
    "\n",
    "def evaluate(model, test_loader, criterion, device):\n",
    "    model.eval()\n",
    "    running_loss = 0.0\n",
    "    batch_count = 0\n",
    "    with torch.no_grad():\n",
    "        for batch in tqdm(test_loader, desc=\"Evaluating\", leave=False):\n",
    "            x_hist = batch[\"x_hist\"].to(device)\n",
    "            x_extra_hist = batch[\"x_extra_hist\"].to(device)\n",
    "            x_extra_future = batch[\"x_extra_future\"].to(device)\n",
    "            x_static = batch[\"x_static\"].to(device)\n",
    "            y = batch[\"y\"].to(device)\n",
    "            y_pred = model.forward(\n",
    "                x_hist=x_hist,\n",
    "                x_extra_hist=x_extra_hist,\n",
    "                x_extra_future=x_extra_future,\n",
    "                x_static=x_static,\n",
    "            )\n",
    "            loss = criterion(y_pred, y)\n",
    "            running_loss += loss.item()\n",
    "            batch_count += 1\n",
    "    avg_loss = running_loss / batch_count\n",
    "    return {\"loss\": avg_loss, \"rmse\": np.sqrt(avg_loss)}\n",
    "\n",
    "model = TSMixerExt(\n",
    "    sequence_length=seq_length,\n",
    "    prediction_length=pred_length,\n",
    "    input_channels=input_channels,\n",
    "    extra_channels=extra_channels,\n",
    "    hidden_channels=64,\n",
    "    static_channels=static_channels,\n",
    "    output_channels=input_channels,\n",
    "    normalize_before=False,\n",
    "    ff_dim=128,\n",
    ")\n",
    "\n",
    "criterion = nn.MSELoss()\n",
    "optimizer = Lion(model.parameters(), lr=1e-4, weight_decay=1e-2)\n",
    "num_epochs = 100\n",
    "best_model_path = './best_model_lion'\n",
    "os.makedirs(best_model_path, exist_ok=True)\n",
    "model.to(device)\n",
    "\n",
    "patience = 8\n",
    "early_stopping = torch.optim.lr_scheduler.ReduceLROnPlateau(\n",
    "    optimizer, mode='min', factor=0.5, patience=patience//2,\n",
    "    threshold=0.0001, min_lr=1e-6\n",
    ")\n",
    "\n",
    "early_stop_counter = 0\n",
    "best_val_loss = float('inf')\n",
    "epoch_progress = tqdm(range(num_epochs), desc=\"Training\")\n",
    "\n",
    "for epoch in epoch_progress:\n",
    "    model.train()\n",
    "    running_loss = 0.0\n",
    "    batch_count = 0\n",
    "    batch_progress = tqdm(train_loader, leave=False)\n",
    "    \n",
    "    for batch in batch_progress:\n",
    "        x_hist = batch[\"x_hist\"].to(device)\n",
    "        x_extra_hist = batch[\"x_extra_hist\"].to(device)\n",
    "        x_extra_future = batch[\"x_extra_future\"].to(device)\n",
    "        x_static = batch[\"x_static\"].to(device)\n",
    "        y = batch[\"y\"].to(device)\n",
    "        y_pred = model.forward(\n",
    "            x_hist=x_hist,\n",
    "            x_extra_hist=x_extra_hist,\n",
    "            x_extra_future=x_extra_future,\n",
    "            x_static=x_static,\n",
    "        )\n",
    "        loss = criterion(y_pred, y)\n",
    "        loss.backward()\n",
    "        optimizer.step()\n",
    "        optimizer.zero_grad()\n",
    "        running_loss += loss.item()\n",
    "        batch_count += 1\n",
    "\n",
    "    avg_loss = running_loss / batch_count\n",
    "    val_metrics = evaluate(model, val_loader, criterion, device)\n",
    "    \n",
    "    # Update epoch progress bar with metrics\n",
    "    epoch_progress.set_description(f\"Epoch [{epoch+1}/{num_epochs}], Train: {avg_loss:.4f}, Val: {val_metrics['loss']:.4f}, RMSE: {val_metrics['rmse']:.4f}\")\n",
    "    \n",
    "    early_stopping.step(val_metrics['loss'])\n",
    "    print(f\"Epoch [{epoch+1}/{num_epochs}], Train: {avg_loss:.4f}, Val: {val_metrics['loss']:.4f}, RMSE: {val_metrics['rmse']:.4f}\")\n",
    "    \n",
    "    \n",
    "    if val_metrics['loss'] < best_val_loss:\n",
    "        best_val_loss = val_metrics['loss']\n",
    "        torch.save(model.state_dict(), os.path.join(best_model_path, 'best_model_state_dict.pth'))\n",
    "        torch.save(model, os.path.join(best_model_path, 'best_model_pickle.pth'))\n",
    "        early_stop_counter = 0\n",
    "    else:\n",
    "        early_stop_counter += 1\n",
    "        if early_stop_counter >= patience:\n",
    "            epoch_progress.write(f\"Early stopping triggered after {epoch+1} epochs. Best validation loss: {best_val_loss:.4f}\")\n",
    "            break\n",
    "\n",
    "epoch_progress.write(\"Training complete\")"
   ]
  },
  {
   "cell_type": "code",
   "execution_count": 11,
   "metadata": {},
   "outputs": [],
   "source": [
    "model = TSMixerExt(\n",
    "    sequence_length=seq_length,\n",
    "    prediction_length=pred_length,\n",
    "    input_channels=input_channels,\n",
    "    extra_channels=extra_channels,\n",
    "    hidden_channels=64,\n",
    "    static_channels=static_channels,\n",
    "    output_channels=input_channels,\n",
    "    normalize_before=False,\n",
    "    ff_dim=128,\n",
    ")\n",
    "model.to(device=device);"
   ]
  },
  {
   "cell_type": "code",
   "execution_count": 12,
   "metadata": {},
   "outputs": [],
   "source": [
    "val_predictions = {}\n",
    "test_predictions = {}\n",
    "\n",
    "model2path = {'TSMixer': 'best_model/best_model_state_dict.pth', 'TSMixer_LiON': 'best_model_lion/best_model_state_dict.pth'}\n",
    "\n",
    "for model_name, path in model2path.items():\n",
    "    val_predictions_df = pd.DataFrame()\n",
    "    test_predictions_df = pd.DataFrame()\n",
    "\n",
    "    model.load_state_dict(torch.load(path, weights_only=True))\n",
    "    model.eval()\n",
    "    with torch.no_grad():\n",
    "        for code, val_dataset_ in zip(all_codes, val_datasets):\n",
    "            predictions = []\n",
    "            true_values = []\n",
    "\n",
    "            for i in range(0, len(val_dataset_), pred_length):\n",
    "                sample = val_dataset_[i]\n",
    "\n",
    "                x_hist = sample[\"x_hist\"].unsqueeze(0).to(device)\n",
    "                x_extra_hist = sample[\"x_extra_hist\"].unsqueeze(0).to(device)\n",
    "                x_extra_future = sample[\"x_extra_future\"].unsqueeze(0).to(device)\n",
    "                x_static = sample[\"x_static\"].unsqueeze(0).to(device)\n",
    "                y = sample[\"y\"].unsqueeze(0).to(device)\n",
    "\n",
    "                y_pred = model.forward(\n",
    "                    x_hist=x_hist,\n",
    "                    x_extra_hist=x_extra_hist,\n",
    "                    x_extra_future=x_extra_future,\n",
    "                    x_static=x_static,\n",
    "                )\n",
    "\n",
    "                y_pred_np = y_pred.cpu().numpy().squeeze()\n",
    "                y_np = y.cpu().numpy().squeeze()\n",
    "\n",
    "                predictions.extend(y_pred_np.tolist())\n",
    "                true_values.extend(y_np.tolist())\n",
    "\n",
    "            target_scaler = scalers[TARGET_COL]\n",
    "\n",
    "            predictions = target_scaler.inverse_transform(np.array(predictions).reshape(-1, 1)).flatten()\n",
    "            true_values = target_scaler.inverse_transform(np.array(true_values).reshape(-1, 1)).flatten()\n",
    "\n",
    "            df = pd.DataFrame([\n",
    "                predictions,\n",
    "                true_values,\n",
    "            ]).transpose()\n",
    "            df.columns = ['mean', 'y_true']\n",
    "            df['code'] = code\n",
    "            df['0.1'] = get_quantile_from_median(df['mean'].values, 0.1)\n",
    "            df['0.9'] = get_quantile_from_median(df['mean'].values, 0.9)\n",
    "\n",
    "            val_predictions_df = pd.concat([val_predictions_df, df])\n",
    "\n",
    "    with torch.no_grad():\n",
    "        for code, test_dataset_ in zip(all_codes, test_datasets):\n",
    "            predictions = []\n",
    "            true_values = []\n",
    "\n",
    "            for i in range(0, len(test_dataset_), pred_length):\n",
    "                sample = test_dataset_[i]\n",
    "\n",
    "                x_hist = sample[\"x_hist\"].unsqueeze(0).to(device)\n",
    "                x_extra_hist = sample[\"x_extra_hist\"].unsqueeze(0).to(device)\n",
    "                x_extra_future = sample[\"x_extra_future\"].unsqueeze(0).to(device)\n",
    "                x_static = sample[\"x_static\"].unsqueeze(0).to(device)\n",
    "                y = sample[\"y\"].unsqueeze(0).to(device)\n",
    "\n",
    "                y_pred = model.forward(\n",
    "                    x_hist=x_hist,\n",
    "                    x_extra_hist=x_extra_hist,\n",
    "                    x_extra_future=x_extra_future,\n",
    "                    x_static=x_static,\n",
    "                )\n",
    "\n",
    "                y_pred_np = y_pred.cpu().numpy().squeeze()\n",
    "                y_np = y.cpu().numpy().squeeze()\n",
    "\n",
    "                predictions.extend(y_pred_np.tolist())\n",
    "                true_values.extend(y_np.tolist())\n",
    "\n",
    "            target_scaler = scalers[TARGET_COL]\n",
    "\n",
    "            predictions = target_scaler.inverse_transform(np.array(predictions).reshape(-1, 1)).flatten()\n",
    "            true_values = target_scaler.inverse_transform(np.array(true_values).reshape(-1, 1)).flatten()\n",
    "\n",
    "            df = pd.DataFrame([\n",
    "                predictions,\n",
    "                true_values,\n",
    "            ]).transpose()\n",
    "            df.columns = ['mean', 'y_true']\n",
    "            df['code'] = code\n",
    "            df['0.1'] = get_quantile_from_median(df['mean'].values, 0.1)\n",
    "            df['0.9'] = get_quantile_from_median(df['mean'].values, 0.9)\n",
    "\n",
    "            test_predictions_df = pd.concat([test_predictions_df, df])\n",
    "\n",
    "    val_predictions_df.set_index('code', inplace=True)\n",
    "    test_predictions_df.set_index('code', inplace=True)\n",
    "\n",
    "    val_predictions[model_name] = val_predictions_df\n",
    "    test_predictions[model_name] = test_predictions_df"
   ]
  },
  {
   "cell_type": "code",
   "execution_count": 19,
   "metadata": {},
   "outputs": [
    {
     "data": {
      "application/vnd.jupyter.widget-view+json": {
       "model_id": "b1dd4f3729e9487e88e6a7d40479f23d",
       "version_major": 2,
       "version_minor": 0
      },
      "text/plain": [
       "VBox(children=(HBox(children=(DatePicker(value=datetime.date(2023, 1, 1), description='Start date:'), DatePick…"
      ]
     },
     "metadata": {},
     "output_type": "display_data"
    },
    {
     "data": {
      "application/vnd.jupyter.widget-view+json": {
       "model_id": "ed82201ea7464bbaa037334b46f4b874",
       "version_major": 2,
       "version_minor": 0
      },
      "text/plain": [
       "Output()"
      ]
     },
     "metadata": {},
     "output_type": "display_data"
    }
   ],
   "source": [
    "import ipywidgets as widgets\n",
    "from IPython.display import display, clear_output\n",
    "import datetime\n",
    "from utils.plotting import plot_forecasts_val_test\n",
    "\n",
    "\n",
    "date_col = pd.to_datetime(test_df[\"date\"])\n",
    "min_date = date_col.min().date()\n",
    "max_date = date_col.max().date()\n",
    "size_multiplyer = 2\n",
    "height = 400 * size_multiplyer\n",
    "width = 1600 * size_multiplyer\n",
    "item_id = 6\n",
    "title = f'Предсказания номинальной заработной платы (для code = {item_id})'\n",
    "\n",
    "start_date_picker = widgets.DatePicker(\n",
    "    description=\"Start date:\", disabled=False, value=min_date\n",
    ")\n",
    "\n",
    "end_date_picker = widgets.DatePicker(\n",
    "    description=\"End date:\", disabled=False, value=max_date\n",
    ")\n",
    "\n",
    "output_area = widgets.Output()\n",
    "\n",
    "\n",
    "def on_button_clicked(b):\n",
    "    with output_area:\n",
    "        clear_output(wait=True)\n",
    "        start_date = datetime.datetime.combine(\n",
    "            start_date_picker.value, datetime.datetime.min.time()\n",
    "        )\n",
    "        end_date = datetime.datetime.combine(\n",
    "            end_date_picker.value, datetime.datetime.min.time()\n",
    "        )\n",
    "        plot_forecasts_val_test(\n",
    "            val_df=val_df_,\n",
    "            test_df=test_df_,\n",
    "            val_predictions=all_val_models_predictions_,\n",
    "            test_predictions=test_predictions,\n",
    "            title=title,\n",
    "            start_date=start_date,\n",
    "            end_date=end_date,\n",
    "            height=height,\n",
    "            width=width,\n",
    "            item_id=item_id,\n",
    "        )\n",
    "\n",
    "\n",
    "plot_button = widgets.Button(description=\"Plot Forecasts\")\n",
    "plot_button.on_click(on_button_clicked)\n",
    "\n",
    "controls = widgets.VBox(\n",
    "    [widgets.HBox([start_date_picker, end_date_picker]), plot_button]\n",
    ")\n",
    "\n",
    "display(controls, output_area)\n",
    "\n",
    "val_df_ = val_df.rename(columns={'date': 'timestamp', \"nominal_wage\": \"target\"})[['code', 'timestamp', \"target\"]]\n",
    "val_df_ = val_df_[val_df_['code'].eq(item_id)].reset_index(drop=True)\n",
    "val_df_['timestamp'] = pd.to_datetime(val_df_['timestamp'])\n",
    "\n",
    "test_df_ = test_df.rename(columns={'date': 'timestamp', \"nominal_wage\": \"target\"})[['code', 'timestamp', \"target\"]]\n",
    "test_df_ = test_df_[test_df_['code'].eq(item_id)].reset_index(drop=True)\n",
    "test_df_['timestamp'] = pd.to_datetime(test_df_['timestamp'])\n",
    "\n",
    "val_df_ = pd.concat([val_df_, test_df_.iloc[[0]]])\n",
    "\n",
    "all_val_models_predictions_ = val_predictions.copy()\n",
    "for model_ in all_val_models_predictions_.keys():\n",
    "    all_val_models_predictions_[model_] = pd.concat([all_val_models_predictions_[model_], test_predictions[model_].loc[[item_id]].iloc[[0]]])\n",
    "\n",
    "with output_area:\n",
    "    plot_forecasts_val_test(\n",
    "        val_df=val_df_,\n",
    "        test_df=test_df_,\n",
    "        val_predictions=all_val_models_predictions_,\n",
    "        test_predictions=test_predictions,\n",
    "        title=title,\n",
    "        height=height,\n",
    "        width=width,\n",
    "        item_id=item_id,\n",
    "    )"
   ]
  },
  {
   "cell_type": "code",
   "execution_count": 14,
   "metadata": {},
   "outputs": [
    {
     "data": {
      "text/plain": [
       "{'TSMixer': {'MSE': 140934982.97671503,\n",
       "  'MAE': 6616.331367959339,\n",
       "  'MAPE': 6.674945116010894,\n",
       "  'MASE': 1.503505748761305,\n",
       "  'SQL': 2349.248054388028},\n",
       " 'TSMixer_LiON': {'MSE': 81512410.86226273,\n",
       "  'MAE': 5218.20076417145,\n",
       "  'MAPE': 5.619511371478955,\n",
       "  'MASE': 1.3704544714512483,\n",
       "  'SQL': 1901.9399762831758}}"
      ]
     },
     "execution_count": 14,
     "metadata": {},
     "output_type": "execute_result"
    }
   ],
   "source": [
    "all_models_metrics = {}\n",
    "\n",
    "for model in test_predictions.keys():\n",
    "    metrics_df = []\n",
    "    for code in all_codes:\n",
    "        pred_df = pd.concat([\n",
    "            test_predictions[model].rename(columns={'mean': '0.5'})\n",
    "            .loc[code][[\"0.1\", \"0.5\", \"0.9\"]]\n",
    "            .reset_index(drop=True),\n",
    "            test_df[test_df[\"code\"].eq(code)][[\"nominal_wage\"]].reset_index(drop=True),\n",
    "        ], axis=1)\n",
    "        pred_df = pd.DataFrame(pred_df)\n",
    "\n",
    "        metrics_df.append(calculate_sklearn_metrics(pred_df, target_column='nominal_wage'))\n",
    "\n",
    "    metrics_dict = pd.DataFrame(metrics_df).mean().to_dict()\n",
    "\n",
    "    all_models_metrics[model] = metrics_dict\n",
    "\n",
    "all_models_metrics"
   ]
  },
  {
   "cell_type": "code",
   "execution_count": 15,
   "metadata": {},
   "outputs": [
    {
     "ename": "ZeroDivisionError",
     "evalue": "division by zero",
     "output_type": "error",
     "traceback": [
      "\u001b[0;31m---------------------------------------------------------------------------\u001b[0m",
      "\u001b[0;31mZeroDivisionError\u001b[0m                         Traceback (most recent call last)",
      "Cell \u001b[0;32mIn[15], line 1\u001b[0m\n\u001b[0;32m----> 1\u001b[0m \u001b[38;5;241m1\u001b[39m\u001b[38;5;241m/\u001b[39m\u001b[38;5;241m0\u001b[39m\n",
      "\u001b[0;31mZeroDivisionError\u001b[0m: division by zero"
     ]
    }
   ],
   "source": [
    "1/0"
   ]
  },
  {
   "cell_type": "code",
   "execution_count": null,
   "metadata": {},
   "outputs": [
    {
     "name": "stdout",
     "output_type": "stream",
     "text": [
      "🏃 View run TSMixer_TSMixer at: http://127.0.0.1:5000/#/experiments/169882278836627198/runs/4de1a3940e3a4884a2eb419ff07fef8c\n",
      "🧪 View experiment at: http://127.0.0.1:5000/#/experiments/169882278836627198\n",
      "🏃 View run TSMixer_LiON_TSMixer at: http://127.0.0.1:5000/#/experiments/169882278836627198/runs/c6a5993de72640209334c684ff305e39\n",
      "🧪 View experiment at: http://127.0.0.1:5000/#/experiments/169882278836627198\n"
     ]
    }
   ],
   "source": [
    "prefix = 'TSMixer'\n",
    "\n",
    "for k, metrics_ in all_models_metrics.items():\n",
    "    run_name = f\"{k}_{prefix}\"\n",
    "\n",
    "    with mlflow.start_run(run_name=run_name):\n",
    "        mlflow.log_metrics(metrics_)\n",
    "        mlflow.log_param(\"model_name\", k)\n",
    "\n",
    "        mlflow.set_tag(\"prefix\", prefix)"
   ]
  },
  {
   "cell_type": "code",
   "execution_count": null,
   "metadata": {},
   "outputs": [
    {
     "data": {
      "text/plain": [
       "{'TSMixer': {'MSE': 107288060.00084822,\n",
       "  'MAE': 5633.84614821767,\n",
       "  'MAPE': 5.790095907679104,\n",
       "  'MASE': 1.1370568118828535,\n",
       "  'SQL': 2063.668330070852},\n",
       " 'TSMixer_LiON': {'MSE': 70734775.08098634,\n",
       "  'MAE': 4918.452059194301,\n",
       "  'MAPE': 5.4690594125309655,\n",
       "  'MASE': 1.3597564609305124,\n",
       "  'SQL': 1831.1950418128847}}"
      ]
     },
     "execution_count": 18,
     "metadata": {},
     "output_type": "execute_result"
    }
   ],
   "source": [
    "all_models_metrics"
   ]
  }
 ],
 "metadata": {
  "kernelspec": {
   "display_name": "base",
   "language": "python",
   "name": "python3"
  },
  "language_info": {
   "codemirror_mode": {
    "name": "ipython",
    "version": 3
   },
   "file_extension": ".py",
   "mimetype": "text/x-python",
   "name": "python",
   "nbconvert_exporter": "python",
   "pygments_lexer": "ipython3",
   "version": "3.12.7"
  }
 },
 "nbformat": 4,
 "nbformat_minor": 2
}
