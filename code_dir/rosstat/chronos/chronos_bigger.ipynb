{
 "cells": [
  {
   "cell_type": "code",
   "execution_count": 1,
   "metadata": {},
   "outputs": [
    {
     "name": "stderr",
     "output_type": "stream",
     "text": [
      "Note: Environment variable`HF_TOKEN` is set and is the current active token independently from the token you've just configured.\n"
     ]
    }
   ],
   "source": [
    "import os\n",
    "import sys\n",
    "\n",
    "import numpy as np\n",
    "import pandas as pd\n",
    "import dotenv\n",
    "import mlflow\n",
    "from autogluon.timeseries import TimeSeriesPredictor, TimeSeriesDataFrame\n",
    "import plotly.graph_objects as go\n",
    "from huggingface_hub import login\n",
    "\n",
    "sys.path.append(\"../..\")\n",
    "\n",
    "from utils import calculate_sklearn_metrics, TrainingConfig\n",
    "\n",
    "dotenv.load_dotenv(\"../../.env\")\n",
    "\n",
    "token = os.environ[\"HF_TOKEN\"]\n",
    "login(token=token)\n",
    "\n",
    "mlflow.set_tracking_uri(\"http://127.0.0.1:5000\")\n",
    "mlflow.set_experiment(\"rosstat_forecasting\");"
   ]
  },
  {
   "cell_type": "code",
   "execution_count": 2,
   "metadata": {},
   "outputs": [
    {
     "name": "stdout",
     "output_type": "stream",
     "text": [
      "Обучающая выборка: 4140 строк\n",
      "Валидационная выборка: 828 строк\n",
      "Тестовая выборка: 828 строк\n"
     ]
    }
   ],
   "source": [
    "data_dir = '../../../data/rosstat/processed'\n",
    "\n",
    "train_df = pd.read_csv(os.path.join(data_dir, 'train/data.csv'))\n",
    "val_df = pd.read_csv(os.path.join(data_dir, 'val/data.csv'))\n",
    "test_df = pd.read_csv(os.path.join(data_dir, 'test/data.csv'))\n",
    "\n",
    "print(f\"Обучающая выборка: {train_df.shape[0]} строк\")\n",
    "print(f\"Валидационная выборка: {val_df.shape[0]} строк\")\n",
    "print(f\"Тестовая выборка: {test_df.shape[0]} строк\")"
   ]
  },
  {
   "cell_type": "code",
   "execution_count": 3,
   "metadata": {},
   "outputs": [],
   "source": [
    "train_data = TimeSeriesDataFrame.from_data_frame(\n",
    "    train_df.rename(columns={\"nominal_wage\": \"target\"}),\n",
    "    id_column=\"code\",\n",
    "    timestamp_column=\"date\",\n",
    ")\n",
    "val_data = TimeSeriesDataFrame.from_data_frame(\n",
    "    val_df.rename(columns={\"nominal_wage\": \"target\"}),\n",
    "    id_column=\"code\",\n",
    "    timestamp_column=\"date\",\n",
    ")\n",
    "test_data = TimeSeriesDataFrame.from_data_frame(\n",
    "    test_df.rename(columns={\"nominal_wage\": \"target\"}),\n",
    "    id_column=\"code\",\n",
    "    timestamp_column=\"date\",\n",
    ")"
   ]
  },
  {
   "cell_type": "code",
   "execution_count": 4,
   "metadata": {},
   "outputs": [
    {
     "name": "stderr",
     "output_type": "stream",
     "text": [
      "Warning: path already exists! This predictor may overwrite an existing predictor! path=\"../models/auto_ml_single_target_bigger\"\n",
      "Beginning AutoGluon training...\n",
      "AutoGluon will save models to '/home/nikita/projects/time_series_analysis/code_dir/rosstat/models/auto_ml_single_target_bigger'\n",
      "=================== System Info ===================\n",
      "AutoGluon Version:  1.2\n",
      "Python Version:     3.12.7\n",
      "Operating System:   Linux\n",
      "Platform Machine:   x86_64\n",
      "Platform Version:   #60~22.04.1-Ubuntu SMP PREEMPT_DYNAMIC Fri Mar 28 16:09:21 UTC 2\n",
      "CPU Count:          12\n",
      "GPU Count:          1\n",
      "Memory Avail:       20.43 GB / 30.95 GB (66.0%)\n",
      "Disk Space Avail:   157.13 GB / 233.67 GB (67.2%)\n",
      "===================================================\n",
      "\n",
      "Fitting with arguments:\n",
      "{'enable_ensemble': False,\n",
      " 'eval_metric': WQL,\n",
      " 'freq': 'MS',\n",
      " 'hyperparameters': {'Chronos': [{'ag_args': {'name_suffix': 'ZeroShot'},\n",
      "                                  'model_path': 'bolt_tiny'},\n",
      "                                 {'ag_args': {'name_suffix': 'FineTuned'},\n",
      "                                  'fine_tune': True,\n",
      "                                  'model_path': 'bolt_tiny'},\n",
      "                                 {'ag_args': {'name_suffix': 'ZeroShot'},\n",
      "                                  'model_path': 'bolt_mini'},\n",
      "                                 {'ag_args': {'name_suffix': 'FineTuned'},\n",
      "                                  'fine_tune': True,\n",
      "                                  'model_path': 'bolt_mini'},\n",
      "                                 {'ag_args': {'name_suffix': 'ZeroShot'},\n",
      "                                  'model_path': 'bolt_base'},\n",
      "                                 {'ag_args': {'name_suffix': 'FineTuned'},\n",
      "                                  'fine_tune': True,\n",
      "                                  'model_path': 'bolt_base'}]},\n",
      " 'known_covariates_names': [],\n",
      " 'num_val_windows': 1,\n",
      " 'prediction_length': 2,\n",
      " 'quantile_levels': [0.1, 0.2, 0.3, 0.4, 0.5, 0.6, 0.7, 0.8, 0.9],\n",
      " 'random_seed': 123,\n",
      " 'refit_every_n_windows': 1,\n",
      " 'refit_full': False,\n",
      " 'skip_model_selection': False,\n",
      " 'target': 'target',\n",
      " 'verbosity': 4}\n",
      "\n",
      "Provided train_data has 4140 rows, 69 time series. Median time series length is 60 (min=60, max=60). \n",
      "Provided tuning_data has 828 rows, 69 time series. Median time series length is 12 (min=12, max=12). \n",
      "\tSetting num_val_windows = 0 (disabling backtesting on train_data) because tuning_data is provided.\n",
      "\n",
      "Provided data contains following columns:\n",
      "\ttarget: 'target'\n",
      "\tpast_covariates:\n",
      "\t\tcategorical:        []\n",
      "\t\tcontinuous (float): ['capital_labor_ratio_change', 'capital_productivity_change', 'fixed_assets...arable_prices', 'labor_productivity', 'high_productivity_jobs', 'machinery_sh..._total_assets', ...]\n",
      "\n",
      "To learn how to fix incorrectly inferred types, please see documentation for TimeSeriesPredictor.fit\n",
      "Removing existing cached predictions file /home/nikita/projects/time_series_analysis/code_dir/rosstat/models/auto_ml_single_target_bigger/models/cached_predictions.pkl\n",
      "\n",
      "AutoGluon will gauge predictive performance using evaluation metric: 'WQL'\n",
      "\tThis metric's sign has been flipped to adhere to being higher_is_better. The metric score can be multiplied by -1 to get the metric value.\n",
      "===================================================\n",
      "\n",
      "Starting training. Start time is 2025-05-02 16:02:00\n",
      "Models that will be trained: ['ChronosZeroShot[bolt_tiny]', 'ChronosFineTuned[bolt_tiny]', 'ChronosZeroShot[bolt_mini]', 'ChronosFineTuned[bolt_mini]', 'ChronosZeroShot[bolt_base]', 'ChronosFineTuned[bolt_base]']\n",
      "Training timeseries model ChronosZeroShot[bolt_tiny]. \n",
      "loading configuration file config.json from cache at /home/nikita/.cache/huggingface/hub/models--autogluon--chronos-bolt-tiny/snapshots/590f7666166f6f503e215bf0dac08a68390e0302/config.json\n",
      "Model config T5Config {\n",
      "  \"architectures\": [\n",
      "    \"ChronosBoltModelForForecasting\"\n",
      "  ],\n",
      "  \"chronos_config\": {\n",
      "    \"context_length\": 2048,\n",
      "    \"input_patch_size\": 16,\n",
      "    \"input_patch_stride\": 16,\n",
      "    \"prediction_length\": 64,\n",
      "    \"quantiles\": [\n",
      "      0.1,\n",
      "      0.2,\n",
      "      0.3,\n",
      "      0.4,\n",
      "      0.5,\n",
      "      0.6,\n",
      "      0.7,\n",
      "      0.8,\n",
      "      0.9\n",
      "    ],\n",
      "    \"use_reg_token\": true\n",
      "  },\n",
      "  \"chronos_pipeline_class\": \"ChronosBoltPipeline\",\n",
      "  \"classifier_dropout\": 0.0,\n",
      "  \"d_ff\": 1024,\n",
      "  \"d_kv\": 64,\n",
      "  \"d_model\": 256,\n",
      "  \"decoder_start_token_id\": 0,\n",
      "  \"dense_act_fn\": \"relu\",\n",
      "  \"dropout_rate\": 0.1,\n",
      "  \"eos_token_id\": 1,\n",
      "  \"feed_forward_proj\": \"relu\",\n",
      "  \"initializer_factor\": 0.05,\n",
      "  \"is_encoder_decoder\": true,\n",
      "  \"is_gated_act\": false,\n",
      "  \"layer_norm_epsilon\": 1e-06,\n",
      "  \"model_type\": \"t5\",\n",
      "  \"n_positions\": 512,\n",
      "  \"num_decoder_layers\": 4,\n",
      "  \"num_heads\": 4,\n",
      "  \"num_layers\": 4,\n",
      "  \"pad_token_id\": 0,\n",
      "  \"reg_token_id\": 1,\n",
      "  \"relative_attention_max_distance\": 128,\n",
      "  \"relative_attention_num_buckets\": 32,\n",
      "  \"torch_dtype\": \"auto\",\n",
      "  \"transformers_version\": \"4.50.3\",\n",
      "  \"use_cache\": true,\n",
      "  \"vocab_size\": 2\n",
      "}\n",
      "\n",
      "loading configuration file config.json from cache at /home/nikita/.cache/huggingface/hub/models--autogluon--chronos-bolt-tiny/snapshots/590f7666166f6f503e215bf0dac08a68390e0302/config.json\n",
      "Model config T5Config {\n",
      "  \"architectures\": [\n",
      "    \"ChronosBoltModelForForecasting\"\n",
      "  ],\n",
      "  \"chronos_config\": {\n",
      "    \"context_length\": 2048,\n",
      "    \"input_patch_size\": 16,\n",
      "    \"input_patch_stride\": 16,\n",
      "    \"prediction_length\": 64,\n",
      "    \"quantiles\": [\n",
      "      0.1,\n",
      "      0.2,\n",
      "      0.3,\n",
      "      0.4,\n",
      "      0.5,\n",
      "      0.6,\n",
      "      0.7,\n",
      "      0.8,\n",
      "      0.9\n",
      "    ],\n",
      "    \"use_reg_token\": true\n",
      "  },\n",
      "  \"chronos_pipeline_class\": \"ChronosBoltPipeline\",\n",
      "  \"classifier_dropout\": 0.0,\n",
      "  \"d_ff\": 1024,\n",
      "  \"d_kv\": 64,\n",
      "  \"d_model\": 256,\n",
      "  \"decoder_start_token_id\": 0,\n",
      "  \"dense_act_fn\": \"relu\",\n",
      "  \"dropout_rate\": 0.1,\n",
      "  \"eos_token_id\": 1,\n",
      "  \"feed_forward_proj\": \"relu\",\n",
      "  \"initializer_factor\": 0.05,\n",
      "  \"is_encoder_decoder\": true,\n",
      "  \"is_gated_act\": false,\n",
      "  \"layer_norm_epsilon\": 1e-06,\n",
      "  \"model_type\": \"t5\",\n",
      "  \"n_positions\": 512,\n",
      "  \"num_decoder_layers\": 4,\n",
      "  \"num_heads\": 4,\n",
      "  \"num_layers\": 4,\n",
      "  \"pad_token_id\": 0,\n",
      "  \"reg_token_id\": 1,\n",
      "  \"relative_attention_max_distance\": 128,\n",
      "  \"relative_attention_num_buckets\": 32,\n",
      "  \"torch_dtype\": \"auto\",\n",
      "  \"transformers_version\": \"4.50.3\",\n",
      "  \"use_cache\": true,\n",
      "  \"vocab_size\": 2\n",
      "}\n",
      "\n",
      "loading configuration file config.json from cache at /home/nikita/.cache/huggingface/hub/models--autogluon--chronos-bolt-tiny/snapshots/590f7666166f6f503e215bf0dac08a68390e0302/config.json\n",
      "Model config T5Config {\n",
      "  \"architectures\": [\n",
      "    \"ChronosBoltModelForForecasting\"\n",
      "  ],\n",
      "  \"chronos_config\": {\n",
      "    \"context_length\": 2048,\n",
      "    \"input_patch_size\": 16,\n",
      "    \"input_patch_stride\": 16,\n",
      "    \"prediction_length\": 64,\n",
      "    \"quantiles\": [\n",
      "      0.1,\n",
      "      0.2,\n",
      "      0.3,\n",
      "      0.4,\n",
      "      0.5,\n",
      "      0.6,\n",
      "      0.7,\n",
      "      0.8,\n",
      "      0.9\n",
      "    ],\n",
      "    \"use_reg_token\": true\n",
      "  },\n",
      "  \"chronos_pipeline_class\": \"ChronosBoltPipeline\",\n",
      "  \"classifier_dropout\": 0.0,\n",
      "  \"d_ff\": 1024,\n",
      "  \"d_kv\": 64,\n",
      "  \"d_model\": 256,\n",
      "  \"decoder_start_token_id\": 0,\n",
      "  \"dense_act_fn\": \"relu\",\n",
      "  \"dropout_rate\": 0.1,\n",
      "  \"eos_token_id\": 1,\n",
      "  \"feed_forward_proj\": \"relu\",\n",
      "  \"initializer_factor\": 0.05,\n",
      "  \"is_encoder_decoder\": true,\n",
      "  \"is_gated_act\": false,\n",
      "  \"layer_norm_epsilon\": 1e-06,\n",
      "  \"model_type\": \"t5\",\n",
      "  \"n_positions\": 512,\n",
      "  \"num_decoder_layers\": 4,\n",
      "  \"num_heads\": 4,\n",
      "  \"num_layers\": 4,\n",
      "  \"pad_token_id\": 0,\n",
      "  \"reg_token_id\": 1,\n",
      "  \"relative_attention_max_distance\": 128,\n",
      "  \"relative_attention_num_buckets\": 32,\n",
      "  \"torch_dtype\": \"float32\",\n",
      "  \"transformers_version\": \"4.50.3\",\n",
      "  \"use_cache\": true,\n",
      "  \"vocab_size\": 2\n",
      "}\n",
      "\n",
      "loading weights file model.safetensors from cache at /home/nikita/.cache/huggingface/hub/models--autogluon--chronos-bolt-tiny/snapshots/590f7666166f6f503e215bf0dac08a68390e0302/model.safetensors\n",
      "Will use torch_dtype=torch.float32 as defined in model's config object\n",
      "Instantiating ChronosBoltModelForForecasting model under default dtype torch.float32.\n",
      "All model checkpoint weights were used when initializing ChronosBoltModelForForecasting.\n",
      "\n",
      "All the weights of ChronosBoltModelForForecasting were initialized from the model checkpoint at autogluon/chronos-bolt-tiny.\n",
      "If your task is similar to the task the model of the checkpoint was trained on, you can already use ChronosBoltModelForForecasting for predictions without further training.\n",
      "Passing a tuple of `past_key_values` is deprecated and will be removed in Transformers v4.48.0. You should pass an instance of `EncoderDecoderCache` instead, e.g. `past_key_values=EncoderDecoderCache.from_legacy_cache(past_key_values)`.\n",
      "\t-0.1372       = Validation score (-WQL)\n",
      "\t0.83    s     = Training runtime\n",
      "\t0.88    s     = Validation (prediction) runtime\n",
      "Training timeseries model ChronosFineTuned[bolt_tiny]. \n",
      "loading configuration file config.json from cache at /home/nikita/.cache/huggingface/hub/models--autogluon--chronos-bolt-tiny/snapshots/590f7666166f6f503e215bf0dac08a68390e0302/config.json\n",
      "Model config T5Config {\n",
      "  \"architectures\": [\n",
      "    \"ChronosBoltModelForForecasting\"\n",
      "  ],\n",
      "  \"chronos_config\": {\n",
      "    \"context_length\": 2048,\n",
      "    \"input_patch_size\": 16,\n",
      "    \"input_patch_stride\": 16,\n",
      "    \"prediction_length\": 64,\n",
      "    \"quantiles\": [\n",
      "      0.1,\n",
      "      0.2,\n",
      "      0.3,\n",
      "      0.4,\n",
      "      0.5,\n",
      "      0.6,\n",
      "      0.7,\n",
      "      0.8,\n",
      "      0.9\n",
      "    ],\n",
      "    \"use_reg_token\": true\n",
      "  },\n",
      "  \"chronos_pipeline_class\": \"ChronosBoltPipeline\",\n",
      "  \"classifier_dropout\": 0.0,\n",
      "  \"d_ff\": 1024,\n",
      "  \"d_kv\": 64,\n",
      "  \"d_model\": 256,\n",
      "  \"decoder_start_token_id\": 0,\n",
      "  \"dense_act_fn\": \"relu\",\n",
      "  \"dropout_rate\": 0.1,\n",
      "  \"eos_token_id\": 1,\n",
      "  \"feed_forward_proj\": \"relu\",\n",
      "  \"initializer_factor\": 0.05,\n",
      "  \"is_encoder_decoder\": true,\n",
      "  \"is_gated_act\": false,\n",
      "  \"layer_norm_epsilon\": 1e-06,\n",
      "  \"model_type\": \"t5\",\n",
      "  \"n_positions\": 512,\n",
      "  \"num_decoder_layers\": 4,\n",
      "  \"num_heads\": 4,\n",
      "  \"num_layers\": 4,\n",
      "  \"pad_token_id\": 0,\n",
      "  \"reg_token_id\": 1,\n",
      "  \"relative_attention_max_distance\": 128,\n",
      "  \"relative_attention_num_buckets\": 32,\n",
      "  \"torch_dtype\": \"auto\",\n",
      "  \"transformers_version\": \"4.50.3\",\n",
      "  \"use_cache\": true,\n",
      "  \"vocab_size\": 2\n",
      "}\n",
      "\n",
      "loading configuration file config.json from cache at /home/nikita/.cache/huggingface/hub/models--autogluon--chronos-bolt-tiny/snapshots/590f7666166f6f503e215bf0dac08a68390e0302/config.json\n",
      "Model config T5Config {\n",
      "  \"architectures\": [\n",
      "    \"ChronosBoltModelForForecasting\"\n",
      "  ],\n",
      "  \"chronos_config\": {\n",
      "    \"context_length\": 2048,\n",
      "    \"input_patch_size\": 16,\n",
      "    \"input_patch_stride\": 16,\n",
      "    \"prediction_length\": 64,\n",
      "    \"quantiles\": [\n",
      "      0.1,\n",
      "      0.2,\n",
      "      0.3,\n",
      "      0.4,\n",
      "      0.5,\n",
      "      0.6,\n",
      "      0.7,\n",
      "      0.8,\n",
      "      0.9\n",
      "    ],\n",
      "    \"use_reg_token\": true\n",
      "  },\n",
      "  \"chronos_pipeline_class\": \"ChronosBoltPipeline\",\n",
      "  \"classifier_dropout\": 0.0,\n",
      "  \"d_ff\": 1024,\n",
      "  \"d_kv\": 64,\n",
      "  \"d_model\": 256,\n",
      "  \"decoder_start_token_id\": 0,\n",
      "  \"dense_act_fn\": \"relu\",\n",
      "  \"dropout_rate\": 0.1,\n",
      "  \"eos_token_id\": 1,\n",
      "  \"feed_forward_proj\": \"relu\",\n",
      "  \"initializer_factor\": 0.05,\n",
      "  \"is_encoder_decoder\": true,\n",
      "  \"is_gated_act\": false,\n",
      "  \"layer_norm_epsilon\": 1e-06,\n",
      "  \"model_type\": \"t5\",\n",
      "  \"n_positions\": 512,\n",
      "  \"num_decoder_layers\": 4,\n",
      "  \"num_heads\": 4,\n",
      "  \"num_layers\": 4,\n",
      "  \"pad_token_id\": 0,\n",
      "  \"reg_token_id\": 1,\n",
      "  \"relative_attention_max_distance\": 128,\n",
      "  \"relative_attention_num_buckets\": 32,\n",
      "  \"torch_dtype\": \"auto\",\n",
      "  \"transformers_version\": \"4.50.3\",\n",
      "  \"use_cache\": true,\n",
      "  \"vocab_size\": 2\n",
      "}\n",
      "\n",
      "loading configuration file config.json from cache at /home/nikita/.cache/huggingface/hub/models--autogluon--chronos-bolt-tiny/snapshots/590f7666166f6f503e215bf0dac08a68390e0302/config.json\n",
      "Model config T5Config {\n",
      "  \"architectures\": [\n",
      "    \"ChronosBoltModelForForecasting\"\n",
      "  ],\n",
      "  \"chronos_config\": {\n",
      "    \"context_length\": 2048,\n",
      "    \"input_patch_size\": 16,\n",
      "    \"input_patch_stride\": 16,\n",
      "    \"prediction_length\": 64,\n",
      "    \"quantiles\": [\n",
      "      0.1,\n",
      "      0.2,\n",
      "      0.3,\n",
      "      0.4,\n",
      "      0.5,\n",
      "      0.6,\n",
      "      0.7,\n",
      "      0.8,\n",
      "      0.9\n",
      "    ],\n",
      "    \"use_reg_token\": true\n",
      "  },\n",
      "  \"chronos_pipeline_class\": \"ChronosBoltPipeline\",\n",
      "  \"classifier_dropout\": 0.0,\n",
      "  \"d_ff\": 1024,\n",
      "  \"d_kv\": 64,\n",
      "  \"d_model\": 256,\n",
      "  \"decoder_start_token_id\": 0,\n",
      "  \"dense_act_fn\": \"relu\",\n",
      "  \"dropout_rate\": 0.1,\n",
      "  \"eos_token_id\": 1,\n",
      "  \"feed_forward_proj\": \"relu\",\n",
      "  \"initializer_factor\": 0.05,\n",
      "  \"is_encoder_decoder\": true,\n",
      "  \"is_gated_act\": false,\n",
      "  \"layer_norm_epsilon\": 1e-06,\n",
      "  \"model_type\": \"t5\",\n",
      "  \"n_positions\": 512,\n",
      "  \"num_decoder_layers\": 4,\n",
      "  \"num_heads\": 4,\n",
      "  \"num_layers\": 4,\n",
      "  \"pad_token_id\": 0,\n",
      "  \"reg_token_id\": 1,\n",
      "  \"relative_attention_max_distance\": 128,\n",
      "  \"relative_attention_num_buckets\": 32,\n",
      "  \"torch_dtype\": \"float32\",\n",
      "  \"transformers_version\": \"4.50.3\",\n",
      "  \"use_cache\": true,\n",
      "  \"vocab_size\": 2\n",
      "}\n",
      "\n",
      "loading weights file model.safetensors from cache at /home/nikita/.cache/huggingface/hub/models--autogluon--chronos-bolt-tiny/snapshots/590f7666166f6f503e215bf0dac08a68390e0302/model.safetensors\n",
      "Will use torch_dtype=torch.float32 as defined in model's config object\n",
      "Instantiating ChronosBoltModelForForecasting model under default dtype torch.float32.\n",
      "All model checkpoint weights were used when initializing ChronosBoltModelForForecasting.\n",
      "\n",
      "All the weights of ChronosBoltModelForForecasting were initialized from the model checkpoint at autogluon/chronos-bolt-tiny.\n",
      "If your task is similar to the task the model of the checkpoint was trained on, you can already use ChronosBoltModelForForecasting for predictions without further training.\n",
      "PyTorch: setting up devices\n",
      "You have loaded a model on multiple GPUs. `is_model_parallel` attribute will be force-set to `True` to avoid any unexpected behavior such as device placement mismatching.\n",
      "max_steps is given, it will override any value given in num_train_epochs\n",
      "Transformers logging is turned on during fine-tuning. Note that losses reported by transformers may not correspond to those specified via `eval_metric`.\n",
      "***** Running training *****\n",
      "  Num examples = 32,000\n",
      "  Num Epochs = 9,223,372,036,854,775,807\n",
      "  Instantaneous batch size per device = 32\n",
      "  Total train batch size (w. parallel, distributed & accumulation) = 32\n",
      "  Gradient Accumulation steps = 1\n",
      "  Total optimization steps = 1,000\n",
      "  Number of trainable parameters = 8,652,672\n",
      "Could not estimate the number of tokens of the input, floating-point operations will not be computed\n",
      "{'loss': 1587.307, 'grad_norm': 9.379597663879395, 'learning_rate': 9e-06, 'epoch': 0.1}\n",
      "{'loss': 1223.5728, 'grad_norm': 56.42817306518555, 'learning_rate': 8.000000000000001e-06, 'epoch': 0.2}\n",
      "{'loss': 842.5773, 'grad_norm': 8.561236381530762, 'learning_rate': 7e-06, 'epoch': 0.3}\n",
      "{'loss': 1108.2212, 'grad_norm': 8.164015769958496, 'learning_rate': 6e-06, 'epoch': 0.4}\n",
      "{'loss': 1446.5181, 'grad_norm': 172.40028381347656, 'learning_rate': 5e-06, 'epoch': 0.5}\n",
      "{'loss': 1070.3624, 'grad_norm': 372.12860107421875, 'learning_rate': 4.000000000000001e-06, 'epoch': 0.6}\n",
      "{'loss': 956.922, 'grad_norm': 11.35914134979248, 'learning_rate': 3e-06, 'epoch': 0.7}\n",
      "{'loss': 1366.868, 'grad_norm': 177.37997436523438, 'learning_rate': 2.0000000000000003e-06, 'epoch': 0.8}\n",
      "{'loss': 1589.0519, 'grad_norm': 202.09991455078125, 'learning_rate': 1.0000000000000002e-06, 'epoch': 0.9}\n",
      "{'loss': 1584.4594, 'grad_norm': 192.53573608398438, 'learning_rate': 0.0, 'epoch': 1.0}\n",
      "\n",
      "***** Running Evaluation *****\n",
      "  Num examples: Unknown\n",
      "  Batch size = 32\n",
      "{'eval_loss': 4.2871551513671875, 'eval_runtime': 0.0222, 'eval_samples_per_second': 3114.549, 'eval_steps_per_second': 135.415, 'epoch': 1.0}\n",
      "Saving model checkpoint to /home/nikita/projects/time_series_analysis/code_dir/rosstat/models/auto_ml_single_target_bigger/models/ChronosFineTuned[bolt_tiny]/transformers_logs/checkpoint-1000\n",
      "Configuration saved in /home/nikita/projects/time_series_analysis/code_dir/rosstat/models/auto_ml_single_target_bigger/models/ChronosFineTuned[bolt_tiny]/transformers_logs/checkpoint-1000/config.json\n",
      "Model weights saved in /home/nikita/projects/time_series_analysis/code_dir/rosstat/models/auto_ml_single_target_bigger/models/ChronosFineTuned[bolt_tiny]/transformers_logs/checkpoint-1000/model.safetensors\n",
      "\n",
      "\n",
      "Training completed. Do not forget to share your model on huggingface.co/models =)\n",
      "\n",
      "\n",
      "{'train_runtime': 17.9181, 'train_samples_per_second': 1785.907, 'train_steps_per_second': 55.81, 'train_loss': 1277.5860078125, 'epoch': 1.0}\n",
      "\tSaving fine-tuned model to /home/nikita/projects/time_series_analysis/code_dir/rosstat/models/auto_ml_single_target_bigger/models/ChronosFineTuned[bolt_tiny]/fine-tuned-ckpt\n",
      "Configuration saved in /home/nikita/projects/time_series_analysis/code_dir/rosstat/models/auto_ml_single_target_bigger/models/ChronosFineTuned[bolt_tiny]/fine-tuned-ckpt/config.json\n",
      "Model weights saved in /home/nikita/projects/time_series_analysis/code_dir/rosstat/models/auto_ml_single_target_bigger/models/ChronosFineTuned[bolt_tiny]/fine-tuned-ckpt/model.safetensors\n",
      "Removing transformers_logs directory /home/nikita/projects/time_series_analysis/code_dir/rosstat/models/auto_ml_single_target_bigger/models/ChronosFineTuned[bolt_tiny]/transformers_logs\n",
      "\t-0.1226       = Validation score (-WQL)\n",
      "\t18.81   s     = Training runtime\n",
      "\t0.04    s     = Validation (prediction) runtime\n",
      "Training timeseries model ChronosZeroShot[bolt_mini]. \n"
     ]
    },
    {
     "data": {
      "application/vnd.jupyter.widget-view+json": {
       "model_id": "1b85c77eeebe444d93e1902d97a8475e",
       "version_major": 2,
       "version_minor": 0
      },
      "text/plain": [
       "config.json:   0%|          | 0.00/1.12k [00:00<?, ?B/s]"
      ]
     },
     "metadata": {},
     "output_type": "display_data"
    },
    {
     "name": "stderr",
     "output_type": "stream",
     "text": [
      "loading configuration file config.json from cache at /home/nikita/.cache/huggingface/hub/models--autogluon--chronos-bolt-mini/snapshots/415f92662870b164b5a782f2b1dd6f81a75e3822/config.json\n",
      "Model config T5Config {\n",
      "  \"architectures\": [\n",
      "    \"ChronosBoltModelForForecasting\"\n",
      "  ],\n",
      "  \"chronos_config\": {\n",
      "    \"context_length\": 2048,\n",
      "    \"input_patch_size\": 16,\n",
      "    \"input_patch_stride\": 16,\n",
      "    \"prediction_length\": 64,\n",
      "    \"quantiles\": [\n",
      "      0.1,\n",
      "      0.2,\n",
      "      0.3,\n",
      "      0.4,\n",
      "      0.5,\n",
      "      0.6,\n",
      "      0.7,\n",
      "      0.8,\n",
      "      0.9\n",
      "    ],\n",
      "    \"use_reg_token\": true\n",
      "  },\n",
      "  \"chronos_pipeline_class\": \"ChronosBoltPipeline\",\n",
      "  \"classifier_dropout\": 0.0,\n",
      "  \"d_ff\": 1536,\n",
      "  \"d_kv\": 64,\n",
      "  \"d_model\": 384,\n",
      "  \"decoder_start_token_id\": 0,\n",
      "  \"dense_act_fn\": \"relu\",\n",
      "  \"dropout_rate\": 0.1,\n",
      "  \"eos_token_id\": 1,\n",
      "  \"feed_forward_proj\": \"relu\",\n",
      "  \"initializer_factor\": 0.05,\n",
      "  \"is_encoder_decoder\": true,\n",
      "  \"is_gated_act\": false,\n",
      "  \"layer_norm_epsilon\": 1e-06,\n",
      "  \"model_type\": \"t5\",\n",
      "  \"n_positions\": 512,\n",
      "  \"num_decoder_layers\": 4,\n",
      "  \"num_heads\": 8,\n",
      "  \"num_layers\": 4,\n",
      "  \"pad_token_id\": 0,\n",
      "  \"reg_token_id\": 1,\n",
      "  \"relative_attention_max_distance\": 128,\n",
      "  \"relative_attention_num_buckets\": 32,\n",
      "  \"torch_dtype\": \"auto\",\n",
      "  \"transformers_version\": \"4.50.3\",\n",
      "  \"use_cache\": true,\n",
      "  \"vocab_size\": 2\n",
      "}\n",
      "\n",
      "loading configuration file config.json from cache at /home/nikita/.cache/huggingface/hub/models--autogluon--chronos-bolt-mini/snapshots/415f92662870b164b5a782f2b1dd6f81a75e3822/config.json\n",
      "Model config T5Config {\n",
      "  \"architectures\": [\n",
      "    \"ChronosBoltModelForForecasting\"\n",
      "  ],\n",
      "  \"chronos_config\": {\n",
      "    \"context_length\": 2048,\n",
      "    \"input_patch_size\": 16,\n",
      "    \"input_patch_stride\": 16,\n",
      "    \"prediction_length\": 64,\n",
      "    \"quantiles\": [\n",
      "      0.1,\n",
      "      0.2,\n",
      "      0.3,\n",
      "      0.4,\n",
      "      0.5,\n",
      "      0.6,\n",
      "      0.7,\n",
      "      0.8,\n",
      "      0.9\n",
      "    ],\n",
      "    \"use_reg_token\": true\n",
      "  },\n",
      "  \"chronos_pipeline_class\": \"ChronosBoltPipeline\",\n",
      "  \"classifier_dropout\": 0.0,\n",
      "  \"d_ff\": 1536,\n",
      "  \"d_kv\": 64,\n",
      "  \"d_model\": 384,\n",
      "  \"decoder_start_token_id\": 0,\n",
      "  \"dense_act_fn\": \"relu\",\n",
      "  \"dropout_rate\": 0.1,\n",
      "  \"eos_token_id\": 1,\n",
      "  \"feed_forward_proj\": \"relu\",\n",
      "  \"initializer_factor\": 0.05,\n",
      "  \"is_encoder_decoder\": true,\n",
      "  \"is_gated_act\": false,\n",
      "  \"layer_norm_epsilon\": 1e-06,\n",
      "  \"model_type\": \"t5\",\n",
      "  \"n_positions\": 512,\n",
      "  \"num_decoder_layers\": 4,\n",
      "  \"num_heads\": 8,\n",
      "  \"num_layers\": 4,\n",
      "  \"pad_token_id\": 0,\n",
      "  \"reg_token_id\": 1,\n",
      "  \"relative_attention_max_distance\": 128,\n",
      "  \"relative_attention_num_buckets\": 32,\n",
      "  \"torch_dtype\": \"auto\",\n",
      "  \"transformers_version\": \"4.50.3\",\n",
      "  \"use_cache\": true,\n",
      "  \"vocab_size\": 2\n",
      "}\n",
      "\n",
      "loading configuration file config.json from cache at /home/nikita/.cache/huggingface/hub/models--autogluon--chronos-bolt-mini/snapshots/415f92662870b164b5a782f2b1dd6f81a75e3822/config.json\n",
      "Model config T5Config {\n",
      "  \"architectures\": [\n",
      "    \"ChronosBoltModelForForecasting\"\n",
      "  ],\n",
      "  \"chronos_config\": {\n",
      "    \"context_length\": 2048,\n",
      "    \"input_patch_size\": 16,\n",
      "    \"input_patch_stride\": 16,\n",
      "    \"prediction_length\": 64,\n",
      "    \"quantiles\": [\n",
      "      0.1,\n",
      "      0.2,\n",
      "      0.3,\n",
      "      0.4,\n",
      "      0.5,\n",
      "      0.6,\n",
      "      0.7,\n",
      "      0.8,\n",
      "      0.9\n",
      "    ],\n",
      "    \"use_reg_token\": true\n",
      "  },\n",
      "  \"chronos_pipeline_class\": \"ChronosBoltPipeline\",\n",
      "  \"classifier_dropout\": 0.0,\n",
      "  \"d_ff\": 1536,\n",
      "  \"d_kv\": 64,\n",
      "  \"d_model\": 384,\n",
      "  \"decoder_start_token_id\": 0,\n",
      "  \"dense_act_fn\": \"relu\",\n",
      "  \"dropout_rate\": 0.1,\n",
      "  \"eos_token_id\": 1,\n",
      "  \"feed_forward_proj\": \"relu\",\n",
      "  \"initializer_factor\": 0.05,\n",
      "  \"is_encoder_decoder\": true,\n",
      "  \"is_gated_act\": false,\n",
      "  \"layer_norm_epsilon\": 1e-06,\n",
      "  \"model_type\": \"t5\",\n",
      "  \"n_positions\": 512,\n",
      "  \"num_decoder_layers\": 4,\n",
      "  \"num_heads\": 8,\n",
      "  \"num_layers\": 4,\n",
      "  \"pad_token_id\": 0,\n",
      "  \"reg_token_id\": 1,\n",
      "  \"relative_attention_max_distance\": 128,\n",
      "  \"relative_attention_num_buckets\": 32,\n",
      "  \"torch_dtype\": \"float32\",\n",
      "  \"transformers_version\": \"4.50.3\",\n",
      "  \"use_cache\": true,\n",
      "  \"vocab_size\": 2\n",
      "}\n",
      "\n"
     ]
    },
    {
     "data": {
      "application/vnd.jupyter.widget-view+json": {
       "model_id": "3a26dd953b354aabaa13ea7ae2102c71",
       "version_major": 2,
       "version_minor": 0
      },
      "text/plain": [
       "model.safetensors:   0%|          | 0.00/85.0M [00:00<?, ?B/s]"
      ]
     },
     "metadata": {},
     "output_type": "display_data"
    },
    {
     "name": "stderr",
     "output_type": "stream",
     "text": [
      "loading weights file model.safetensors from cache at /home/nikita/.cache/huggingface/hub/models--autogluon--chronos-bolt-mini/snapshots/415f92662870b164b5a782f2b1dd6f81a75e3822/model.safetensors\n",
      "Will use torch_dtype=torch.float32 as defined in model's config object\n",
      "Instantiating ChronosBoltModelForForecasting model under default dtype torch.float32.\n",
      "All model checkpoint weights were used when initializing ChronosBoltModelForForecasting.\n",
      "\n",
      "All the weights of ChronosBoltModelForForecasting were initialized from the model checkpoint at autogluon/chronos-bolt-mini.\n",
      "If your task is similar to the task the model of the checkpoint was trained on, you can already use ChronosBoltModelForForecasting for predictions without further training.\n",
      "\t-0.1349       = Validation score (-WQL)\n",
      "\t0.00    s     = Training runtime\n",
      "\t14.72   s     = Validation (prediction) runtime\n",
      "Training timeseries model ChronosFineTuned[bolt_mini]. \n",
      "loading configuration file config.json from cache at /home/nikita/.cache/huggingface/hub/models--autogluon--chronos-bolt-mini/snapshots/415f92662870b164b5a782f2b1dd6f81a75e3822/config.json\n",
      "Model config T5Config {\n",
      "  \"architectures\": [\n",
      "    \"ChronosBoltModelForForecasting\"\n",
      "  ],\n",
      "  \"chronos_config\": {\n",
      "    \"context_length\": 2048,\n",
      "    \"input_patch_size\": 16,\n",
      "    \"input_patch_stride\": 16,\n",
      "    \"prediction_length\": 64,\n",
      "    \"quantiles\": [\n",
      "      0.1,\n",
      "      0.2,\n",
      "      0.3,\n",
      "      0.4,\n",
      "      0.5,\n",
      "      0.6,\n",
      "      0.7,\n",
      "      0.8,\n",
      "      0.9\n",
      "    ],\n",
      "    \"use_reg_token\": true\n",
      "  },\n",
      "  \"chronos_pipeline_class\": \"ChronosBoltPipeline\",\n",
      "  \"classifier_dropout\": 0.0,\n",
      "  \"d_ff\": 1536,\n",
      "  \"d_kv\": 64,\n",
      "  \"d_model\": 384,\n",
      "  \"decoder_start_token_id\": 0,\n",
      "  \"dense_act_fn\": \"relu\",\n",
      "  \"dropout_rate\": 0.1,\n",
      "  \"eos_token_id\": 1,\n",
      "  \"feed_forward_proj\": \"relu\",\n",
      "  \"initializer_factor\": 0.05,\n",
      "  \"is_encoder_decoder\": true,\n",
      "  \"is_gated_act\": false,\n",
      "  \"layer_norm_epsilon\": 1e-06,\n",
      "  \"model_type\": \"t5\",\n",
      "  \"n_positions\": 512,\n",
      "  \"num_decoder_layers\": 4,\n",
      "  \"num_heads\": 8,\n",
      "  \"num_layers\": 4,\n",
      "  \"pad_token_id\": 0,\n",
      "  \"reg_token_id\": 1,\n",
      "  \"relative_attention_max_distance\": 128,\n",
      "  \"relative_attention_num_buckets\": 32,\n",
      "  \"torch_dtype\": \"auto\",\n",
      "  \"transformers_version\": \"4.50.3\",\n",
      "  \"use_cache\": true,\n",
      "  \"vocab_size\": 2\n",
      "}\n",
      "\n",
      "loading configuration file config.json from cache at /home/nikita/.cache/huggingface/hub/models--autogluon--chronos-bolt-mini/snapshots/415f92662870b164b5a782f2b1dd6f81a75e3822/config.json\n",
      "Model config T5Config {\n",
      "  \"architectures\": [\n",
      "    \"ChronosBoltModelForForecasting\"\n",
      "  ],\n",
      "  \"chronos_config\": {\n",
      "    \"context_length\": 2048,\n",
      "    \"input_patch_size\": 16,\n",
      "    \"input_patch_stride\": 16,\n",
      "    \"prediction_length\": 64,\n",
      "    \"quantiles\": [\n",
      "      0.1,\n",
      "      0.2,\n",
      "      0.3,\n",
      "      0.4,\n",
      "      0.5,\n",
      "      0.6,\n",
      "      0.7,\n",
      "      0.8,\n",
      "      0.9\n",
      "    ],\n",
      "    \"use_reg_token\": true\n",
      "  },\n",
      "  \"chronos_pipeline_class\": \"ChronosBoltPipeline\",\n",
      "  \"classifier_dropout\": 0.0,\n",
      "  \"d_ff\": 1536,\n",
      "  \"d_kv\": 64,\n",
      "  \"d_model\": 384,\n",
      "  \"decoder_start_token_id\": 0,\n",
      "  \"dense_act_fn\": \"relu\",\n",
      "  \"dropout_rate\": 0.1,\n",
      "  \"eos_token_id\": 1,\n",
      "  \"feed_forward_proj\": \"relu\",\n",
      "  \"initializer_factor\": 0.05,\n",
      "  \"is_encoder_decoder\": true,\n",
      "  \"is_gated_act\": false,\n",
      "  \"layer_norm_epsilon\": 1e-06,\n",
      "  \"model_type\": \"t5\",\n",
      "  \"n_positions\": 512,\n",
      "  \"num_decoder_layers\": 4,\n",
      "  \"num_heads\": 8,\n",
      "  \"num_layers\": 4,\n",
      "  \"pad_token_id\": 0,\n",
      "  \"reg_token_id\": 1,\n",
      "  \"relative_attention_max_distance\": 128,\n",
      "  \"relative_attention_num_buckets\": 32,\n",
      "  \"torch_dtype\": \"auto\",\n",
      "  \"transformers_version\": \"4.50.3\",\n",
      "  \"use_cache\": true,\n",
      "  \"vocab_size\": 2\n",
      "}\n",
      "\n",
      "loading configuration file config.json from cache at /home/nikita/.cache/huggingface/hub/models--autogluon--chronos-bolt-mini/snapshots/415f92662870b164b5a782f2b1dd6f81a75e3822/config.json\n",
      "Model config T5Config {\n",
      "  \"architectures\": [\n",
      "    \"ChronosBoltModelForForecasting\"\n",
      "  ],\n",
      "  \"chronos_config\": {\n",
      "    \"context_length\": 2048,\n",
      "    \"input_patch_size\": 16,\n",
      "    \"input_patch_stride\": 16,\n",
      "    \"prediction_length\": 64,\n",
      "    \"quantiles\": [\n",
      "      0.1,\n",
      "      0.2,\n",
      "      0.3,\n",
      "      0.4,\n",
      "      0.5,\n",
      "      0.6,\n",
      "      0.7,\n",
      "      0.8,\n",
      "      0.9\n",
      "    ],\n",
      "    \"use_reg_token\": true\n",
      "  },\n",
      "  \"chronos_pipeline_class\": \"ChronosBoltPipeline\",\n",
      "  \"classifier_dropout\": 0.0,\n",
      "  \"d_ff\": 1536,\n",
      "  \"d_kv\": 64,\n",
      "  \"d_model\": 384,\n",
      "  \"decoder_start_token_id\": 0,\n",
      "  \"dense_act_fn\": \"relu\",\n",
      "  \"dropout_rate\": 0.1,\n",
      "  \"eos_token_id\": 1,\n",
      "  \"feed_forward_proj\": \"relu\",\n",
      "  \"initializer_factor\": 0.05,\n",
      "  \"is_encoder_decoder\": true,\n",
      "  \"is_gated_act\": false,\n",
      "  \"layer_norm_epsilon\": 1e-06,\n",
      "  \"model_type\": \"t5\",\n",
      "  \"n_positions\": 512,\n",
      "  \"num_decoder_layers\": 4,\n",
      "  \"num_heads\": 8,\n",
      "  \"num_layers\": 4,\n",
      "  \"pad_token_id\": 0,\n",
      "  \"reg_token_id\": 1,\n",
      "  \"relative_attention_max_distance\": 128,\n",
      "  \"relative_attention_num_buckets\": 32,\n",
      "  \"torch_dtype\": \"float32\",\n",
      "  \"transformers_version\": \"4.50.3\",\n",
      "  \"use_cache\": true,\n",
      "  \"vocab_size\": 2\n",
      "}\n",
      "\n",
      "loading weights file model.safetensors from cache at /home/nikita/.cache/huggingface/hub/models--autogluon--chronos-bolt-mini/snapshots/415f92662870b164b5a782f2b1dd6f81a75e3822/model.safetensors\n",
      "Will use torch_dtype=torch.float32 as defined in model's config object\n",
      "Instantiating ChronosBoltModelForForecasting model under default dtype torch.float32.\n",
      "All model checkpoint weights were used when initializing ChronosBoltModelForForecasting.\n",
      "\n",
      "All the weights of ChronosBoltModelForForecasting were initialized from the model checkpoint at autogluon/chronos-bolt-mini.\n",
      "If your task is similar to the task the model of the checkpoint was trained on, you can already use ChronosBoltModelForForecasting for predictions without further training.\n",
      "PyTorch: setting up devices\n",
      "You have loaded a model on multiple GPUs. `is_model_parallel` attribute will be force-set to `True` to avoid any unexpected behavior such as device placement mismatching.\n",
      "max_steps is given, it will override any value given in num_train_epochs\n",
      "Transformers logging is turned on during fine-tuning. Note that losses reported by transformers may not correspond to those specified via `eval_metric`.\n",
      "***** Running training *****\n",
      "  Num examples = 32,000\n",
      "  Num Epochs = 9,223,372,036,854,775,807\n",
      "  Instantaneous batch size per device = 32\n",
      "  Total train batch size (w. parallel, distributed & accumulation) = 32\n",
      "  Gradient Accumulation steps = 1\n",
      "  Total optimization steps = 1,000\n",
      "  Number of trainable parameters = 21,236,096\n",
      "Could not estimate the number of tokens of the input, floating-point operations will not be computed\n",
      "{'loss': 1586.6188, 'grad_norm': 227.07943725585938, 'learning_rate': 9e-06, 'epoch': 0.1}\n",
      "{'loss': 1217.7926, 'grad_norm': 256.21441650390625, 'learning_rate': 8.000000000000001e-06, 'epoch': 0.2}\n",
      "{'loss': 836.2766, 'grad_norm': 6.9804840087890625, 'learning_rate': 7e-06, 'epoch': 0.3}\n",
      "{'loss': 1101.2269, 'grad_norm': 9.041933059692383, 'learning_rate': 6e-06, 'epoch': 0.4}\n",
      "{'loss': 1437.7773, 'grad_norm': 251.57498168945312, 'learning_rate': 5e-06, 'epoch': 0.5}\n",
      "{'loss': 1063.5159, 'grad_norm': 248.45755004882812, 'learning_rate': 4.000000000000001e-06, 'epoch': 0.6}\n",
      "{'loss': 951.093, 'grad_norm': 6.954171180725098, 'learning_rate': 3e-06, 'epoch': 0.7}\n",
      "{'loss': 1357.0566, 'grad_norm': 263.3960266113281, 'learning_rate': 2.0000000000000003e-06, 'epoch': 0.8}\n",
      "{'loss': 1578.7122, 'grad_norm': 225.43797302246094, 'learning_rate': 1.0000000000000002e-06, 'epoch': 0.9}\n",
      "{'loss': 1573.1598, 'grad_norm': 245.64309692382812, 'learning_rate': 0.0, 'epoch': 1.0}\n",
      "\n",
      "***** Running Evaluation *****\n",
      "  Num examples: Unknown\n",
      "  Batch size = 32\n",
      "{'eval_loss': 4.118089199066162, 'eval_runtime': 0.0223, 'eval_samples_per_second': 3095.096, 'eval_steps_per_second': 134.569, 'epoch': 1.0}\n",
      "Saving model checkpoint to /home/nikita/projects/time_series_analysis/code_dir/rosstat/models/auto_ml_single_target_bigger/models/ChronosFineTuned[bolt_mini]/transformers_logs/checkpoint-1000\n",
      "Configuration saved in /home/nikita/projects/time_series_analysis/code_dir/rosstat/models/auto_ml_single_target_bigger/models/ChronosFineTuned[bolt_mini]/transformers_logs/checkpoint-1000/config.json\n",
      "Model weights saved in /home/nikita/projects/time_series_analysis/code_dir/rosstat/models/auto_ml_single_target_bigger/models/ChronosFineTuned[bolt_mini]/transformers_logs/checkpoint-1000/model.safetensors\n",
      "\n",
      "\n",
      "Training completed. Do not forget to share your model on huggingface.co/models =)\n",
      "\n",
      "\n",
      "{'train_runtime': 19.5594, 'train_samples_per_second': 1636.046, 'train_steps_per_second': 51.126, 'train_loss': 1270.3229609375, 'epoch': 1.0}\n",
      "\tSaving fine-tuned model to /home/nikita/projects/time_series_analysis/code_dir/rosstat/models/auto_ml_single_target_bigger/models/ChronosFineTuned[bolt_mini]/fine-tuned-ckpt\n",
      "Configuration saved in /home/nikita/projects/time_series_analysis/code_dir/rosstat/models/auto_ml_single_target_bigger/models/ChronosFineTuned[bolt_mini]/fine-tuned-ckpt/config.json\n",
      "Model weights saved in /home/nikita/projects/time_series_analysis/code_dir/rosstat/models/auto_ml_single_target_bigger/models/ChronosFineTuned[bolt_mini]/fine-tuned-ckpt/model.safetensors\n",
      "Removing transformers_logs directory /home/nikita/projects/time_series_analysis/code_dir/rosstat/models/auto_ml_single_target_bigger/models/ChronosFineTuned[bolt_mini]/transformers_logs\n",
      "\t-0.1200       = Validation score (-WQL)\n",
      "\t20.56   s     = Training runtime\n",
      "\t0.01    s     = Validation (prediction) runtime\n",
      "Training timeseries model ChronosZeroShot[bolt_base]. \n",
      "loading configuration file config.json from cache at /home/nikita/.cache/huggingface/hub/models--autogluon--chronos-bolt-base/snapshots/7354124e97486213d33dae999b1914c5aff19089/config.json\n",
      "Model config T5Config {\n",
      "  \"architectures\": [\n",
      "    \"ChronosBoltModelForForecasting\"\n",
      "  ],\n",
      "  \"chronos_config\": {\n",
      "    \"context_length\": 2048,\n",
      "    \"input_patch_size\": 16,\n",
      "    \"input_patch_stride\": 16,\n",
      "    \"prediction_length\": 64,\n",
      "    \"quantiles\": [\n",
      "      0.1,\n",
      "      0.2,\n",
      "      0.3,\n",
      "      0.4,\n",
      "      0.5,\n",
      "      0.6,\n",
      "      0.7,\n",
      "      0.8,\n",
      "      0.9\n",
      "    ],\n",
      "    \"use_reg_token\": true\n",
      "  },\n",
      "  \"chronos_pipeline_class\": \"ChronosBoltPipeline\",\n",
      "  \"classifier_dropout\": 0.0,\n",
      "  \"d_ff\": 3072,\n",
      "  \"d_kv\": 64,\n",
      "  \"d_model\": 768,\n",
      "  \"decoder_start_token_id\": 0,\n",
      "  \"dense_act_fn\": \"relu\",\n",
      "  \"dropout_rate\": 0.1,\n",
      "  \"eos_token_id\": 1,\n",
      "  \"feed_forward_proj\": \"relu\",\n",
      "  \"initializer_factor\": 0.05,\n",
      "  \"is_encoder_decoder\": true,\n",
      "  \"is_gated_act\": false,\n",
      "  \"layer_norm_epsilon\": 1e-06,\n",
      "  \"model_type\": \"t5\",\n",
      "  \"n_positions\": 512,\n",
      "  \"num_decoder_layers\": 12,\n",
      "  \"num_heads\": 12,\n",
      "  \"num_layers\": 12,\n",
      "  \"pad_token_id\": 0,\n",
      "  \"reg_token_id\": 1,\n",
      "  \"relative_attention_max_distance\": 128,\n",
      "  \"relative_attention_num_buckets\": 32,\n",
      "  \"torch_dtype\": \"auto\",\n",
      "  \"transformers_version\": \"4.50.3\",\n",
      "  \"use_cache\": true,\n",
      "  \"vocab_size\": 2\n",
      "}\n",
      "\n",
      "loading configuration file config.json from cache at /home/nikita/.cache/huggingface/hub/models--autogluon--chronos-bolt-base/snapshots/7354124e97486213d33dae999b1914c5aff19089/config.json\n",
      "Model config T5Config {\n",
      "  \"architectures\": [\n",
      "    \"ChronosBoltModelForForecasting\"\n",
      "  ],\n",
      "  \"chronos_config\": {\n",
      "    \"context_length\": 2048,\n",
      "    \"input_patch_size\": 16,\n",
      "    \"input_patch_stride\": 16,\n",
      "    \"prediction_length\": 64,\n",
      "    \"quantiles\": [\n",
      "      0.1,\n",
      "      0.2,\n",
      "      0.3,\n",
      "      0.4,\n",
      "      0.5,\n",
      "      0.6,\n",
      "      0.7,\n",
      "      0.8,\n",
      "      0.9\n",
      "    ],\n",
      "    \"use_reg_token\": true\n",
      "  },\n",
      "  \"chronos_pipeline_class\": \"ChronosBoltPipeline\",\n",
      "  \"classifier_dropout\": 0.0,\n",
      "  \"d_ff\": 3072,\n",
      "  \"d_kv\": 64,\n",
      "  \"d_model\": 768,\n",
      "  \"decoder_start_token_id\": 0,\n",
      "  \"dense_act_fn\": \"relu\",\n",
      "  \"dropout_rate\": 0.1,\n",
      "  \"eos_token_id\": 1,\n",
      "  \"feed_forward_proj\": \"relu\",\n",
      "  \"initializer_factor\": 0.05,\n",
      "  \"is_encoder_decoder\": true,\n",
      "  \"is_gated_act\": false,\n",
      "  \"layer_norm_epsilon\": 1e-06,\n",
      "  \"model_type\": \"t5\",\n",
      "  \"n_positions\": 512,\n",
      "  \"num_decoder_layers\": 12,\n",
      "  \"num_heads\": 12,\n",
      "  \"num_layers\": 12,\n",
      "  \"pad_token_id\": 0,\n",
      "  \"reg_token_id\": 1,\n",
      "  \"relative_attention_max_distance\": 128,\n",
      "  \"relative_attention_num_buckets\": 32,\n",
      "  \"torch_dtype\": \"auto\",\n",
      "  \"transformers_version\": \"4.50.3\",\n",
      "  \"use_cache\": true,\n",
      "  \"vocab_size\": 2\n",
      "}\n",
      "\n",
      "loading configuration file config.json from cache at /home/nikita/.cache/huggingface/hub/models--autogluon--chronos-bolt-base/snapshots/7354124e97486213d33dae999b1914c5aff19089/config.json\n",
      "Model config T5Config {\n",
      "  \"architectures\": [\n",
      "    \"ChronosBoltModelForForecasting\"\n",
      "  ],\n",
      "  \"chronos_config\": {\n",
      "    \"context_length\": 2048,\n",
      "    \"input_patch_size\": 16,\n",
      "    \"input_patch_stride\": 16,\n",
      "    \"prediction_length\": 64,\n",
      "    \"quantiles\": [\n",
      "      0.1,\n",
      "      0.2,\n",
      "      0.3,\n",
      "      0.4,\n",
      "      0.5,\n",
      "      0.6,\n",
      "      0.7,\n",
      "      0.8,\n",
      "      0.9\n",
      "    ],\n",
      "    \"use_reg_token\": true\n",
      "  },\n",
      "  \"chronos_pipeline_class\": \"ChronosBoltPipeline\",\n",
      "  \"classifier_dropout\": 0.0,\n",
      "  \"d_ff\": 3072,\n",
      "  \"d_kv\": 64,\n",
      "  \"d_model\": 768,\n",
      "  \"decoder_start_token_id\": 0,\n",
      "  \"dense_act_fn\": \"relu\",\n",
      "  \"dropout_rate\": 0.1,\n",
      "  \"eos_token_id\": 1,\n",
      "  \"feed_forward_proj\": \"relu\",\n",
      "  \"initializer_factor\": 0.05,\n",
      "  \"is_encoder_decoder\": true,\n",
      "  \"is_gated_act\": false,\n",
      "  \"layer_norm_epsilon\": 1e-06,\n",
      "  \"model_type\": \"t5\",\n",
      "  \"n_positions\": 512,\n",
      "  \"num_decoder_layers\": 12,\n",
      "  \"num_heads\": 12,\n",
      "  \"num_layers\": 12,\n",
      "  \"pad_token_id\": 0,\n",
      "  \"reg_token_id\": 1,\n",
      "  \"relative_attention_max_distance\": 128,\n",
      "  \"relative_attention_num_buckets\": 32,\n",
      "  \"torch_dtype\": \"float32\",\n",
      "  \"transformers_version\": \"4.50.3\",\n",
      "  \"use_cache\": true,\n",
      "  \"vocab_size\": 2\n",
      "}\n",
      "\n",
      "loading weights file model.safetensors from cache at /home/nikita/.cache/huggingface/hub/models--autogluon--chronos-bolt-base/snapshots/7354124e97486213d33dae999b1914c5aff19089/model.safetensors\n",
      "Will use torch_dtype=torch.float32 as defined in model's config object\n",
      "Instantiating ChronosBoltModelForForecasting model under default dtype torch.float32.\n",
      "All model checkpoint weights were used when initializing ChronosBoltModelForForecasting.\n",
      "\n",
      "All the weights of ChronosBoltModelForForecasting were initialized from the model checkpoint at autogluon/chronos-bolt-base.\n",
      "If your task is similar to the task the model of the checkpoint was trained on, you can already use ChronosBoltModelForForecasting for predictions without further training.\n",
      "\t-0.1365       = Validation score (-WQL)\n",
      "\t0.00    s     = Training runtime\n",
      "\t0.90    s     = Validation (prediction) runtime\n",
      "Training timeseries model ChronosFineTuned[bolt_base]. \n",
      "loading configuration file config.json from cache at /home/nikita/.cache/huggingface/hub/models--autogluon--chronos-bolt-base/snapshots/7354124e97486213d33dae999b1914c5aff19089/config.json\n",
      "Model config T5Config {\n",
      "  \"architectures\": [\n",
      "    \"ChronosBoltModelForForecasting\"\n",
      "  ],\n",
      "  \"chronos_config\": {\n",
      "    \"context_length\": 2048,\n",
      "    \"input_patch_size\": 16,\n",
      "    \"input_patch_stride\": 16,\n",
      "    \"prediction_length\": 64,\n",
      "    \"quantiles\": [\n",
      "      0.1,\n",
      "      0.2,\n",
      "      0.3,\n",
      "      0.4,\n",
      "      0.5,\n",
      "      0.6,\n",
      "      0.7,\n",
      "      0.8,\n",
      "      0.9\n",
      "    ],\n",
      "    \"use_reg_token\": true\n",
      "  },\n",
      "  \"chronos_pipeline_class\": \"ChronosBoltPipeline\",\n",
      "  \"classifier_dropout\": 0.0,\n",
      "  \"d_ff\": 3072,\n",
      "  \"d_kv\": 64,\n",
      "  \"d_model\": 768,\n",
      "  \"decoder_start_token_id\": 0,\n",
      "  \"dense_act_fn\": \"relu\",\n",
      "  \"dropout_rate\": 0.1,\n",
      "  \"eos_token_id\": 1,\n",
      "  \"feed_forward_proj\": \"relu\",\n",
      "  \"initializer_factor\": 0.05,\n",
      "  \"is_encoder_decoder\": true,\n",
      "  \"is_gated_act\": false,\n",
      "  \"layer_norm_epsilon\": 1e-06,\n",
      "  \"model_type\": \"t5\",\n",
      "  \"n_positions\": 512,\n",
      "  \"num_decoder_layers\": 12,\n",
      "  \"num_heads\": 12,\n",
      "  \"num_layers\": 12,\n",
      "  \"pad_token_id\": 0,\n",
      "  \"reg_token_id\": 1,\n",
      "  \"relative_attention_max_distance\": 128,\n",
      "  \"relative_attention_num_buckets\": 32,\n",
      "  \"torch_dtype\": \"auto\",\n",
      "  \"transformers_version\": \"4.50.3\",\n",
      "  \"use_cache\": true,\n",
      "  \"vocab_size\": 2\n",
      "}\n",
      "\n",
      "loading configuration file config.json from cache at /home/nikita/.cache/huggingface/hub/models--autogluon--chronos-bolt-base/snapshots/7354124e97486213d33dae999b1914c5aff19089/config.json\n",
      "Model config T5Config {\n",
      "  \"architectures\": [\n",
      "    \"ChronosBoltModelForForecasting\"\n",
      "  ],\n",
      "  \"chronos_config\": {\n",
      "    \"context_length\": 2048,\n",
      "    \"input_patch_size\": 16,\n",
      "    \"input_patch_stride\": 16,\n",
      "    \"prediction_length\": 64,\n",
      "    \"quantiles\": [\n",
      "      0.1,\n",
      "      0.2,\n",
      "      0.3,\n",
      "      0.4,\n",
      "      0.5,\n",
      "      0.6,\n",
      "      0.7,\n",
      "      0.8,\n",
      "      0.9\n",
      "    ],\n",
      "    \"use_reg_token\": true\n",
      "  },\n",
      "  \"chronos_pipeline_class\": \"ChronosBoltPipeline\",\n",
      "  \"classifier_dropout\": 0.0,\n",
      "  \"d_ff\": 3072,\n",
      "  \"d_kv\": 64,\n",
      "  \"d_model\": 768,\n",
      "  \"decoder_start_token_id\": 0,\n",
      "  \"dense_act_fn\": \"relu\",\n",
      "  \"dropout_rate\": 0.1,\n",
      "  \"eos_token_id\": 1,\n",
      "  \"feed_forward_proj\": \"relu\",\n",
      "  \"initializer_factor\": 0.05,\n",
      "  \"is_encoder_decoder\": true,\n",
      "  \"is_gated_act\": false,\n",
      "  \"layer_norm_epsilon\": 1e-06,\n",
      "  \"model_type\": \"t5\",\n",
      "  \"n_positions\": 512,\n",
      "  \"num_decoder_layers\": 12,\n",
      "  \"num_heads\": 12,\n",
      "  \"num_layers\": 12,\n",
      "  \"pad_token_id\": 0,\n",
      "  \"reg_token_id\": 1,\n",
      "  \"relative_attention_max_distance\": 128,\n",
      "  \"relative_attention_num_buckets\": 32,\n",
      "  \"torch_dtype\": \"auto\",\n",
      "  \"transformers_version\": \"4.50.3\",\n",
      "  \"use_cache\": true,\n",
      "  \"vocab_size\": 2\n",
      "}\n",
      "\n",
      "loading configuration file config.json from cache at /home/nikita/.cache/huggingface/hub/models--autogluon--chronos-bolt-base/snapshots/7354124e97486213d33dae999b1914c5aff19089/config.json\n",
      "Model config T5Config {\n",
      "  \"architectures\": [\n",
      "    \"ChronosBoltModelForForecasting\"\n",
      "  ],\n",
      "  \"chronos_config\": {\n",
      "    \"context_length\": 2048,\n",
      "    \"input_patch_size\": 16,\n",
      "    \"input_patch_stride\": 16,\n",
      "    \"prediction_length\": 64,\n",
      "    \"quantiles\": [\n",
      "      0.1,\n",
      "      0.2,\n",
      "      0.3,\n",
      "      0.4,\n",
      "      0.5,\n",
      "      0.6,\n",
      "      0.7,\n",
      "      0.8,\n",
      "      0.9\n",
      "    ],\n",
      "    \"use_reg_token\": true\n",
      "  },\n",
      "  \"chronos_pipeline_class\": \"ChronosBoltPipeline\",\n",
      "  \"classifier_dropout\": 0.0,\n",
      "  \"d_ff\": 3072,\n",
      "  \"d_kv\": 64,\n",
      "  \"d_model\": 768,\n",
      "  \"decoder_start_token_id\": 0,\n",
      "  \"dense_act_fn\": \"relu\",\n",
      "  \"dropout_rate\": 0.1,\n",
      "  \"eos_token_id\": 1,\n",
      "  \"feed_forward_proj\": \"relu\",\n",
      "  \"initializer_factor\": 0.05,\n",
      "  \"is_encoder_decoder\": true,\n",
      "  \"is_gated_act\": false,\n",
      "  \"layer_norm_epsilon\": 1e-06,\n",
      "  \"model_type\": \"t5\",\n",
      "  \"n_positions\": 512,\n",
      "  \"num_decoder_layers\": 12,\n",
      "  \"num_heads\": 12,\n",
      "  \"num_layers\": 12,\n",
      "  \"pad_token_id\": 0,\n",
      "  \"reg_token_id\": 1,\n",
      "  \"relative_attention_max_distance\": 128,\n",
      "  \"relative_attention_num_buckets\": 32,\n",
      "  \"torch_dtype\": \"float32\",\n",
      "  \"transformers_version\": \"4.50.3\",\n",
      "  \"use_cache\": true,\n",
      "  \"vocab_size\": 2\n",
      "}\n",
      "\n",
      "loading weights file model.safetensors from cache at /home/nikita/.cache/huggingface/hub/models--autogluon--chronos-bolt-base/snapshots/7354124e97486213d33dae999b1914c5aff19089/model.safetensors\n",
      "Will use torch_dtype=torch.float32 as defined in model's config object\n",
      "Instantiating ChronosBoltModelForForecasting model under default dtype torch.float32.\n",
      "All model checkpoint weights were used when initializing ChronosBoltModelForForecasting.\n",
      "\n",
      "All the weights of ChronosBoltModelForForecasting were initialized from the model checkpoint at autogluon/chronos-bolt-base.\n",
      "If your task is similar to the task the model of the checkpoint was trained on, you can already use ChronosBoltModelForForecasting for predictions without further training.\n",
      "PyTorch: setting up devices\n",
      "You have loaded a model on multiple GPUs. `is_model_parallel` attribute will be force-set to `True` to avoid any unexpected behavior such as device placement mismatching.\n",
      "max_steps is given, it will override any value given in num_train_epochs\n",
      "Transformers logging is turned on during fine-tuning. Note that losses reported by transformers may not correspond to those specified via `eval_metric`.\n",
      "***** Running training *****\n",
      "  Num examples = 32,000\n",
      "  Num Epochs = 9,223,372,036,854,775,807\n",
      "  Instantaneous batch size per device = 32\n",
      "  Total train batch size (w. parallel, distributed & accumulation) = 32\n",
      "  Gradient Accumulation steps = 1\n",
      "  Total optimization steps = 1,000\n",
      "  Number of trainable parameters = 205,292,928\n",
      "Could not estimate the number of tokens of the input, floating-point operations will not be computed\n",
      "{'loss': 1583.4059, 'grad_norm': 401.1954040527344, 'learning_rate': 9e-06, 'epoch': 0.1}\n",
      "{'loss': 1215.2394, 'grad_norm': 367.9022521972656, 'learning_rate': 8.000000000000001e-06, 'epoch': 0.2}\n",
      "{'loss': 833.9456, 'grad_norm': 3.840843677520752, 'learning_rate': 7e-06, 'epoch': 0.3}\n",
      "{'loss': 1097.5021, 'grad_norm': 4.612639427185059, 'learning_rate': 6e-06, 'epoch': 0.4}\n",
      "{'loss': 1433.2441, 'grad_norm': 392.60284423828125, 'learning_rate': 5e-06, 'epoch': 0.5}\n",
      "{'loss': 1059.6859, 'grad_norm': 401.0639953613281, 'learning_rate': 4.000000000000001e-06, 'epoch': 0.6}\n",
      "{'loss': 946.3591, 'grad_norm': 4.893319606781006, 'learning_rate': 3e-06, 'epoch': 0.7}\n",
      "{'loss': 1350.3305, 'grad_norm': 400.6654968261719, 'learning_rate': 2.0000000000000003e-06, 'epoch': 0.8}\n",
      "{'loss': 1571.9056, 'grad_norm': 409.2423400878906, 'learning_rate': 1.0000000000000002e-06, 'epoch': 0.9}\n",
      "{'loss': 1565.7525, 'grad_norm': 390.802490234375, 'learning_rate': 0.0, 'epoch': 1.0}\n",
      "\n",
      "***** Running Evaluation *****\n",
      "  Num examples: Unknown\n",
      "  Batch size = 32\n",
      "{'eval_loss': 4.149142265319824, 'eval_runtime': 0.0448, 'eval_samples_per_second': 1540.382, 'eval_steps_per_second': 66.973, 'epoch': 1.0}\n",
      "Saving model checkpoint to /home/nikita/projects/time_series_analysis/code_dir/rosstat/models/auto_ml_single_target_bigger/models/ChronosFineTuned[bolt_base]/transformers_logs/checkpoint-1000\n",
      "Configuration saved in /home/nikita/projects/time_series_analysis/code_dir/rosstat/models/auto_ml_single_target_bigger/models/ChronosFineTuned[bolt_base]/transformers_logs/checkpoint-1000/config.json\n",
      "Model weights saved in /home/nikita/projects/time_series_analysis/code_dir/rosstat/models/auto_ml_single_target_bigger/models/ChronosFineTuned[bolt_base]/transformers_logs/checkpoint-1000/model.safetensors\n",
      "\n",
      "\n",
      "Training completed. Do not forget to share your model on huggingface.co/models =)\n",
      "\n",
      "\n",
      "{'train_runtime': 72.8272, 'train_samples_per_second': 439.396, 'train_steps_per_second': 13.731, 'train_loss': 1265.737078125, 'epoch': 1.0}\n",
      "\tSaving fine-tuned model to /home/nikita/projects/time_series_analysis/code_dir/rosstat/models/auto_ml_single_target_bigger/models/ChronosFineTuned[bolt_base]/fine-tuned-ckpt\n",
      "Configuration saved in /home/nikita/projects/time_series_analysis/code_dir/rosstat/models/auto_ml_single_target_bigger/models/ChronosFineTuned[bolt_base]/fine-tuned-ckpt/config.json\n",
      "Model weights saved in /home/nikita/projects/time_series_analysis/code_dir/rosstat/models/auto_ml_single_target_bigger/models/ChronosFineTuned[bolt_base]/fine-tuned-ckpt/model.safetensors\n",
      "Removing transformers_logs directory /home/nikita/projects/time_series_analysis/code_dir/rosstat/models/auto_ml_single_target_bigger/models/ChronosFineTuned[bolt_base]/transformers_logs\n",
      "\t-0.1218       = Validation score (-WQL)\n",
      "\t75.46   s     = Training runtime\n",
      "\t0.02    s     = Validation (prediction) runtime\n",
      "Training complete. Models trained: ['ChronosZeroShot[bolt_tiny]', 'ChronosFineTuned[bolt_tiny]', 'ChronosZeroShot[bolt_mini]', 'ChronosFineTuned[bolt_mini]', 'ChronosZeroShot[bolt_base]', 'ChronosFineTuned[bolt_base]']\n",
      "Total runtime: 132.26 s\n",
      "Best model: ChronosFineTuned[bolt_mini]\n",
      "Best model score: -0.1200\n"
     ]
    }
   ],
   "source": [
    "config = TrainingConfig(\n",
    "    prediction_length=2,  # полгода\n",
    "    artifact_path=\"../models/auto_ml_single_target_bigger\",\n",
    ")\n",
    "\n",
    "predictor = TimeSeriesPredictor(\n",
    "    prediction_length=config.prediction_length, path=config.artifact_path, freq=\"MS\"\n",
    ").fit(\n",
    "    train_data=train_data,\n",
    "    tuning_data=val_data,\n",
    "    verbosity=4,\n",
    "    hyperparameters={\n",
    "        \"Chronos\": [\n",
    "            {\"model_path\": \"bolt_tiny\", \"ag_args\": {\"name_suffix\": \"ZeroShot\"}},\n",
    "            {\n",
    "                \"model_path\": \"bolt_tiny\",\n",
    "                \"fine_tune\": True,\n",
    "                \"ag_args\": {\"name_suffix\": \"FineTuned\"},\n",
    "            },\n",
    "            {\"model_path\": \"bolt_mini\", \"ag_args\": {\"name_suffix\": \"ZeroShot\"}},\n",
    "            {\n",
    "                \"model_path\": \"bolt_mini\",\n",
    "                \"fine_tune\": True,\n",
    "                \"ag_args\": {\"name_suffix\": \"FineTuned\"},\n",
    "            },\n",
    "            {\"model_path\": \"bolt_base\", \"ag_args\": {\"name_suffix\": \"ZeroShot\"}},\n",
    "            {\n",
    "                \"model_path\": \"bolt_base\",\n",
    "                \"fine_tune\": True,\n",
    "                \"ag_args\": {\"name_suffix\": \"FineTuned\"},\n",
    "            }\n",
    "        ],\n",
    "    },\n",
    "    enable_ensemble=False,\n",
    ")"
   ]
  },
  {
   "cell_type": "code",
   "execution_count": 4,
   "metadata": {},
   "outputs": [],
   "source": [
    "config = TrainingConfig(\n",
    "    prediction_length=2,  # полгода\n",
    "    artifact_path=\"../models/auto_ml_single_target_bigger\",\n",
    ")\n",
    "\n",
    "predictor = TimeSeriesPredictor.load(config.artifact_path)"
   ]
  },
  {
   "cell_type": "code",
   "execution_count": 5,
   "metadata": {},
   "outputs": [
    {
     "data": {
      "application/vnd.microsoft.datawrangler.viewer.v0+json": {
       "columns": [
        {
         "name": "index",
         "rawType": "int64",
         "type": "integer"
        },
        {
         "name": "model",
         "rawType": "object",
         "type": "string"
        },
        {
         "name": "WQL_test",
         "rawType": "float64",
         "type": "float"
        },
        {
         "name": "WQL_val",
         "rawType": "float64",
         "type": "float"
        },
        {
         "name": "pred_time_test",
         "rawType": "float64",
         "type": "float"
        },
        {
         "name": "pred_time_val",
         "rawType": "float64",
         "type": "float"
        },
        {
         "name": "fit_time_marginal",
         "rawType": "float64",
         "type": "float"
        },
        {
         "name": "fit_order",
         "rawType": "int64",
         "type": "integer"
        },
        {
         "name": "MASE",
         "rawType": "float64",
         "type": "float"
        },
        {
         "name": "MAPE",
         "rawType": "float64",
         "type": "float"
        },
        {
         "name": "MSE",
         "rawType": "float64",
         "type": "float"
        },
        {
         "name": "MAE",
         "rawType": "float64",
         "type": "float"
        },
        {
         "name": "SQL",
         "rawType": "float64",
         "type": "float"
        }
       ],
       "conversionMethod": "pd.DataFrame",
       "ref": "58ee1657-aaed-4ea9-a284-f5dd75d74917",
       "rows": [
        [
         "0",
         "ChronosFineTuned[bolt_base]",
         "-0.11371800689890726",
         "-0.12184498831179869",
         "0.2216510772705078",
         "0.019278526306152344",
         "75.45793747901917",
         "6",
         "-12856.7026098279",
         "-0.11172498298933838",
         "-392007035.1715763",
         "-12856.7026098279",
         "-10664.281448772143"
        ],
        [
         "1",
         "ChronosFineTuned[bolt_mini]",
         "-0.11713053886714195",
         "-0.12001667038048268",
         "0.0579533576965332",
         "0.007796525955200195",
         "20.557801961898804",
         "4",
         "-13004.19506906703",
         "-0.11228605642399966",
         "-412585524.0793201",
         "-13004.19506906703",
         "-10984.3028979217"
        ],
        [
         "2",
         "ChronosFineTuned[bolt_tiny]",
         "-0.127711167923832",
         "-0.12264647468159387",
         "0.12142324447631836",
         "0.037199974060058594",
         "18.807607173919678",
         "2",
         "-13611.833338994566",
         "-0.11778699069294488",
         "-455165050.62518036",
         "-13611.833338994566",
         "-11976.536311455817"
        ],
        [
         "3",
         "ChronosZeroShot[bolt_mini]",
         "-0.1334855431016876",
         "-0.13494696290383526",
         "0.7265653610229492",
         "14.718200206756592",
         "0.0025069713592529297",
         "3",
         "-14264.333939085143",
         "-0.12117006887532117",
         "-557893155.6035408",
         "-14264.333939085143",
         "-12518.04740338164"
        ],
        [
         "4",
         "ChronosZeroShot[bolt_base]",
         "-0.13596031025721622",
         "-0.1364886864885074",
         "1.3256020545959473",
         "0.9014565944671631",
         "0.0023941993713378906",
         "5",
         "-14271.658163496377",
         "-0.12121381550042612",
         "-556591294.1923153",
         "-14271.658163496377",
         "-12750.126861916264"
        ],
        [
         "5",
         "ChronosZeroShot[bolt_tiny]",
         "-0.13707975228473057",
         "-0.1371943706730293",
         "0.796602725982666",
         "0.8762519359588623",
         "0.8306541442871094",
         "1",
         "-14454.922486413045",
         "-0.12334158856250908",
         "-565142465.1382493",
         "-14454.922486413045",
         "-12855.106233016302"
        ]
       ],
       "shape": {
        "columns": 12,
        "rows": 6
       }
      },
      "text/html": [
       "<div>\n",
       "<style scoped>\n",
       "    .dataframe tbody tr th:only-of-type {\n",
       "        vertical-align: middle;\n",
       "    }\n",
       "\n",
       "    .dataframe tbody tr th {\n",
       "        vertical-align: top;\n",
       "    }\n",
       "\n",
       "    .dataframe thead th {\n",
       "        text-align: right;\n",
       "    }\n",
       "</style>\n",
       "<table border=\"1\" class=\"dataframe\">\n",
       "  <thead>\n",
       "    <tr style=\"text-align: right;\">\n",
       "      <th></th>\n",
       "      <th>model</th>\n",
       "      <th>WQL_test</th>\n",
       "      <th>WQL_val</th>\n",
       "      <th>pred_time_test</th>\n",
       "      <th>pred_time_val</th>\n",
       "      <th>fit_time_marginal</th>\n",
       "      <th>fit_order</th>\n",
       "      <th>MASE</th>\n",
       "      <th>MAPE</th>\n",
       "      <th>MSE</th>\n",
       "      <th>MAE</th>\n",
       "      <th>SQL</th>\n",
       "    </tr>\n",
       "  </thead>\n",
       "  <tbody>\n",
       "    <tr>\n",
       "      <th>0</th>\n",
       "      <td>ChronosFineTuned[bolt_base]</td>\n",
       "      <td>-0.113718</td>\n",
       "      <td>-0.121845</td>\n",
       "      <td>0.221651</td>\n",
       "      <td>0.019279</td>\n",
       "      <td>75.457937</td>\n",
       "      <td>6</td>\n",
       "      <td>-12856.702610</td>\n",
       "      <td>-0.111725</td>\n",
       "      <td>-3.920070e+08</td>\n",
       "      <td>-12856.702610</td>\n",
       "      <td>-10664.281449</td>\n",
       "    </tr>\n",
       "    <tr>\n",
       "      <th>1</th>\n",
       "      <td>ChronosFineTuned[bolt_mini]</td>\n",
       "      <td>-0.117131</td>\n",
       "      <td>-0.120017</td>\n",
       "      <td>0.057953</td>\n",
       "      <td>0.007797</td>\n",
       "      <td>20.557802</td>\n",
       "      <td>4</td>\n",
       "      <td>-13004.195069</td>\n",
       "      <td>-0.112286</td>\n",
       "      <td>-4.125855e+08</td>\n",
       "      <td>-13004.195069</td>\n",
       "      <td>-10984.302898</td>\n",
       "    </tr>\n",
       "    <tr>\n",
       "      <th>2</th>\n",
       "      <td>ChronosFineTuned[bolt_tiny]</td>\n",
       "      <td>-0.127711</td>\n",
       "      <td>-0.122646</td>\n",
       "      <td>0.121423</td>\n",
       "      <td>0.037200</td>\n",
       "      <td>18.807607</td>\n",
       "      <td>2</td>\n",
       "      <td>-13611.833339</td>\n",
       "      <td>-0.117787</td>\n",
       "      <td>-4.551651e+08</td>\n",
       "      <td>-13611.833339</td>\n",
       "      <td>-11976.536311</td>\n",
       "    </tr>\n",
       "    <tr>\n",
       "      <th>3</th>\n",
       "      <td>ChronosZeroShot[bolt_mini]</td>\n",
       "      <td>-0.133486</td>\n",
       "      <td>-0.134947</td>\n",
       "      <td>0.726565</td>\n",
       "      <td>14.718200</td>\n",
       "      <td>0.002507</td>\n",
       "      <td>3</td>\n",
       "      <td>-14264.333939</td>\n",
       "      <td>-0.121170</td>\n",
       "      <td>-5.578932e+08</td>\n",
       "      <td>-14264.333939</td>\n",
       "      <td>-12518.047403</td>\n",
       "    </tr>\n",
       "    <tr>\n",
       "      <th>4</th>\n",
       "      <td>ChronosZeroShot[bolt_base]</td>\n",
       "      <td>-0.135960</td>\n",
       "      <td>-0.136489</td>\n",
       "      <td>1.325602</td>\n",
       "      <td>0.901457</td>\n",
       "      <td>0.002394</td>\n",
       "      <td>5</td>\n",
       "      <td>-14271.658163</td>\n",
       "      <td>-0.121214</td>\n",
       "      <td>-5.565913e+08</td>\n",
       "      <td>-14271.658163</td>\n",
       "      <td>-12750.126862</td>\n",
       "    </tr>\n",
       "    <tr>\n",
       "      <th>5</th>\n",
       "      <td>ChronosZeroShot[bolt_tiny]</td>\n",
       "      <td>-0.137080</td>\n",
       "      <td>-0.137194</td>\n",
       "      <td>0.796603</td>\n",
       "      <td>0.876252</td>\n",
       "      <td>0.830654</td>\n",
       "      <td>1</td>\n",
       "      <td>-14454.922486</td>\n",
       "      <td>-0.123342</td>\n",
       "      <td>-5.651425e+08</td>\n",
       "      <td>-14454.922486</td>\n",
       "      <td>-12855.106233</td>\n",
       "    </tr>\n",
       "  </tbody>\n",
       "</table>\n",
       "</div>"
      ],
      "text/plain": [
       "                         model  WQL_test   WQL_val  pred_time_test  \\\n",
       "0  ChronosFineTuned[bolt_base] -0.113718 -0.121845        0.221651   \n",
       "1  ChronosFineTuned[bolt_mini] -0.117131 -0.120017        0.057953   \n",
       "2  ChronosFineTuned[bolt_tiny] -0.127711 -0.122646        0.121423   \n",
       "3   ChronosZeroShot[bolt_mini] -0.133486 -0.134947        0.726565   \n",
       "4   ChronosZeroShot[bolt_base] -0.135960 -0.136489        1.325602   \n",
       "5   ChronosZeroShot[bolt_tiny] -0.137080 -0.137194        0.796603   \n",
       "\n",
       "   pred_time_val  fit_time_marginal  fit_order          MASE      MAPE  \\\n",
       "0       0.019279          75.457937          6 -12856.702610 -0.111725   \n",
       "1       0.007797          20.557802          4 -13004.195069 -0.112286   \n",
       "2       0.037200          18.807607          2 -13611.833339 -0.117787   \n",
       "3      14.718200           0.002507          3 -14264.333939 -0.121170   \n",
       "4       0.901457           0.002394          5 -14271.658163 -0.121214   \n",
       "5       0.876252           0.830654          1 -14454.922486 -0.123342   \n",
       "\n",
       "            MSE           MAE           SQL  \n",
       "0 -3.920070e+08 -12856.702610 -10664.281449  \n",
       "1 -4.125855e+08 -13004.195069 -10984.302898  \n",
       "2 -4.551651e+08 -13611.833339 -11976.536311  \n",
       "3 -5.578932e+08 -14264.333939 -12518.047403  \n",
       "4 -5.565913e+08 -14271.658163 -12750.126862  \n",
       "5 -5.651425e+08 -14454.922486 -12855.106233  "
      ]
     },
     "execution_count": 5,
     "metadata": {},
     "output_type": "execute_result"
    }
   ],
   "source": [
    "leaderboard = predictor.leaderboard(\n",
    "    test_data,\n",
    "    extra_metrics=['MASE', 'MAPE', 'MSE', 'MAE', 'SQL'],\n",
    ")\n",
    "leaderboard.rename(columns={'score_test': 'WQL_test', 'score_val': 'WQL_val'}, inplace=True)\n",
    "leaderboard"
   ]
  },
  {
   "cell_type": "code",
   "execution_count": 6,
   "metadata": {},
   "outputs": [],
   "source": [
    "def extract_specific_rows_from_indexed_data(data, start_row: int, end_row: int):\n",
    "    rows_to_extract = np.arange(start_row, end_row)\n",
    "    unique_ids = data.index.get_level_values('item_id').unique()\n",
    "        \n",
    "    selected_data = []\n",
    "\n",
    "    for item_id in unique_ids:\n",
    "        item_data = data.loc[[item_id]]\n",
    "        \n",
    "        selected_rows = item_data.iloc[rows_to_extract]\n",
    "        selected_data.append(selected_rows)\n",
    "\n",
    "    result = pd.concat(selected_data)\n",
    "\n",
    "    return result\n",
    "\n",
    "k = 12\n",
    "\n",
    "top_k_models = leaderboard.sort_values(['SQL'], ascending=False).head(k)['model'].tolist()\n",
    "window_size = config.prediction_length\n",
    "test_length = test_df['code'].value_counts().iloc[0]\n",
    "max_iterations = (test_length + window_size - 1) // window_size# - 1 ещё -1 из-за known_covariates\n",
    "\n",
    "current_data = train_data.copy()\n",
    "all_val_models_predictions = {}\n",
    "\n",
    "for i in range(max_iterations):\n",
    "    start_idx = i * window_size\n",
    "    end_idx = start_idx + window_size\n",
    "    \n",
    "    for model_name in top_k_models:\n",
    "        if model_name not in all_val_models_predictions:\n",
    "            all_val_models_predictions[model_name] = []\n",
    "        \n",
    "        # future_covariates = test_data[start_idx:start_idx + config.prediction_length][known_covariates_names]\n",
    "        # prediction_covariates = pd.concat([current_data[known_covariates_names], future_covariates])\n",
    "        \n",
    "        predictions = predictor.predict(current_data, \n",
    "                                       model=model_name,)\n",
    "                                       # known_covariates=prediction_covariates)\n",
    "                                       \n",
    "        all_val_models_predictions[model_name].append(predictions)\n",
    "        \n",
    "    current_data = pd.concat([current_data, extract_specific_rows_from_indexed_data(val_data, start_idx, end_idx)])\n",
    "\n",
    "test_df_shape = test_df.shape[0]\n",
    "all_val_models_predictions = {k: pd.concat(v)[:test_df_shape] for k, v in all_val_models_predictions.items()}\n",
    "\n",
    "current_data = val_data.copy()\n",
    "all_test_models_predictions = {}\n",
    "\n",
    "for i in range(max_iterations):\n",
    "    start_idx = i * window_size\n",
    "    end_idx = start_idx + window_size\n",
    "    \n",
    "    for model_name in top_k_models:\n",
    "        if model_name not in all_test_models_predictions:\n",
    "            all_test_models_predictions[model_name] = []\n",
    "        \n",
    "        # future_covariates = test_data[start_idx:start_idx + config.prediction_length][known_covariates_names]\n",
    "        # prediction_covariates = pd.concat([current_data[known_covariates_names], future_covariates])\n",
    "        \n",
    "        predictions = predictor.predict(current_data, \n",
    "                                       model=model_name,)\n",
    "                                       # known_covariates=prediction_covariates)\n",
    "                                       \n",
    "        all_test_models_predictions[model_name].append(predictions)\n",
    "        \n",
    "    current_data = pd.concat([current_data, extract_specific_rows_from_indexed_data(test_data, start_idx, end_idx)])\n",
    "\n",
    "test_df_shape = test_df.shape[0]\n",
    "all_test_models_predictions = {k: pd.concat(v)[:test_df_shape] for k, v in all_test_models_predictions.items()}"
   ]
  },
  {
   "cell_type": "code",
   "execution_count": 7,
   "metadata": {},
   "outputs": [],
   "source": [
    "from plotly.subplots import make_subplots\n",
    "\n",
    "def plot_forecasts_val_test(\n",
    "    val_df: pd.DataFrame,\n",
    "    test_df: pd.DataFrame,\n",
    "    val_predictions: pd.DataFrame,\n",
    "    test_predictions: dict[str, pd.DataFrame],\n",
    "    start_date: str | None = None,\n",
    "    end_date: str | None = None,\n",
    "    height: int = 300,\n",
    "    width: int = 1400,\n",
    "    item_id: str | None = None,\n",
    "):\n",
    "    model_names = list(test_predictions.keys())\n",
    "    n_models = len(model_names)\n",
    "    rows = int(np.ceil(n_models / 2))\n",
    "    cols = 2\n",
    "    \n",
    "    filtered_val_df = val_df.copy()\n",
    "    filtered_test_df = test_df.copy()\n",
    "    \n",
    "    if start_date is not None and end_date is not None:        \n",
    "        test_mask = (filtered_test_df[\"timestamp\"] >= start_date) & (filtered_test_df[\"timestamp\"] <= end_date)\n",
    "        filtered_test_df = filtered_test_df[test_mask]\n",
    "    \n",
    "    fig = make_subplots(\n",
    "        rows=rows, cols=cols, subplot_titles=model_names, vertical_spacing=0.1\n",
    "    )\n",
    "    \n",
    "    for i, model_name in enumerate(model_names):\n",
    "        row = i // 2 + 1\n",
    "        col = i % 2 + 1\n",
    "\n",
    "        model_val_pred = val_predictions[model_name].copy()\n",
    "        if item_id is not None:\n",
    "            model_val_pred = model_val_pred.loc[item_id]\n",
    "\n",
    "        filtered_val_mean = model_val_pred[\"mean\"].values\n",
    "        filtered_val_upper = model_val_pred[\"0.9\"].values if \"0.9\" in model_val_pred else None\n",
    "        filtered_val_lower = model_val_pred[\"0.1\"].values if \"0.1\" in model_val_pred else None\n",
    "        \n",
    "        model_test_pred = test_predictions[model_name]\n",
    "        if item_id is not None:\n",
    "            model_test_pred = model_test_pred.loc[item_id]\n",
    "        \n",
    "        if start_date is not None and end_date is not None:\n",
    "            test_time_mask = (test_df[\"timestamp\"] >= start_date) & (test_df[\"timestamp\"] <= end_date)\n",
    "            \n",
    "            filtered_test_mean = model_test_pred[\"mean\"].values[test_time_mask]\n",
    "            filtered_test_upper = model_test_pred[\"0.9\"].values[test_time_mask] if \"0.9\" in model_test_pred else None\n",
    "            filtered_test_lower = model_test_pred[\"0.1\"].values[test_time_mask] if \"0.1\" in model_test_pred else None\n",
    "            \n",
    "        else:\n",
    "            filtered_test_mean = model_test_pred[\"mean\"]\n",
    "            filtered_test_upper = model_test_pred[\"0.9\"] if \"0.9\" in model_test_pred else None\n",
    "            filtered_test_lower = model_test_pred[\"0.1\"] if \"0.1\" in model_test_pred else None\n",
    "        \n",
    "        fig.add_trace(\n",
    "            go.Scatter(\n",
    "                x=filtered_val_df[\"timestamp\"],\n",
    "                y=filtered_val_df[\"target\"],\n",
    "                name=\"Validation (actual)\",\n",
    "                line=dict(color=\"blue\"),\n",
    "            ),\n",
    "            row=row,\n",
    "            col=col,\n",
    "        )\n",
    "        \n",
    "        fig.add_trace(\n",
    "            go.Scatter(\n",
    "                x=filtered_val_df[\"timestamp\"],\n",
    "                y=filtered_val_mean,\n",
    "                name=\"Validation (predicted)\",\n",
    "                line=dict(color=\"purple\", dash=\"dot\"),\n",
    "            ),\n",
    "            row=row,\n",
    "            col=col,\n",
    "        )\n",
    "        \n",
    "        fig.add_trace(\n",
    "            go.Scatter(\n",
    "                x=filtered_test_df[\"timestamp\"],\n",
    "                y=filtered_test_df[\"target\"],\n",
    "                name=\"Test (actual)\",\n",
    "                line=dict(color=\"#50C878\"),\n",
    "            ),\n",
    "            row=row,\n",
    "            col=col,\n",
    "        )\n",
    "        \n",
    "        fig.add_trace(\n",
    "            go.Scatter(\n",
    "                x=filtered_test_df[\"timestamp\"],\n",
    "                y=filtered_test_mean,\n",
    "                name=f\"{model_name} Test (predicted)\",\n",
    "                line=dict(color=\"#D70040\", dash=\"dot\"),\n",
    "            ),\n",
    "            row=row,\n",
    "            col=col,\n",
    "        )\n",
    "\n",
    "        fig.add_trace(\n",
    "                go.Scatter(\n",
    "                    x=filtered_val_df[\"timestamp\"],\n",
    "                    y=filtered_val_upper,\n",
    "                    mode=\"lines\",\n",
    "                    line=dict(width=0),\n",
    "                    showlegend=False,\n",
    "                ),\n",
    "                row=row,\n",
    "                col=col,\n",
    "            )\n",
    "        fig.add_trace(\n",
    "            go.Scatter(\n",
    "                x=filtered_val_df[\"timestamp\"],\n",
    "                y=filtered_val_lower,\n",
    "                mode=\"lines\",\n",
    "                fill=\"tonexty\",\n",
    "                fillcolor=\"rgba(128, 0, 128, 0.6)\",\n",
    "                line=dict(width=0),\n",
    "                name=f\"{model_name} CI (0.1-0.9)\",\n",
    "            ),\n",
    "            row=row,\n",
    "            col=col,\n",
    "        )\n",
    "        \n",
    "        if filtered_test_upper is not None and filtered_test_lower is not None:\n",
    "            fig.add_trace(\n",
    "                go.Scatter(\n",
    "                    x=filtered_test_df[\"timestamp\"],\n",
    "                    y=filtered_test_upper,\n",
    "                    mode=\"lines\",\n",
    "                    line=dict(width=0),\n",
    "                    showlegend=False,\n",
    "                ),\n",
    "                row=row,\n",
    "                col=col,\n",
    "            )\n",
    "            fig.add_trace(\n",
    "                go.Scatter(\n",
    "                    x=filtered_test_df[\"timestamp\"],\n",
    "                    y=filtered_test_lower,\n",
    "                    mode=\"lines\",\n",
    "                    fill=\"tonexty\",\n",
    "                    fillcolor=\"rgba(255, 127, 14, 0.6)\",\n",
    "                    line=dict(width=0),\n",
    "                    name=f\"{model_name} CI (0.1-0.9)\",\n",
    "                ),\n",
    "                row=row,\n",
    "                col=col,\n",
    "            )\n",
    "    \n",
    "    fig.update_layout(\n",
    "        title=\"Forecasts with Validation and Test Data\",\n",
    "        template=\"plotly_white\",\n",
    "        height=height * rows,\n",
    "        width=width,\n",
    "        showlegend=True,\n",
    "    )\n",
    "    \n",
    "    for i in range(1, rows * cols + 1):\n",
    "        fig.update_xaxes(\n",
    "            title_text=\"Date\",\n",
    "            row=i // cols + 1,\n",
    "            col=i % cols if i % cols != 0 else cols,\n",
    "        )\n",
    "        fig.update_yaxes(\n",
    "            title_text=\"National Demand\",\n",
    "            row=i // cols + 1,\n",
    "            col=i % cols if i % cols != 0 else cols,\n",
    "        )\n",
    "    \n",
    "    fig.show()"
   ]
  },
  {
   "cell_type": "code",
   "execution_count": 9,
   "metadata": {},
   "outputs": [
    {
     "data": {
      "application/vnd.jupyter.widget-view+json": {
       "model_id": "a27ffb38e76c4c67b9beb7b3bcc18b18",
       "version_major": 2,
       "version_minor": 0
      },
      "text/plain": [
       "VBox(children=(HBox(children=(DatePicker(value=datetime.date(2023, 1, 1), description='Start date:'), DatePick…"
      ]
     },
     "metadata": {},
     "output_type": "display_data"
    },
    {
     "data": {
      "application/vnd.jupyter.widget-view+json": {
       "model_id": "bfa6bf0eb5d94acaac2b19c5412b7716",
       "version_major": 2,
       "version_minor": 0
      },
      "text/plain": [
       "Output()"
      ]
     },
     "metadata": {},
     "output_type": "display_data"
    }
   ],
   "source": [
    "import ipywidgets as widgets\n",
    "from IPython.display import display, clear_output\n",
    "import datetime\n",
    "from utils.plotting import plot_forecasts\n",
    "\n",
    "date_col = pd.to_datetime(test_df[\"date\"])\n",
    "min_date = date_col.min().date()\n",
    "max_date = date_col.max().date()\n",
    "height = 400\n",
    "width = 1200\n",
    "\n",
    "start_date_picker = widgets.DatePicker(\n",
    "    description=\"Start date:\", disabled=False, value=min_date\n",
    ")\n",
    "\n",
    "end_date_picker = widgets.DatePicker(\n",
    "    description=\"End date:\", disabled=False, value=max_date\n",
    ")\n",
    "\n",
    "output_area = widgets.Output()\n",
    "\n",
    "\n",
    "def on_button_clicked(b):\n",
    "    with output_area:\n",
    "        clear_output(wait=True)\n",
    "        start_date = datetime.datetime.combine(\n",
    "            start_date_picker.value, datetime.datetime.min.time()\n",
    "        )\n",
    "        end_date = datetime.datetime.combine(\n",
    "            end_date_picker.value, datetime.datetime.min.time()\n",
    "        )\n",
    "        plot_forecasts_val_test(\n",
    "            val_df=val_df_,\n",
    "            test_df=test_df_,\n",
    "            val_predictions=all_val_models_predictions_,\n",
    "            test_predictions=all_test_models_predictions,\n",
    "            start_date=start_date,\n",
    "            end_date=end_date,\n",
    "            height=height,\n",
    "            width=width,\n",
    "            item_id=item_id,\n",
    "        )\n",
    "\n",
    "\n",
    "plot_button = widgets.Button(description=\"Plot Forecasts\")\n",
    "plot_button.on_click(on_button_clicked)\n",
    "\n",
    "controls = widgets.VBox(\n",
    "    [widgets.HBox([start_date_picker, end_date_picker]), plot_button]\n",
    ")\n",
    "\n",
    "display(controls, output_area)\n",
    "\n",
    "# item_id='82.91'\n",
    "# item_id='01.11.39'\n",
    "item_id='82.99'\n",
    "item_id = 81\n",
    "\n",
    "val_df_ = val_df.rename(columns={'date': 'timestamp', \"nominal_wage\": \"target\"})[['code', 'timestamp', \"target\"]]\n",
    "val_df_ = val_df_[val_df_['code'].eq(item_id)].reset_index(drop=True)\n",
    "val_df_['timestamp'] = pd.to_datetime(val_df_['timestamp'])\n",
    "\n",
    "test_df_ = test_df.rename(columns={'date': 'timestamp', \"nominal_wage\": \"target\"})[['code', 'timestamp', \"target\"]]\n",
    "test_df_ = test_df_[test_df_['code'].eq(item_id)].reset_index(drop=True)\n",
    "test_df_['timestamp'] = pd.to_datetime(test_df_['timestamp'])\n",
    "\n",
    "val_df_ = pd.concat([val_df_, test_df_.iloc[[0]]])\n",
    "\n",
    "all_val_models_predictions_ = all_val_models_predictions.copy()\n",
    "for model in all_val_models_predictions_.keys():\n",
    "    all_val_models_predictions_[model] = pd.concat([all_val_models_predictions_[model], all_test_models_predictions[model].loc[[item_id]].iloc[[0]]])\n",
    "\n",
    "with output_area:\n",
    "    plot_forecasts_val_test(\n",
    "        val_df=val_df_,\n",
    "        test_df=test_df_,\n",
    "        val_predictions=all_val_models_predictions_,\n",
    "        test_predictions=all_test_models_predictions,\n",
    "        height=height,\n",
    "        width=width,\n",
    "        item_id=item_id,\n",
    "    )"
   ]
  },
  {
   "cell_type": "code",
   "execution_count": 10,
   "metadata": {},
   "outputs": [
    {
     "data": {
      "application/vnd.plotly.v1+json": {
       "config": {
        "plotlyServerURL": "https://plot.ly"
       },
       "data": [
        {
         "line": {
          "color": "blue"
         },
         "name": "Validation (actual)",
         "type": "scatter",
         "x": [
          "2022-01-01T00:00:00",
          "2022-02-01T00:00:00",
          "2022-03-01T00:00:00",
          "2022-04-01T00:00:00",
          "2022-05-01T00:00:00",
          "2022-06-01T00:00:00",
          "2022-07-01T00:00:00",
          "2022-08-01T00:00:00",
          "2022-09-01T00:00:00",
          "2022-10-01T00:00:00",
          "2022-11-01T00:00:00",
          "2022-12-01T00:00:00",
          "2023-01-01T00:00:00"
         ],
         "xaxis": "x",
         "y": [
          41595,
          42780.3,
          45071.2,
          41791.8,
          43118.9,
          43761.8,
          44465.4,
          43086.5,
          44928.5,
          42347,
          42427.1,
          56294.7,
          44793.4
         ],
         "yaxis": "y"
        },
        {
         "line": {
          "color": "purple",
          "dash": "dot"
         },
         "name": "Validation (predicted)",
         "type": "scatter",
         "x": [
          "2022-01-01T00:00:00",
          "2022-02-01T00:00:00",
          "2022-03-01T00:00:00",
          "2022-04-01T00:00:00",
          "2022-05-01T00:00:00",
          "2022-06-01T00:00:00",
          "2022-07-01T00:00:00",
          "2022-08-01T00:00:00",
          "2022-09-01T00:00:00",
          "2022-10-01T00:00:00",
          "2022-11-01T00:00:00",
          "2022-12-01T00:00:00",
          "2023-01-01T00:00:00"
         ],
         "xaxis": "x",
         "y": [
          41783.73,
          42598.74,
          45259.656,
          45276.773,
          43331.133,
          44273.555,
          42746.016,
          41811.645,
          44105.45,
          44417.266,
          42649.066,
          59142.484,
          44454.055
         ],
         "yaxis": "y"
        },
        {
         "line": {
          "color": "#50C878"
         },
         "name": "Test (actual)",
         "type": "scatter",
         "x": [
          "2023-01-01T00:00:00",
          "2023-02-01T00:00:00",
          "2023-03-01T00:00:00",
          "2023-04-01T00:00:00",
          "2023-05-01T00:00:00",
          "2023-06-01T00:00:00",
          "2023-07-01T00:00:00",
          "2023-08-01T00:00:00",
          "2023-09-01T00:00:00",
          "2023-10-01T00:00:00",
          "2023-11-01T00:00:00",
          "2023-12-01T00:00:00"
         ],
         "xaxis": "x",
         "y": [
          44793.4,
          47803.8,
          46774.3,
          46382.4,
          47973.6,
          49212.3,
          49191,
          47783.2,
          49573.2,
          48510,
          49450.5,
          63952.2
         ],
         "yaxis": "y"
        },
        {
         "line": {
          "color": "#D70040",
          "dash": "dot"
         },
         "name": "ChronosFineTuned[bolt_base] Test (predicted)",
         "type": "scatter",
         "x": [
          "2023-01-01T00:00:00",
          "2023-02-01T00:00:00",
          "2023-03-01T00:00:00",
          "2023-04-01T00:00:00",
          "2023-05-01T00:00:00",
          "2023-06-01T00:00:00",
          "2023-07-01T00:00:00",
          "2023-08-01T00:00:00",
          "2023-09-01T00:00:00",
          "2023-10-01T00:00:00",
          "2023-11-01T00:00:00",
          "2023-12-01T00:00:00"
         ],
         "xaxis": "x",
         "y": [
          44454.055,
          44981.8,
          48701.094,
          49357.24,
          46473.03,
          47502.48,
          48009.492,
          47370.46,
          49491.805,
          48087.977,
          48484.066,
          59412.156
         ],
         "yaxis": "y"
        },
        {
         "line": {
          "width": 0
         },
         "mode": "lines",
         "showlegend": false,
         "type": "scatter",
         "x": [
          "2022-01-01T00:00:00",
          "2022-02-01T00:00:00",
          "2022-03-01T00:00:00",
          "2022-04-01T00:00:00",
          "2022-05-01T00:00:00",
          "2022-06-01T00:00:00",
          "2022-07-01T00:00:00",
          "2022-08-01T00:00:00",
          "2022-09-01T00:00:00",
          "2022-10-01T00:00:00",
          "2022-11-01T00:00:00",
          "2022-12-01T00:00:00",
          "2023-01-01T00:00:00"
         ],
         "xaxis": "x",
         "y": [
          44098.242,
          44659.88,
          46824.387,
          46920.746,
          45337.17,
          46326.895,
          44421.03,
          43246.348,
          45859.508,
          46108.367,
          44479.227,
          62463.703,
          48953.29
         ],
         "yaxis": "y"
        },
        {
         "fill": "tonexty",
         "fillcolor": "rgba(128, 0, 128, 0.6)",
         "line": {
          "width": 0
         },
         "mode": "lines",
         "name": "ChronosFineTuned[bolt_base] CI (0.1-0.9)",
         "type": "scatter",
         "x": [
          "2022-01-01T00:00:00",
          "2022-02-01T00:00:00",
          "2022-03-01T00:00:00",
          "2022-04-01T00:00:00",
          "2022-05-01T00:00:00",
          "2022-06-01T00:00:00",
          "2022-07-01T00:00:00",
          "2022-08-01T00:00:00",
          "2022-09-01T00:00:00",
          "2022-10-01T00:00:00",
          "2022-11-01T00:00:00",
          "2022-12-01T00:00:00",
          "2023-01-01T00:00:00"
         ],
         "xaxis": "x",
         "y": [
          39739.105,
          40581.906,
          43487.258,
          43491.875,
          41613.32,
          42236.973,
          41026.406,
          40108.336,
          42109.062,
          42218.32,
          40929.79,
          54345,
          42715.55
         ],
         "yaxis": "y"
        },
        {
         "line": {
          "width": 0
         },
         "mode": "lines",
         "showlegend": false,
         "type": "scatter",
         "x": [
          "2023-01-01T00:00:00",
          "2023-02-01T00:00:00",
          "2023-03-01T00:00:00",
          "2023-04-01T00:00:00",
          "2023-05-01T00:00:00",
          "2023-06-01T00:00:00",
          "2023-07-01T00:00:00",
          "2023-08-01T00:00:00",
          "2023-09-01T00:00:00",
          "2023-10-01T00:00:00",
          "2023-11-01T00:00:00",
          "2023-12-01T00:00:00"
         ],
         "xaxis": "x",
         "y": [
          48953.29,
          49576.215,
          51417.195,
          52565.785,
          48531.383,
          49944.58,
          49683.246,
          49412.844,
          50814.344,
          49275.03,
          49841.98,
          61797.19
         ],
         "yaxis": "y"
        },
        {
         "fill": "tonexty",
         "fillcolor": "rgba(255, 127, 14, 0.6)",
         "line": {
          "width": 0
         },
         "mode": "lines",
         "name": "ChronosFineTuned[bolt_base] CI (0.1-0.9)",
         "type": "scatter",
         "x": [
          "2023-01-01T00:00:00",
          "2023-02-01T00:00:00",
          "2023-03-01T00:00:00",
          "2023-04-01T00:00:00",
          "2023-05-01T00:00:00",
          "2023-06-01T00:00:00",
          "2023-07-01T00:00:00",
          "2023-08-01T00:00:00",
          "2023-09-01T00:00:00",
          "2023-10-01T00:00:00",
          "2023-11-01T00:00:00",
          "2023-12-01T00:00:00"
         ],
         "xaxis": "x",
         "y": [
          42715.55,
          43406.15,
          47101.523,
          47433.977,
          45297.63,
          46111.84,
          47060.777,
          46204.84,
          48121.477,
          46710.336,
          47669.086,
          56628.047
         ],
         "yaxis": "y"
        },
        {
         "line": {
          "color": "blue"
         },
         "name": "Validation (actual)",
         "type": "scatter",
         "x": [
          "2022-01-01T00:00:00",
          "2022-02-01T00:00:00",
          "2022-03-01T00:00:00",
          "2022-04-01T00:00:00",
          "2022-05-01T00:00:00",
          "2022-06-01T00:00:00",
          "2022-07-01T00:00:00",
          "2022-08-01T00:00:00",
          "2022-09-01T00:00:00",
          "2022-10-01T00:00:00",
          "2022-11-01T00:00:00",
          "2022-12-01T00:00:00",
          "2023-01-01T00:00:00"
         ],
         "xaxis": "x2",
         "y": [
          41595,
          42780.3,
          45071.2,
          41791.8,
          43118.9,
          43761.8,
          44465.4,
          43086.5,
          44928.5,
          42347,
          42427.1,
          56294.7,
          44793.4
         ],
         "yaxis": "y2"
        },
        {
         "line": {
          "color": "purple",
          "dash": "dot"
         },
         "name": "Validation (predicted)",
         "type": "scatter",
         "x": [
          "2022-01-01T00:00:00",
          "2022-02-01T00:00:00",
          "2022-03-01T00:00:00",
          "2022-04-01T00:00:00",
          "2022-05-01T00:00:00",
          "2022-06-01T00:00:00",
          "2022-07-01T00:00:00",
          "2022-08-01T00:00:00",
          "2022-09-01T00:00:00",
          "2022-10-01T00:00:00",
          "2022-11-01T00:00:00",
          "2022-12-01T00:00:00",
          "2023-01-01T00:00:00"
         ],
         "xaxis": "x2",
         "y": [
          42132.008,
          42417.965,
          44340.44,
          44201.25,
          42676.75,
          43410.758,
          42325.71,
          41592.477,
          44232.05,
          43550.812,
          42972.996,
          57761.6,
          44152.67
         ],
         "yaxis": "y2"
        },
        {
         "line": {
          "color": "#50C878"
         },
         "name": "Test (actual)",
         "type": "scatter",
         "x": [
          "2023-01-01T00:00:00",
          "2023-02-01T00:00:00",
          "2023-03-01T00:00:00",
          "2023-04-01T00:00:00",
          "2023-05-01T00:00:00",
          "2023-06-01T00:00:00",
          "2023-07-01T00:00:00",
          "2023-08-01T00:00:00",
          "2023-09-01T00:00:00",
          "2023-10-01T00:00:00",
          "2023-11-01T00:00:00",
          "2023-12-01T00:00:00"
         ],
         "xaxis": "x2",
         "y": [
          44793.4,
          47803.8,
          46774.3,
          46382.4,
          47973.6,
          49212.3,
          49191,
          47783.2,
          49573.2,
          48510,
          49450.5,
          63952.2
         ],
         "yaxis": "y2"
        },
        {
         "line": {
          "color": "#D70040",
          "dash": "dot"
         },
         "name": "ChronosFineTuned[bolt_mini] Test (predicted)",
         "type": "scatter",
         "x": [
          "2023-01-01T00:00:00",
          "2023-02-01T00:00:00",
          "2023-03-01T00:00:00",
          "2023-04-01T00:00:00",
          "2023-05-01T00:00:00",
          "2023-06-01T00:00:00",
          "2023-07-01T00:00:00",
          "2023-08-01T00:00:00",
          "2023-09-01T00:00:00",
          "2023-10-01T00:00:00",
          "2023-11-01T00:00:00",
          "2023-12-01T00:00:00"
         ],
         "xaxis": "x2",
         "y": [
          44152.67,
          44272.57,
          47057.312,
          47592.688,
          46752.066,
          47207.863,
          47396.87,
          46771.812,
          48552.633,
          48702.996,
          49864.688,
          59493.72
         ],
         "yaxis": "y2"
        },
        {
         "line": {
          "width": 0
         },
         "mode": "lines",
         "showlegend": false,
         "type": "scatter",
         "x": [
          "2022-01-01T00:00:00",
          "2022-02-01T00:00:00",
          "2022-03-01T00:00:00",
          "2022-04-01T00:00:00",
          "2022-05-01T00:00:00",
          "2022-06-01T00:00:00",
          "2022-07-01T00:00:00",
          "2022-08-01T00:00:00",
          "2022-09-01T00:00:00",
          "2022-10-01T00:00:00",
          "2022-11-01T00:00:00",
          "2022-12-01T00:00:00",
          "2023-01-01T00:00:00"
         ],
         "xaxis": "x2",
         "y": [
          44593.812,
          44430.273,
          45803.984,
          45627.082,
          44428.785,
          45056.844,
          43782.64,
          43084.332,
          46228.543,
          45196.773,
          44793.758,
          60534.703,
          49361.047
         ],
         "yaxis": "y2"
        },
        {
         "fill": "tonexty",
         "fillcolor": "rgba(128, 0, 128, 0.6)",
         "line": {
          "width": 0
         },
         "mode": "lines",
         "name": "ChronosFineTuned[bolt_mini] CI (0.1-0.9)",
         "type": "scatter",
         "x": [
          "2022-01-01T00:00:00",
          "2022-02-01T00:00:00",
          "2022-03-01T00:00:00",
          "2022-04-01T00:00:00",
          "2022-05-01T00:00:00",
          "2022-06-01T00:00:00",
          "2022-07-01T00:00:00",
          "2022-08-01T00:00:00",
          "2022-09-01T00:00:00",
          "2022-10-01T00:00:00",
          "2022-11-01T00:00:00",
          "2022-12-01T00:00:00",
          "2023-01-01T00:00:00"
         ],
         "xaxis": "x2",
         "y": [
          40246.06,
          40534.902,
          42798.62,
          42880.945,
          41268.234,
          41896.574,
          40879.023,
          40434.598,
          42179.83,
          41685.477,
          41309.266,
          52187.69,
          42288.58
         ],
         "yaxis": "y2"
        },
        {
         "line": {
          "width": 0
         },
         "mode": "lines",
         "showlegend": false,
         "type": "scatter",
         "x": [
          "2023-01-01T00:00:00",
          "2023-02-01T00:00:00",
          "2023-03-01T00:00:00",
          "2023-04-01T00:00:00",
          "2023-05-01T00:00:00",
          "2023-06-01T00:00:00",
          "2023-07-01T00:00:00",
          "2023-08-01T00:00:00",
          "2023-09-01T00:00:00",
          "2023-10-01T00:00:00",
          "2023-11-01T00:00:00",
          "2023-12-01T00:00:00"
         ],
         "xaxis": "x2",
         "y": [
          49361.047,
          49997.043,
          51986.48,
          53259.633,
          50753.766,
          51834.656,
          50207.03,
          49896.145,
          50520.984,
          51025.43,
          52669.03,
          63219.047
         ],
         "yaxis": "y2"
        },
        {
         "fill": "tonexty",
         "fillcolor": "rgba(255, 127, 14, 0.6)",
         "line": {
          "width": 0
         },
         "mode": "lines",
         "name": "ChronosFineTuned[bolt_mini] CI (0.1-0.9)",
         "type": "scatter",
         "x": [
          "2023-01-01T00:00:00",
          "2023-02-01T00:00:00",
          "2023-03-01T00:00:00",
          "2023-04-01T00:00:00",
          "2023-05-01T00:00:00",
          "2023-06-01T00:00:00",
          "2023-07-01T00:00:00",
          "2023-08-01T00:00:00",
          "2023-09-01T00:00:00",
          "2023-10-01T00:00:00",
          "2023-11-01T00:00:00",
          "2023-12-01T00:00:00"
         ],
         "xaxis": "x2",
         "y": [
          42288.58,
          42593.855,
          44619.914,
          44989.363,
          44851.67,
          45158.76,
          45632.215,
          44971.117,
          47088.312,
          46839.477,
          48324.31,
          54867.723
         ],
         "yaxis": "y2"
        },
        {
         "line": {
          "color": "blue"
         },
         "name": "Validation (actual)",
         "type": "scatter",
         "x": [
          "2022-01-01T00:00:00",
          "2022-02-01T00:00:00",
          "2022-03-01T00:00:00",
          "2022-04-01T00:00:00",
          "2022-05-01T00:00:00",
          "2022-06-01T00:00:00",
          "2022-07-01T00:00:00",
          "2022-08-01T00:00:00",
          "2022-09-01T00:00:00",
          "2022-10-01T00:00:00",
          "2022-11-01T00:00:00",
          "2022-12-01T00:00:00",
          "2023-01-01T00:00:00"
         ],
         "xaxis": "x3",
         "y": [
          41595,
          42780.3,
          45071.2,
          41791.8,
          43118.9,
          43761.8,
          44465.4,
          43086.5,
          44928.5,
          42347,
          42427.1,
          56294.7,
          44793.4
         ],
         "yaxis": "y3"
        },
        {
         "line": {
          "color": "purple",
          "dash": "dot"
         },
         "name": "Validation (predicted)",
         "type": "scatter",
         "x": [
          "2022-01-01T00:00:00",
          "2022-02-01T00:00:00",
          "2022-03-01T00:00:00",
          "2022-04-01T00:00:00",
          "2022-05-01T00:00:00",
          "2022-06-01T00:00:00",
          "2022-07-01T00:00:00",
          "2022-08-01T00:00:00",
          "2022-09-01T00:00:00",
          "2022-10-01T00:00:00",
          "2022-11-01T00:00:00",
          "2022-12-01T00:00:00",
          "2023-01-01T00:00:00"
         ],
         "xaxis": "x3",
         "y": [
          41148.613,
          41828.97,
          44701.574,
          45265.19,
          43432.656,
          44052.734,
          41997.26,
          41771.02,
          44320.336,
          43753.703,
          43243.348,
          57249.387,
          44809.77
         ],
         "yaxis": "y3"
        },
        {
         "line": {
          "color": "#50C878"
         },
         "name": "Test (actual)",
         "type": "scatter",
         "x": [
          "2023-01-01T00:00:00",
          "2023-02-01T00:00:00",
          "2023-03-01T00:00:00",
          "2023-04-01T00:00:00",
          "2023-05-01T00:00:00",
          "2023-06-01T00:00:00",
          "2023-07-01T00:00:00",
          "2023-08-01T00:00:00",
          "2023-09-01T00:00:00",
          "2023-10-01T00:00:00",
          "2023-11-01T00:00:00",
          "2023-12-01T00:00:00"
         ],
         "xaxis": "x3",
         "y": [
          44793.4,
          47803.8,
          46774.3,
          46382.4,
          47973.6,
          49212.3,
          49191,
          47783.2,
          49573.2,
          48510,
          49450.5,
          63952.2
         ],
         "yaxis": "y3"
        },
        {
         "line": {
          "color": "#D70040",
          "dash": "dot"
         },
         "name": "ChronosFineTuned[bolt_tiny] Test (predicted)",
         "type": "scatter",
         "x": [
          "2023-01-01T00:00:00",
          "2023-02-01T00:00:00",
          "2023-03-01T00:00:00",
          "2023-04-01T00:00:00",
          "2023-05-01T00:00:00",
          "2023-06-01T00:00:00",
          "2023-07-01T00:00:00",
          "2023-08-01T00:00:00",
          "2023-09-01T00:00:00",
          "2023-10-01T00:00:00",
          "2023-11-01T00:00:00",
          "2023-12-01T00:00:00"
         ],
         "xaxis": "x3",
         "y": [
          44809.77,
          44779.84,
          48016.727,
          48536.97,
          46541.03,
          48167.215,
          47824.934,
          47649.05,
          48132.992,
          48160.57,
          48876.492,
          58343.246
         ],
         "yaxis": "y3"
        },
        {
         "line": {
          "width": 0
         },
         "mode": "lines",
         "showlegend": false,
         "type": "scatter",
         "x": [
          "2022-01-01T00:00:00",
          "2022-02-01T00:00:00",
          "2022-03-01T00:00:00",
          "2022-04-01T00:00:00",
          "2022-05-01T00:00:00",
          "2022-06-01T00:00:00",
          "2022-07-01T00:00:00",
          "2022-08-01T00:00:00",
          "2022-09-01T00:00:00",
          "2022-10-01T00:00:00",
          "2022-11-01T00:00:00",
          "2022-12-01T00:00:00",
          "2023-01-01T00:00:00"
         ],
         "xaxis": "x3",
         "y": [
          44191.22,
          44279.023,
          46725.938,
          47103.71,
          45825.203,
          46189.754,
          44001.76,
          43819.285,
          46874.23,
          45748.484,
          45459.203,
          60293.15,
          50634.07
         ],
         "yaxis": "y3"
        },
        {
         "fill": "tonexty",
         "fillcolor": "rgba(128, 0, 128, 0.6)",
         "line": {
          "width": 0
         },
         "mode": "lines",
         "name": "ChronosFineTuned[bolt_tiny] CI (0.1-0.9)",
         "type": "scatter",
         "x": [
          "2022-01-01T00:00:00",
          "2022-02-01T00:00:00",
          "2022-03-01T00:00:00",
          "2022-04-01T00:00:00",
          "2022-05-01T00:00:00",
          "2022-06-01T00:00:00",
          "2022-07-01T00:00:00",
          "2022-08-01T00:00:00",
          "2022-09-01T00:00:00",
          "2022-10-01T00:00:00",
          "2022-11-01T00:00:00",
          "2022-12-01T00:00:00",
          "2023-01-01T00:00:00"
         ],
         "xaxis": "x3",
         "y": [
          38650.215,
          39728.547,
          42704.08,
          43913.9,
          41294.1,
          42096.7,
          40024.543,
          40354.68,
          41816.047,
          42044.62,
          41380.45,
          51626.945,
          42118.043
         ],
         "yaxis": "y3"
        },
        {
         "line": {
          "width": 0
         },
         "mode": "lines",
         "showlegend": false,
         "type": "scatter",
         "x": [
          "2023-01-01T00:00:00",
          "2023-02-01T00:00:00",
          "2023-03-01T00:00:00",
          "2023-04-01T00:00:00",
          "2023-05-01T00:00:00",
          "2023-06-01T00:00:00",
          "2023-07-01T00:00:00",
          "2023-08-01T00:00:00",
          "2023-09-01T00:00:00",
          "2023-10-01T00:00:00",
          "2023-11-01T00:00:00",
          "2023-12-01T00:00:00"
         ],
         "xaxis": "x3",
         "y": [
          50634.07,
          50989.766,
          52340.99,
          53369.82,
          49303.78,
          51499.113,
          50429.35,
          50497.574,
          50129.523,
          50282.2,
          51654.613,
          61987.254
         ],
         "yaxis": "y3"
        },
        {
         "fill": "tonexty",
         "fillcolor": "rgba(255, 127, 14, 0.6)",
         "line": {
          "width": 0
         },
         "mode": "lines",
         "name": "ChronosFineTuned[bolt_tiny] CI (0.1-0.9)",
         "type": "scatter",
         "x": [
          "2023-01-01T00:00:00",
          "2023-02-01T00:00:00",
          "2023-03-01T00:00:00",
          "2023-04-01T00:00:00",
          "2023-05-01T00:00:00",
          "2023-06-01T00:00:00",
          "2023-07-01T00:00:00",
          "2023-08-01T00:00:00",
          "2023-09-01T00:00:00",
          "2023-10-01T00:00:00",
          "2023-11-01T00:00:00",
          "2023-12-01T00:00:00"
         ],
         "xaxis": "x3",
         "y": [
          42118.043,
          42198.68,
          45262.566,
          45511.56,
          44755.473,
          45833.867,
          45829.9,
          45714.44,
          46620.527,
          46494.215,
          47179.754,
          53605.22
         ],
         "yaxis": "y3"
        },
        {
         "line": {
          "color": "blue"
         },
         "name": "Validation (actual)",
         "type": "scatter",
         "x": [
          "2022-01-01T00:00:00",
          "2022-02-01T00:00:00",
          "2022-03-01T00:00:00",
          "2022-04-01T00:00:00",
          "2022-05-01T00:00:00",
          "2022-06-01T00:00:00",
          "2022-07-01T00:00:00",
          "2022-08-01T00:00:00",
          "2022-09-01T00:00:00",
          "2022-10-01T00:00:00",
          "2022-11-01T00:00:00",
          "2022-12-01T00:00:00",
          "2023-01-01T00:00:00"
         ],
         "xaxis": "x4",
         "y": [
          41595,
          42780.3,
          45071.2,
          41791.8,
          43118.9,
          43761.8,
          44465.4,
          43086.5,
          44928.5,
          42347,
          42427.1,
          56294.7,
          44793.4
         ],
         "yaxis": "y4"
        },
        {
         "line": {
          "color": "purple",
          "dash": "dot"
         },
         "name": "Validation (predicted)",
         "type": "scatter",
         "x": [
          "2022-01-01T00:00:00",
          "2022-02-01T00:00:00",
          "2022-03-01T00:00:00",
          "2022-04-01T00:00:00",
          "2022-05-01T00:00:00",
          "2022-06-01T00:00:00",
          "2022-07-01T00:00:00",
          "2022-08-01T00:00:00",
          "2022-09-01T00:00:00",
          "2022-10-01T00:00:00",
          "2022-11-01T00:00:00",
          "2022-12-01T00:00:00",
          "2023-01-01T00:00:00"
         ],
         "xaxis": "x4",
         "y": [
          42572.023,
          41995.508,
          41441.273,
          42154.383,
          42581.082,
          41891.832,
          42258.277,
          41875.633,
          42606.754,
          42829.195,
          43598.57,
          46066.883,
          47777.37
         ],
         "yaxis": "y4"
        },
        {
         "line": {
          "color": "#50C878"
         },
         "name": "Test (actual)",
         "type": "scatter",
         "x": [
          "2023-01-01T00:00:00",
          "2023-02-01T00:00:00",
          "2023-03-01T00:00:00",
          "2023-04-01T00:00:00",
          "2023-05-01T00:00:00",
          "2023-06-01T00:00:00",
          "2023-07-01T00:00:00",
          "2023-08-01T00:00:00",
          "2023-09-01T00:00:00",
          "2023-10-01T00:00:00",
          "2023-11-01T00:00:00",
          "2023-12-01T00:00:00"
         ],
         "xaxis": "x4",
         "y": [
          44793.4,
          47803.8,
          46774.3,
          46382.4,
          47973.6,
          49212.3,
          49191,
          47783.2,
          49573.2,
          48510,
          49450.5,
          63952.2
         ],
         "yaxis": "y4"
        },
        {
         "line": {
          "color": "#D70040",
          "dash": "dot"
         },
         "name": "ChronosZeroShot[bolt_mini] Test (predicted)",
         "type": "scatter",
         "x": [
          "2023-01-01T00:00:00",
          "2023-02-01T00:00:00",
          "2023-03-01T00:00:00",
          "2023-04-01T00:00:00",
          "2023-05-01T00:00:00",
          "2023-06-01T00:00:00",
          "2023-07-01T00:00:00",
          "2023-08-01T00:00:00",
          "2023-09-01T00:00:00",
          "2023-10-01T00:00:00",
          "2023-11-01T00:00:00",
          "2023-12-01T00:00:00"
         ],
         "xaxis": "x4",
         "y": [
          47777.37,
          46120.117,
          44526.727,
          44361.938,
          45369,
          45381.7,
          47322.746,
          46768.727,
          47888.977,
          47587.58,
          48148.977,
          47850.734
         ],
         "yaxis": "y4"
        },
        {
         "line": {
          "width": 0
         },
         "mode": "lines",
         "showlegend": false,
         "type": "scatter",
         "x": [
          "2022-01-01T00:00:00",
          "2022-02-01T00:00:00",
          "2022-03-01T00:00:00",
          "2022-04-01T00:00:00",
          "2022-05-01T00:00:00",
          "2022-06-01T00:00:00",
          "2022-07-01T00:00:00",
          "2022-08-01T00:00:00",
          "2022-09-01T00:00:00",
          "2022-10-01T00:00:00",
          "2022-11-01T00:00:00",
          "2022-12-01T00:00:00",
          "2023-01-01T00:00:00"
         ],
         "xaxis": "x4",
         "y": [
          46882.953,
          46779.926,
          44207.117,
          45393.684,
          45257.76,
          44958.1,
          44375.44,
          44203.28,
          45042.96,
          45690.938,
          46067.312,
          49050.516,
          63149.297
         ],
         "yaxis": "y4"
        },
        {
         "fill": "tonexty",
         "fillcolor": "rgba(128, 0, 128, 0.6)",
         "line": {
          "width": 0
         },
         "mode": "lines",
         "name": "ChronosZeroShot[bolt_mini] CI (0.1-0.9)",
         "type": "scatter",
         "x": [
          "2022-01-01T00:00:00",
          "2022-02-01T00:00:00",
          "2022-03-01T00:00:00",
          "2022-04-01T00:00:00",
          "2022-05-01T00:00:00",
          "2022-06-01T00:00:00",
          "2022-07-01T00:00:00",
          "2022-08-01T00:00:00",
          "2022-09-01T00:00:00",
          "2022-10-01T00:00:00",
          "2022-11-01T00:00:00",
          "2022-12-01T00:00:00",
          "2023-01-01T00:00:00"
         ],
         "xaxis": "x4",
         "y": [
          39390.484,
          38657.125,
          39357.926,
          39863.156,
          40196.387,
          39297.242,
          40289.984,
          39863.664,
          40325.277,
          40202.723,
          41295.703,
          43157.105,
          41327.023
         ],
         "yaxis": "y4"
        },
        {
         "line": {
          "width": 0
         },
         "mode": "lines",
         "showlegend": false,
         "type": "scatter",
         "x": [
          "2023-01-01T00:00:00",
          "2023-02-01T00:00:00",
          "2023-03-01T00:00:00",
          "2023-04-01T00:00:00",
          "2023-05-01T00:00:00",
          "2023-06-01T00:00:00",
          "2023-07-01T00:00:00",
          "2023-08-01T00:00:00",
          "2023-09-01T00:00:00",
          "2023-10-01T00:00:00",
          "2023-11-01T00:00:00",
          "2023-12-01T00:00:00"
         ],
         "xaxis": "x4",
         "y": [
          63149.297,
          62993.438,
          52197.68,
          53047.37,
          52452.74,
          53666.617,
          53265.46,
          53697.09,
          52458.613,
          53348.57,
          52832.336,
          53545.547
         ],
         "yaxis": "y4"
        },
        {
         "fill": "tonexty",
         "fillcolor": "rgba(255, 127, 14, 0.6)",
         "line": {
          "width": 0
         },
         "mode": "lines",
         "name": "ChronosZeroShot[bolt_mini] CI (0.1-0.9)",
         "type": "scatter",
         "x": [
          "2023-01-01T00:00:00",
          "2023-02-01T00:00:00",
          "2023-03-01T00:00:00",
          "2023-04-01T00:00:00",
          "2023-05-01T00:00:00",
          "2023-06-01T00:00:00",
          "2023-07-01T00:00:00",
          "2023-08-01T00:00:00",
          "2023-09-01T00:00:00",
          "2023-10-01T00:00:00",
          "2023-11-01T00:00:00",
          "2023-12-01T00:00:00"
         ],
         "xaxis": "x4",
         "y": [
          41327.023,
          40655.19,
          41561.918,
          41609.793,
          41310.42,
          40966.383,
          43591.4,
          42657.992,
          44313.53,
          43259.715,
          44342.66,
          43335.625
         ],
         "yaxis": "y4"
        },
        {
         "line": {
          "color": "blue"
         },
         "name": "Validation (actual)",
         "type": "scatter",
         "x": [
          "2022-01-01T00:00:00",
          "2022-02-01T00:00:00",
          "2022-03-01T00:00:00",
          "2022-04-01T00:00:00",
          "2022-05-01T00:00:00",
          "2022-06-01T00:00:00",
          "2022-07-01T00:00:00",
          "2022-08-01T00:00:00",
          "2022-09-01T00:00:00",
          "2022-10-01T00:00:00",
          "2022-11-01T00:00:00",
          "2022-12-01T00:00:00",
          "2023-01-01T00:00:00"
         ],
         "xaxis": "x5",
         "y": [
          41595,
          42780.3,
          45071.2,
          41791.8,
          43118.9,
          43761.8,
          44465.4,
          43086.5,
          44928.5,
          42347,
          42427.1,
          56294.7,
          44793.4
         ],
         "yaxis": "y5"
        },
        {
         "line": {
          "color": "purple",
          "dash": "dot"
         },
         "name": "Validation (predicted)",
         "type": "scatter",
         "x": [
          "2022-01-01T00:00:00",
          "2022-02-01T00:00:00",
          "2022-03-01T00:00:00",
          "2022-04-01T00:00:00",
          "2022-05-01T00:00:00",
          "2022-06-01T00:00:00",
          "2022-07-01T00:00:00",
          "2022-08-01T00:00:00",
          "2022-09-01T00:00:00",
          "2022-10-01T00:00:00",
          "2022-11-01T00:00:00",
          "2022-12-01T00:00:00",
          "2023-01-01T00:00:00"
         ],
         "xaxis": "x5",
         "y": [
          41639.082,
          41943.477,
          42807.05,
          44104.676,
          43483.89,
          43609.4,
          42818.168,
          42786.2,
          42750.773,
          42750.742,
          42902.33,
          48199.38,
          47215.08
         ],
         "yaxis": "y5"
        },
        {
         "line": {
          "color": "#50C878"
         },
         "name": "Test (actual)",
         "type": "scatter",
         "x": [
          "2023-01-01T00:00:00",
          "2023-02-01T00:00:00",
          "2023-03-01T00:00:00",
          "2023-04-01T00:00:00",
          "2023-05-01T00:00:00",
          "2023-06-01T00:00:00",
          "2023-07-01T00:00:00",
          "2023-08-01T00:00:00",
          "2023-09-01T00:00:00",
          "2023-10-01T00:00:00",
          "2023-11-01T00:00:00",
          "2023-12-01T00:00:00"
         ],
         "xaxis": "x5",
         "y": [
          44793.4,
          47803.8,
          46774.3,
          46382.4,
          47973.6,
          49212.3,
          49191,
          47783.2,
          49573.2,
          48510,
          49450.5,
          63952.2
         ],
         "yaxis": "y5"
        },
        {
         "line": {
          "color": "#D70040",
          "dash": "dot"
         },
         "name": "ChronosZeroShot[bolt_base] Test (predicted)",
         "type": "scatter",
         "x": [
          "2023-01-01T00:00:00",
          "2023-02-01T00:00:00",
          "2023-03-01T00:00:00",
          "2023-04-01T00:00:00",
          "2023-05-01T00:00:00",
          "2023-06-01T00:00:00",
          "2023-07-01T00:00:00",
          "2023-08-01T00:00:00",
          "2023-09-01T00:00:00",
          "2023-10-01T00:00:00",
          "2023-11-01T00:00:00",
          "2023-12-01T00:00:00"
         ],
         "xaxis": "x5",
         "y": [
          47215.08,
          45618.043,
          43861.55,
          43699.113,
          45957.66,
          45954.074,
          47312.54,
          46780.01,
          47581.824,
          47404.977,
          48255.895,
          48043.996
         ],
         "yaxis": "y5"
        },
        {
         "line": {
          "width": 0
         },
         "mode": "lines",
         "showlegend": false,
         "type": "scatter",
         "x": [
          "2022-01-01T00:00:00",
          "2022-02-01T00:00:00",
          "2022-03-01T00:00:00",
          "2022-04-01T00:00:00",
          "2022-05-01T00:00:00",
          "2022-06-01T00:00:00",
          "2022-07-01T00:00:00",
          "2022-08-01T00:00:00",
          "2022-09-01T00:00:00",
          "2022-10-01T00:00:00",
          "2022-11-01T00:00:00",
          "2022-12-01T00:00:00",
          "2023-01-01T00:00:00"
         ],
         "xaxis": "x5",
         "y": [
          46210.363,
          46915.68,
          45219.73,
          46770.25,
          45627.984,
          45921.45,
          45546.61,
          45673.016,
          45228.46,
          45536.64,
          45673.04,
          51739.445,
          71772.89
         ],
         "yaxis": "y5"
        },
        {
         "fill": "tonexty",
         "fillcolor": "rgba(128, 0, 128, 0.6)",
         "line": {
          "width": 0
         },
         "mode": "lines",
         "name": "ChronosZeroShot[bolt_base] CI (0.1-0.9)",
         "type": "scatter",
         "x": [
          "2022-01-01T00:00:00",
          "2022-02-01T00:00:00",
          "2022-03-01T00:00:00",
          "2022-04-01T00:00:00",
          "2022-05-01T00:00:00",
          "2022-06-01T00:00:00",
          "2022-07-01T00:00:00",
          "2022-08-01T00:00:00",
          "2022-09-01T00:00:00",
          "2022-10-01T00:00:00",
          "2022-11-01T00:00:00",
          "2022-12-01T00:00:00",
          "2023-01-01T00:00:00"
         ],
         "xaxis": "x5",
         "y": [
          38344.992,
          38574.145,
          40795.746,
          41896.867,
          41787.824,
          41645.004,
          40393.617,
          40112.902,
          40336.043,
          40042.21,
          40489.266,
          44937.168,
          40773.855
         ],
         "yaxis": "y5"
        },
        {
         "line": {
          "width": 0
         },
         "mode": "lines",
         "showlegend": false,
         "type": "scatter",
         "x": [
          "2023-01-01T00:00:00",
          "2023-02-01T00:00:00",
          "2023-03-01T00:00:00",
          "2023-04-01T00:00:00",
          "2023-05-01T00:00:00",
          "2023-06-01T00:00:00",
          "2023-07-01T00:00:00",
          "2023-08-01T00:00:00",
          "2023-09-01T00:00:00",
          "2023-10-01T00:00:00",
          "2023-11-01T00:00:00",
          "2023-12-01T00:00:00"
         ],
         "xaxis": "x5",
         "y": [
          71772.89,
          72392.19,
          53113.43,
          54047.977,
          52597.09,
          54232.43,
          53022.99,
          53794.16,
          50889.836,
          51808.594,
          50843.48,
          51484.29
         ],
         "yaxis": "y5"
        },
        {
         "fill": "tonexty",
         "fillcolor": "rgba(255, 127, 14, 0.6)",
         "line": {
          "width": 0
         },
         "mode": "lines",
         "name": "ChronosZeroShot[bolt_base] CI (0.1-0.9)",
         "type": "scatter",
         "x": [
          "2023-01-01T00:00:00",
          "2023-02-01T00:00:00",
          "2023-03-01T00:00:00",
          "2023-04-01T00:00:00",
          "2023-05-01T00:00:00",
          "2023-06-01T00:00:00",
          "2023-07-01T00:00:00",
          "2023-08-01T00:00:00",
          "2023-09-01T00:00:00",
          "2023-10-01T00:00:00",
          "2023-11-01T00:00:00",
          "2023-12-01T00:00:00"
         ],
         "xaxis": "x5",
         "y": [
          40773.855,
          40939.984,
          42413.99,
          42515.113,
          43033.316,
          42422.816,
          43964.676,
          42943.555,
          44351.965,
          43284.82,
          45155.957,
          44082.45
         ],
         "yaxis": "y5"
        },
        {
         "line": {
          "color": "blue"
         },
         "name": "Validation (actual)",
         "type": "scatter",
         "x": [
          "2022-01-01T00:00:00",
          "2022-02-01T00:00:00",
          "2022-03-01T00:00:00",
          "2022-04-01T00:00:00",
          "2022-05-01T00:00:00",
          "2022-06-01T00:00:00",
          "2022-07-01T00:00:00",
          "2022-08-01T00:00:00",
          "2022-09-01T00:00:00",
          "2022-10-01T00:00:00",
          "2022-11-01T00:00:00",
          "2022-12-01T00:00:00",
          "2023-01-01T00:00:00"
         ],
         "xaxis": "x6",
         "y": [
          41595,
          42780.3,
          45071.2,
          41791.8,
          43118.9,
          43761.8,
          44465.4,
          43086.5,
          44928.5,
          42347,
          42427.1,
          56294.7,
          44793.4
         ],
         "yaxis": "y6"
        },
        {
         "line": {
          "color": "purple",
          "dash": "dot"
         },
         "name": "Validation (predicted)",
         "type": "scatter",
         "x": [
          "2022-01-01T00:00:00",
          "2022-02-01T00:00:00",
          "2022-03-01T00:00:00",
          "2022-04-01T00:00:00",
          "2022-05-01T00:00:00",
          "2022-06-01T00:00:00",
          "2022-07-01T00:00:00",
          "2022-08-01T00:00:00",
          "2022-09-01T00:00:00",
          "2022-10-01T00:00:00",
          "2022-11-01T00:00:00",
          "2022-12-01T00:00:00",
          "2023-01-01T00:00:00"
         ],
         "xaxis": "x6",
         "y": [
          43250.34,
          42571.223,
          42099.297,
          42680.67,
          42694.586,
          42418.824,
          43011.316,
          42468.742,
          42891.312,
          42992.492,
          43742.5,
          45440.15,
          49965.047
         ],
         "yaxis": "y6"
        },
        {
         "line": {
          "color": "#50C878"
         },
         "name": "Test (actual)",
         "type": "scatter",
         "x": [
          "2023-01-01T00:00:00",
          "2023-02-01T00:00:00",
          "2023-03-01T00:00:00",
          "2023-04-01T00:00:00",
          "2023-05-01T00:00:00",
          "2023-06-01T00:00:00",
          "2023-07-01T00:00:00",
          "2023-08-01T00:00:00",
          "2023-09-01T00:00:00",
          "2023-10-01T00:00:00",
          "2023-11-01T00:00:00",
          "2023-12-01T00:00:00"
         ],
         "xaxis": "x6",
         "y": [
          44793.4,
          47803.8,
          46774.3,
          46382.4,
          47973.6,
          49212.3,
          49191,
          47783.2,
          49573.2,
          48510,
          49450.5,
          63952.2
         ],
         "yaxis": "y6"
        },
        {
         "line": {
          "color": "#D70040",
          "dash": "dot"
         },
         "name": "ChronosZeroShot[bolt_tiny] Test (predicted)",
         "type": "scatter",
         "x": [
          "2023-01-01T00:00:00",
          "2023-02-01T00:00:00",
          "2023-03-01T00:00:00",
          "2023-04-01T00:00:00",
          "2023-05-01T00:00:00",
          "2023-06-01T00:00:00",
          "2023-07-01T00:00:00",
          "2023-08-01T00:00:00",
          "2023-09-01T00:00:00",
          "2023-10-01T00:00:00",
          "2023-11-01T00:00:00",
          "2023-12-01T00:00:00"
         ],
         "xaxis": "x6",
         "y": [
          49965.047,
          48241.656,
          45601.336,
          45123.45,
          45430.246,
          45347.367,
          47722.555,
          46872.207,
          48168.816,
          47646.785,
          48381.523,
          48119.715
         ],
         "yaxis": "y6"
        },
        {
         "line": {
          "width": 0
         },
         "mode": "lines",
         "showlegend": false,
         "type": "scatter",
         "x": [
          "2022-01-01T00:00:00",
          "2022-02-01T00:00:00",
          "2022-03-01T00:00:00",
          "2022-04-01T00:00:00",
          "2022-05-01T00:00:00",
          "2022-06-01T00:00:00",
          "2022-07-01T00:00:00",
          "2022-08-01T00:00:00",
          "2022-09-01T00:00:00",
          "2022-10-01T00:00:00",
          "2022-11-01T00:00:00",
          "2022-12-01T00:00:00",
          "2023-01-01T00:00:00"
         ],
         "xaxis": "x6",
         "y": [
          49254.39,
          49457.355,
          46043.617,
          47317.19,
          46074.793,
          46366.87,
          46083.1,
          46136.465,
          45653.773,
          46360.223,
          46565.902,
          49021.656,
          68590.96
         ],
         "yaxis": "y6"
        },
        {
         "fill": "tonexty",
         "fillcolor": "rgba(128, 0, 128, 0.6)",
         "line": {
          "width": 0
         },
         "mode": "lines",
         "name": "ChronosZeroShot[bolt_tiny] CI (0.1-0.9)",
         "type": "scatter",
         "x": [
          "2022-01-01T00:00:00",
          "2022-02-01T00:00:00",
          "2022-03-01T00:00:00",
          "2022-04-01T00:00:00",
          "2022-05-01T00:00:00",
          "2022-06-01T00:00:00",
          "2022-07-01T00:00:00",
          "2022-08-01T00:00:00",
          "2022-09-01T00:00:00",
          "2022-10-01T00:00:00",
          "2022-11-01T00:00:00",
          "2022-12-01T00:00:00",
          "2023-01-01T00:00:00"
         ],
         "xaxis": "x6",
         "y": [
          38588.504,
          37481.77,
          38782.527,
          38845.426,
          39685.812,
          38969.87,
          40085.58,
          39095.395,
          40378.504,
          40020.098,
          41134.645,
          42105.71,
          42222.242
         ],
         "yaxis": "y6"
        },
        {
         "line": {
          "width": 0
         },
         "mode": "lines",
         "showlegend": false,
         "type": "scatter",
         "x": [
          "2023-01-01T00:00:00",
          "2023-02-01T00:00:00",
          "2023-03-01T00:00:00",
          "2023-04-01T00:00:00",
          "2023-05-01T00:00:00",
          "2023-06-01T00:00:00",
          "2023-07-01T00:00:00",
          "2023-08-01T00:00:00",
          "2023-09-01T00:00:00",
          "2023-10-01T00:00:00",
          "2023-11-01T00:00:00",
          "2023-12-01T00:00:00"
         ],
         "xaxis": "x6",
         "y": [
          68590.96,
          68582.64,
          53035.875,
          53200.684,
          50937.598,
          51695.49,
          52815.17,
          52854.008,
          52382.414,
          52920.234,
          52932.676,
          53668.332
         ],
         "yaxis": "y6"
        },
        {
         "fill": "tonexty",
         "fillcolor": "rgba(255, 127, 14, 0.6)",
         "line": {
          "width": 0
         },
         "mode": "lines",
         "name": "ChronosZeroShot[bolt_tiny] CI (0.1-0.9)",
         "type": "scatter",
         "x": [
          "2023-01-01T00:00:00",
          "2023-02-01T00:00:00",
          "2023-03-01T00:00:00",
          "2023-04-01T00:00:00",
          "2023-05-01T00:00:00",
          "2023-06-01T00:00:00",
          "2023-07-01T00:00:00",
          "2023-08-01T00:00:00",
          "2023-09-01T00:00:00",
          "2023-10-01T00:00:00",
          "2023-11-01T00:00:00",
          "2023-12-01T00:00:00"
         ],
         "xaxis": "x6",
         "y": [
          42222.242,
          41069.426,
          42096.7,
          41831.586,
          42003.863,
          41659.36,
          44095.098,
          42859.492,
          44567.293,
          43312.066,
          44514.438,
          43519.73
         ],
         "yaxis": "y6"
        }
       ],
       "layout": {
        "annotations": [
         {
          "font": {
           "size": 16
          },
          "showarrow": false,
          "text": "ChronosFineTuned[bolt_base]",
          "x": 0.225,
          "xanchor": "center",
          "xref": "paper",
          "y": 1,
          "yanchor": "bottom",
          "yref": "paper"
         },
         {
          "font": {
           "size": 16
          },
          "showarrow": false,
          "text": "ChronosFineTuned[bolt_mini]",
          "x": 0.775,
          "xanchor": "center",
          "xref": "paper",
          "y": 1,
          "yanchor": "bottom",
          "yref": "paper"
         },
         {
          "font": {
           "size": 16
          },
          "showarrow": false,
          "text": "ChronosFineTuned[bolt_tiny]",
          "x": 0.225,
          "xanchor": "center",
          "xref": "paper",
          "y": 0.6333333333333333,
          "yanchor": "bottom",
          "yref": "paper"
         },
         {
          "font": {
           "size": 16
          },
          "showarrow": false,
          "text": "ChronosZeroShot[bolt_mini]",
          "x": 0.775,
          "xanchor": "center",
          "xref": "paper",
          "y": 0.6333333333333333,
          "yanchor": "bottom",
          "yref": "paper"
         },
         {
          "font": {
           "size": 16
          },
          "showarrow": false,
          "text": "ChronosZeroShot[bolt_base]",
          "x": 0.225,
          "xanchor": "center",
          "xref": "paper",
          "y": 0.26666666666666666,
          "yanchor": "bottom",
          "yref": "paper"
         },
         {
          "font": {
           "size": 16
          },
          "showarrow": false,
          "text": "ChronosZeroShot[bolt_tiny]",
          "x": 0.775,
          "xanchor": "center",
          "xref": "paper",
          "y": 0.26666666666666666,
          "yanchor": "bottom",
          "yref": "paper"
         }
        ],
        "height": 1200,
        "showlegend": true,
        "template": {
         "data": {
          "bar": [
           {
            "error_x": {
             "color": "#2a3f5f"
            },
            "error_y": {
             "color": "#2a3f5f"
            },
            "marker": {
             "line": {
              "color": "white",
              "width": 0.5
             },
             "pattern": {
              "fillmode": "overlay",
              "size": 10,
              "solidity": 0.2
             }
            },
            "type": "bar"
           }
          ],
          "barpolar": [
           {
            "marker": {
             "line": {
              "color": "white",
              "width": 0.5
             },
             "pattern": {
              "fillmode": "overlay",
              "size": 10,
              "solidity": 0.2
             }
            },
            "type": "barpolar"
           }
          ],
          "carpet": [
           {
            "aaxis": {
             "endlinecolor": "#2a3f5f",
             "gridcolor": "#C8D4E3",
             "linecolor": "#C8D4E3",
             "minorgridcolor": "#C8D4E3",
             "startlinecolor": "#2a3f5f"
            },
            "baxis": {
             "endlinecolor": "#2a3f5f",
             "gridcolor": "#C8D4E3",
             "linecolor": "#C8D4E3",
             "minorgridcolor": "#C8D4E3",
             "startlinecolor": "#2a3f5f"
            },
            "type": "carpet"
           }
          ],
          "choropleth": [
           {
            "colorbar": {
             "outlinewidth": 0,
             "ticks": ""
            },
            "type": "choropleth"
           }
          ],
          "contour": [
           {
            "colorbar": {
             "outlinewidth": 0,
             "ticks": ""
            },
            "colorscale": [
             [
              0,
              "#0d0887"
             ],
             [
              0.1111111111111111,
              "#46039f"
             ],
             [
              0.2222222222222222,
              "#7201a8"
             ],
             [
              0.3333333333333333,
              "#9c179e"
             ],
             [
              0.4444444444444444,
              "#bd3786"
             ],
             [
              0.5555555555555556,
              "#d8576b"
             ],
             [
              0.6666666666666666,
              "#ed7953"
             ],
             [
              0.7777777777777778,
              "#fb9f3a"
             ],
             [
              0.8888888888888888,
              "#fdca26"
             ],
             [
              1,
              "#f0f921"
             ]
            ],
            "type": "contour"
           }
          ],
          "contourcarpet": [
           {
            "colorbar": {
             "outlinewidth": 0,
             "ticks": ""
            },
            "type": "contourcarpet"
           }
          ],
          "heatmap": [
           {
            "colorbar": {
             "outlinewidth": 0,
             "ticks": ""
            },
            "colorscale": [
             [
              0,
              "#0d0887"
             ],
             [
              0.1111111111111111,
              "#46039f"
             ],
             [
              0.2222222222222222,
              "#7201a8"
             ],
             [
              0.3333333333333333,
              "#9c179e"
             ],
             [
              0.4444444444444444,
              "#bd3786"
             ],
             [
              0.5555555555555556,
              "#d8576b"
             ],
             [
              0.6666666666666666,
              "#ed7953"
             ],
             [
              0.7777777777777778,
              "#fb9f3a"
             ],
             [
              0.8888888888888888,
              "#fdca26"
             ],
             [
              1,
              "#f0f921"
             ]
            ],
            "type": "heatmap"
           }
          ],
          "heatmapgl": [
           {
            "colorbar": {
             "outlinewidth": 0,
             "ticks": ""
            },
            "colorscale": [
             [
              0,
              "#0d0887"
             ],
             [
              0.1111111111111111,
              "#46039f"
             ],
             [
              0.2222222222222222,
              "#7201a8"
             ],
             [
              0.3333333333333333,
              "#9c179e"
             ],
             [
              0.4444444444444444,
              "#bd3786"
             ],
             [
              0.5555555555555556,
              "#d8576b"
             ],
             [
              0.6666666666666666,
              "#ed7953"
             ],
             [
              0.7777777777777778,
              "#fb9f3a"
             ],
             [
              0.8888888888888888,
              "#fdca26"
             ],
             [
              1,
              "#f0f921"
             ]
            ],
            "type": "heatmapgl"
           }
          ],
          "histogram": [
           {
            "marker": {
             "pattern": {
              "fillmode": "overlay",
              "size": 10,
              "solidity": 0.2
             }
            },
            "type": "histogram"
           }
          ],
          "histogram2d": [
           {
            "colorbar": {
             "outlinewidth": 0,
             "ticks": ""
            },
            "colorscale": [
             [
              0,
              "#0d0887"
             ],
             [
              0.1111111111111111,
              "#46039f"
             ],
             [
              0.2222222222222222,
              "#7201a8"
             ],
             [
              0.3333333333333333,
              "#9c179e"
             ],
             [
              0.4444444444444444,
              "#bd3786"
             ],
             [
              0.5555555555555556,
              "#d8576b"
             ],
             [
              0.6666666666666666,
              "#ed7953"
             ],
             [
              0.7777777777777778,
              "#fb9f3a"
             ],
             [
              0.8888888888888888,
              "#fdca26"
             ],
             [
              1,
              "#f0f921"
             ]
            ],
            "type": "histogram2d"
           }
          ],
          "histogram2dcontour": [
           {
            "colorbar": {
             "outlinewidth": 0,
             "ticks": ""
            },
            "colorscale": [
             [
              0,
              "#0d0887"
             ],
             [
              0.1111111111111111,
              "#46039f"
             ],
             [
              0.2222222222222222,
              "#7201a8"
             ],
             [
              0.3333333333333333,
              "#9c179e"
             ],
             [
              0.4444444444444444,
              "#bd3786"
             ],
             [
              0.5555555555555556,
              "#d8576b"
             ],
             [
              0.6666666666666666,
              "#ed7953"
             ],
             [
              0.7777777777777778,
              "#fb9f3a"
             ],
             [
              0.8888888888888888,
              "#fdca26"
             ],
             [
              1,
              "#f0f921"
             ]
            ],
            "type": "histogram2dcontour"
           }
          ],
          "mesh3d": [
           {
            "colorbar": {
             "outlinewidth": 0,
             "ticks": ""
            },
            "type": "mesh3d"
           }
          ],
          "parcoords": [
           {
            "line": {
             "colorbar": {
              "outlinewidth": 0,
              "ticks": ""
             }
            },
            "type": "parcoords"
           }
          ],
          "pie": [
           {
            "automargin": true,
            "type": "pie"
           }
          ],
          "scatter": [
           {
            "fillpattern": {
             "fillmode": "overlay",
             "size": 10,
             "solidity": 0.2
            },
            "type": "scatter"
           }
          ],
          "scatter3d": [
           {
            "line": {
             "colorbar": {
              "outlinewidth": 0,
              "ticks": ""
             }
            },
            "marker": {
             "colorbar": {
              "outlinewidth": 0,
              "ticks": ""
             }
            },
            "type": "scatter3d"
           }
          ],
          "scattercarpet": [
           {
            "marker": {
             "colorbar": {
              "outlinewidth": 0,
              "ticks": ""
             }
            },
            "type": "scattercarpet"
           }
          ],
          "scattergeo": [
           {
            "marker": {
             "colorbar": {
              "outlinewidth": 0,
              "ticks": ""
             }
            },
            "type": "scattergeo"
           }
          ],
          "scattergl": [
           {
            "marker": {
             "colorbar": {
              "outlinewidth": 0,
              "ticks": ""
             }
            },
            "type": "scattergl"
           }
          ],
          "scattermapbox": [
           {
            "marker": {
             "colorbar": {
              "outlinewidth": 0,
              "ticks": ""
             }
            },
            "type": "scattermapbox"
           }
          ],
          "scatterpolar": [
           {
            "marker": {
             "colorbar": {
              "outlinewidth": 0,
              "ticks": ""
             }
            },
            "type": "scatterpolar"
           }
          ],
          "scatterpolargl": [
           {
            "marker": {
             "colorbar": {
              "outlinewidth": 0,
              "ticks": ""
             }
            },
            "type": "scatterpolargl"
           }
          ],
          "scatterternary": [
           {
            "marker": {
             "colorbar": {
              "outlinewidth": 0,
              "ticks": ""
             }
            },
            "type": "scatterternary"
           }
          ],
          "surface": [
           {
            "colorbar": {
             "outlinewidth": 0,
             "ticks": ""
            },
            "colorscale": [
             [
              0,
              "#0d0887"
             ],
             [
              0.1111111111111111,
              "#46039f"
             ],
             [
              0.2222222222222222,
              "#7201a8"
             ],
             [
              0.3333333333333333,
              "#9c179e"
             ],
             [
              0.4444444444444444,
              "#bd3786"
             ],
             [
              0.5555555555555556,
              "#d8576b"
             ],
             [
              0.6666666666666666,
              "#ed7953"
             ],
             [
              0.7777777777777778,
              "#fb9f3a"
             ],
             [
              0.8888888888888888,
              "#fdca26"
             ],
             [
              1,
              "#f0f921"
             ]
            ],
            "type": "surface"
           }
          ],
          "table": [
           {
            "cells": {
             "fill": {
              "color": "#EBF0F8"
             },
             "line": {
              "color": "white"
             }
            },
            "header": {
             "fill": {
              "color": "#C8D4E3"
             },
             "line": {
              "color": "white"
             }
            },
            "type": "table"
           }
          ]
         },
         "layout": {
          "annotationdefaults": {
           "arrowcolor": "#2a3f5f",
           "arrowhead": 0,
           "arrowwidth": 1
          },
          "autotypenumbers": "strict",
          "coloraxis": {
           "colorbar": {
            "outlinewidth": 0,
            "ticks": ""
           }
          },
          "colorscale": {
           "diverging": [
            [
             0,
             "#8e0152"
            ],
            [
             0.1,
             "#c51b7d"
            ],
            [
             0.2,
             "#de77ae"
            ],
            [
             0.3,
             "#f1b6da"
            ],
            [
             0.4,
             "#fde0ef"
            ],
            [
             0.5,
             "#f7f7f7"
            ],
            [
             0.6,
             "#e6f5d0"
            ],
            [
             0.7,
             "#b8e186"
            ],
            [
             0.8,
             "#7fbc41"
            ],
            [
             0.9,
             "#4d9221"
            ],
            [
             1,
             "#276419"
            ]
           ],
           "sequential": [
            [
             0,
             "#0d0887"
            ],
            [
             0.1111111111111111,
             "#46039f"
            ],
            [
             0.2222222222222222,
             "#7201a8"
            ],
            [
             0.3333333333333333,
             "#9c179e"
            ],
            [
             0.4444444444444444,
             "#bd3786"
            ],
            [
             0.5555555555555556,
             "#d8576b"
            ],
            [
             0.6666666666666666,
             "#ed7953"
            ],
            [
             0.7777777777777778,
             "#fb9f3a"
            ],
            [
             0.8888888888888888,
             "#fdca26"
            ],
            [
             1,
             "#f0f921"
            ]
           ],
           "sequentialminus": [
            [
             0,
             "#0d0887"
            ],
            [
             0.1111111111111111,
             "#46039f"
            ],
            [
             0.2222222222222222,
             "#7201a8"
            ],
            [
             0.3333333333333333,
             "#9c179e"
            ],
            [
             0.4444444444444444,
             "#bd3786"
            ],
            [
             0.5555555555555556,
             "#d8576b"
            ],
            [
             0.6666666666666666,
             "#ed7953"
            ],
            [
             0.7777777777777778,
             "#fb9f3a"
            ],
            [
             0.8888888888888888,
             "#fdca26"
            ],
            [
             1,
             "#f0f921"
            ]
           ]
          },
          "colorway": [
           "#636efa",
           "#EF553B",
           "#00cc96",
           "#ab63fa",
           "#FFA15A",
           "#19d3f3",
           "#FF6692",
           "#B6E880",
           "#FF97FF",
           "#FECB52"
          ],
          "font": {
           "color": "#2a3f5f"
          },
          "geo": {
           "bgcolor": "white",
           "lakecolor": "white",
           "landcolor": "white",
           "showlakes": true,
           "showland": true,
           "subunitcolor": "#C8D4E3"
          },
          "hoverlabel": {
           "align": "left"
          },
          "hovermode": "closest",
          "mapbox": {
           "style": "light"
          },
          "paper_bgcolor": "white",
          "plot_bgcolor": "white",
          "polar": {
           "angularaxis": {
            "gridcolor": "#EBF0F8",
            "linecolor": "#EBF0F8",
            "ticks": ""
           },
           "bgcolor": "white",
           "radialaxis": {
            "gridcolor": "#EBF0F8",
            "linecolor": "#EBF0F8",
            "ticks": ""
           }
          },
          "scene": {
           "xaxis": {
            "backgroundcolor": "white",
            "gridcolor": "#DFE8F3",
            "gridwidth": 2,
            "linecolor": "#EBF0F8",
            "showbackground": true,
            "ticks": "",
            "zerolinecolor": "#EBF0F8"
           },
           "yaxis": {
            "backgroundcolor": "white",
            "gridcolor": "#DFE8F3",
            "gridwidth": 2,
            "linecolor": "#EBF0F8",
            "showbackground": true,
            "ticks": "",
            "zerolinecolor": "#EBF0F8"
           },
           "zaxis": {
            "backgroundcolor": "white",
            "gridcolor": "#DFE8F3",
            "gridwidth": 2,
            "linecolor": "#EBF0F8",
            "showbackground": true,
            "ticks": "",
            "zerolinecolor": "#EBF0F8"
           }
          },
          "shapedefaults": {
           "line": {
            "color": "#2a3f5f"
           }
          },
          "ternary": {
           "aaxis": {
            "gridcolor": "#DFE8F3",
            "linecolor": "#A2B1C6",
            "ticks": ""
           },
           "baxis": {
            "gridcolor": "#DFE8F3",
            "linecolor": "#A2B1C6",
            "ticks": ""
           },
           "bgcolor": "white",
           "caxis": {
            "gridcolor": "#DFE8F3",
            "linecolor": "#A2B1C6",
            "ticks": ""
           }
          },
          "title": {
           "x": 0.05
          },
          "xaxis": {
           "automargin": true,
           "gridcolor": "#EBF0F8",
           "linecolor": "#EBF0F8",
           "ticks": "",
           "title": {
            "standoff": 15
           },
           "zerolinecolor": "#EBF0F8",
           "zerolinewidth": 2
          },
          "yaxis": {
           "automargin": true,
           "gridcolor": "#EBF0F8",
           "linecolor": "#EBF0F8",
           "ticks": "",
           "title": {
            "standoff": 15
           },
           "zerolinecolor": "#EBF0F8",
           "zerolinewidth": 2
          }
         }
        },
        "title": {
         "text": "Forecasts with Validation and Test Data"
        },
        "width": 1200,
        "xaxis": {
         "anchor": "y",
         "domain": [
          0,
          0.45
         ],
         "title": {
          "text": "Date"
         }
        },
        "xaxis2": {
         "anchor": "y2",
         "domain": [
          0.55,
          1
         ]
        },
        "xaxis3": {
         "anchor": "y3",
         "domain": [
          0,
          0.45
         ],
         "title": {
          "text": "Date"
         }
        },
        "xaxis4": {
         "anchor": "y4",
         "domain": [
          0.55,
          1
         ],
         "title": {
          "text": "Date"
         }
        },
        "xaxis5": {
         "anchor": "y5",
         "domain": [
          0,
          0.45
         ],
         "title": {
          "text": "Date"
         }
        },
        "xaxis6": {
         "anchor": "y6",
         "domain": [
          0.55,
          1
         ],
         "title": {
          "text": "Date"
         }
        },
        "yaxis": {
         "anchor": "x",
         "domain": [
          0.7333333333333334,
          1
         ],
         "title": {
          "text": "National Demand"
         }
        },
        "yaxis2": {
         "anchor": "x2",
         "domain": [
          0.7333333333333334,
          1
         ]
        },
        "yaxis3": {
         "anchor": "x3",
         "domain": [
          0.3666666666666667,
          0.6333333333333333
         ],
         "title": {
          "text": "National Demand"
         }
        },
        "yaxis4": {
         "anchor": "x4",
         "domain": [
          0.3666666666666667,
          0.6333333333333333
         ],
         "title": {
          "text": "National Demand"
         }
        },
        "yaxis5": {
         "anchor": "x5",
         "domain": [
          0,
          0.26666666666666666
         ],
         "title": {
          "text": "National Demand"
         }
        },
        "yaxis6": {
         "anchor": "x6",
         "domain": [
          0,
          0.26666666666666666
         ],
         "title": {
          "text": "National Demand"
         }
        }
       }
      }
     },
     "metadata": {},
     "output_type": "display_data"
    }
   ],
   "source": [
    "plot_forecasts_val_test(\n",
    "        val_df=val_df_,\n",
    "        test_df=test_df_,\n",
    "        val_predictions=all_val_models_predictions_,\n",
    "        test_predictions=all_test_models_predictions,\n",
    "        height=height,\n",
    "        width=width,\n",
    "        item_id=item_id,\n",
    "    )"
   ]
  },
  {
   "cell_type": "code",
   "execution_count": 11,
   "metadata": {},
   "outputs": [],
   "source": [
    "all_codes = test_df['code'].unique()"
   ]
  },
  {
   "cell_type": "code",
   "execution_count": 12,
   "metadata": {},
   "outputs": [
    {
     "data": {
      "text/plain": [
       "{'ChronosFineTuned[bolt_base]': {'MSE': 28839614.005342226,\n",
       "  'MAE': 3031.4103633567324,\n",
       "  'MAPE': 3.438882710878783,\n",
       "  'MASE': 0.6847958153231875,\n",
       "  'SQL': 1019.7864117067984},\n",
       " 'ChronosFineTuned[bolt_mini]': {'MSE': 29089993.32438096,\n",
       "  'MAE': 3297.7547389228557,\n",
       "  'MAPE': 3.6726060825672873,\n",
       "  'MASE': 0.8625183126323995,\n",
       "  'SQL': 1111.6487246502613},\n",
       " 'ChronosFineTuned[bolt_tiny]': {'MSE': 37529104.624350555,\n",
       "  'MAE': 3547.298096410778,\n",
       "  'MAPE': 3.8709771799128396,\n",
       "  'MASE': 0.9200280356506281,\n",
       "  'SQL': 1162.9517173975946},\n",
       " 'ChronosZeroShot[bolt_mini]': {'MSE': 172869152.33298156,\n",
       "  'MAE': 7677.028133963618,\n",
       "  'MAPE': 8.436172229836057,\n",
       "  'MASE': 3.25467089886358,\n",
       "  'SQL': 2660.8140362381737},\n",
       " 'ChronosZeroShot[bolt_base]': {'MSE': 171646070.30715945,\n",
       "  'MAE': 7400.356839711655,\n",
       "  'MAPE': 8.007233537037257,\n",
       "  'MASE': 3.323825645478696,\n",
       "  'SQL': 2621.691984167421},\n",
       " 'ChronosZeroShot[bolt_tiny]': {'MSE': 193944724.8700111,\n",
       "  'MAE': 8059.607305819744,\n",
       "  'MAPE': 8.802977419272855,\n",
       "  'MASE': 2.8658366050062978,\n",
       "  'SQL': 2742.64339695929}}"
      ]
     },
     "execution_count": 12,
     "metadata": {},
     "output_type": "execute_result"
    }
   ],
   "source": [
    "all_models_metrics = {}\n",
    "\n",
    "for model in all_test_models_predictions.keys():\n",
    "    metrics_df = []\n",
    "    for code in all_codes:\n",
    "        pred_df = pd.concat([\n",
    "            all_test_models_predictions[model]\n",
    "            .loc[code][[\"0.1\", \"0.5\", \"0.9\"]]\n",
    "            .reset_index(drop=True),\n",
    "            test_df[test_df[\"code\"].eq(code)][[\"nominal_wage\"]].reset_index(drop=True),\n",
    "        ], axis=1)\n",
    "        pred_df = pd.DataFrame(pred_df)\n",
    "\n",
    "        metrics_df.append(calculate_sklearn_metrics(pred_df, target_column='nominal_wage'))\n",
    "\n",
    "    metrics_dict = pd.DataFrame(metrics_df).mean().to_dict()\n",
    "\n",
    "    all_models_metrics[model] = metrics_dict\n",
    "all_models_metrics"
   ]
  },
  {
   "cell_type": "code",
   "execution_count": 13,
   "metadata": {},
   "outputs": [
    {
     "name": "stdout",
     "output_type": "stream",
     "text": [
      "🏃 View run ChronosFineTuned[bolt_base]_AutoGluon_all_Chronos_versions at: http://127.0.0.1:5000/#/experiments/169882278836627198/runs/7f3535c231cd42c1b964203018ed01ae\n",
      "🧪 View experiment at: http://127.0.0.1:5000/#/experiments/169882278836627198\n",
      "🏃 View run ChronosFineTuned[bolt_mini]_AutoGluon_all_Chronos_versions at: http://127.0.0.1:5000/#/experiments/169882278836627198/runs/cb0823fd10534eb89b0332d1ca0561c8\n",
      "🧪 View experiment at: http://127.0.0.1:5000/#/experiments/169882278836627198\n",
      "🏃 View run ChronosFineTuned[bolt_tiny]_AutoGluon_all_Chronos_versions at: http://127.0.0.1:5000/#/experiments/169882278836627198/runs/c171edc650c440df82c7cfb423ab43b9\n",
      "🧪 View experiment at: http://127.0.0.1:5000/#/experiments/169882278836627198\n",
      "🏃 View run ChronosZeroShot[bolt_mini]_AutoGluon_all_Chronos_versions at: http://127.0.0.1:5000/#/experiments/169882278836627198/runs/fb26dba3350542199a5e09dc78452e83\n",
      "🧪 View experiment at: http://127.0.0.1:5000/#/experiments/169882278836627198\n",
      "🏃 View run ChronosZeroShot[bolt_base]_AutoGluon_all_Chronos_versions at: http://127.0.0.1:5000/#/experiments/169882278836627198/runs/7ad9bb1f8bb54164a61e8a6663f4314c\n",
      "🧪 View experiment at: http://127.0.0.1:5000/#/experiments/169882278836627198\n",
      "🏃 View run ChronosZeroShot[bolt_tiny]_AutoGluon_all_Chronos_versions at: http://127.0.0.1:5000/#/experiments/169882278836627198/runs/c89ae97414674e1285b6e94413559167\n",
      "🧪 View experiment at: http://127.0.0.1:5000/#/experiments/169882278836627198\n"
     ]
    }
   ],
   "source": [
    "prefix = 'AutoGluon_all_Chronos_versions'\n",
    "\n",
    "for k, metrics_ in all_models_metrics.items():\n",
    "    run_name = f\"{k}_{prefix}\"\n",
    "\n",
    "    with mlflow.start_run(run_name=run_name):\n",
    "        mlflow.log_metrics(metrics_)\n",
    "        mlflow.log_param(\"model_name\", model_name)\n",
    "\n",
    "        mlflow.set_tag(\"prefix\", prefix)"
   ]
  }
 ],
 "metadata": {
  "kernelspec": {
   "display_name": "base",
   "language": "python",
   "name": "python3"
  },
  "language_info": {
   "codemirror_mode": {
    "name": "ipython",
    "version": 3
   },
   "file_extension": ".py",
   "mimetype": "text/x-python",
   "name": "python",
   "nbconvert_exporter": "python",
   "pygments_lexer": "ipython3",
   "version": "3.12.7"
  }
 },
 "nbformat": 4,
 "nbformat_minor": 2
}
